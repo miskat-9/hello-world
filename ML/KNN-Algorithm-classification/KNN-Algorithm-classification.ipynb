{
 "cells": [
  {
   "cell_type": "code",
   "execution_count": 1,
   "id": "61d5bc40",
   "metadata": {},
   "outputs": [],
   "source": [
    "import pandas as pd\n",
    "import numpy as np\n",
    "import matplotlib.pyplot as plt "
   ]
  },
  {
   "cell_type": "code",
   "execution_count": 106,
   "id": "f8d34297",
   "metadata": {},
   "outputs": [],
   "source": [
    "import warnings as w\n",
    "w.filterwarnings('ignore')"
   ]
  },
  {
   "cell_type": "code",
   "execution_count": 2,
   "id": "78ec5951",
   "metadata": {},
   "outputs": [
    {
     "data": {
      "text/html": [
       "<div>\n",
       "<style scoped>\n",
       "    .dataframe tbody tr th:only-of-type {\n",
       "        vertical-align: middle;\n",
       "    }\n",
       "\n",
       "    .dataframe tbody tr th {\n",
       "        vertical-align: top;\n",
       "    }\n",
       "\n",
       "    .dataframe thead th {\n",
       "        text-align: right;\n",
       "    }\n",
       "</style>\n",
       "<table border=\"1\" class=\"dataframe\">\n",
       "  <thead>\n",
       "    <tr style=\"text-align: right;\">\n",
       "      <th></th>\n",
       "      <th>Gender</th>\n",
       "      <th>Height</th>\n",
       "      <th>Weight</th>\n",
       "    </tr>\n",
       "  </thead>\n",
       "  <tbody>\n",
       "    <tr>\n",
       "      <th>0</th>\n",
       "      <td>Male</td>\n",
       "      <td>73.847017</td>\n",
       "      <td>241.893563</td>\n",
       "    </tr>\n",
       "    <tr>\n",
       "      <th>1</th>\n",
       "      <td>Male</td>\n",
       "      <td>68.781904</td>\n",
       "      <td>162.310473</td>\n",
       "    </tr>\n",
       "    <tr>\n",
       "      <th>2</th>\n",
       "      <td>Male</td>\n",
       "      <td>74.110105</td>\n",
       "      <td>212.740856</td>\n",
       "    </tr>\n",
       "    <tr>\n",
       "      <th>3</th>\n",
       "      <td>Male</td>\n",
       "      <td>71.730978</td>\n",
       "      <td>220.042470</td>\n",
       "    </tr>\n",
       "    <tr>\n",
       "      <th>4</th>\n",
       "      <td>Male</td>\n",
       "      <td>69.881796</td>\n",
       "      <td>206.349801</td>\n",
       "    </tr>\n",
       "  </tbody>\n",
       "</table>\n",
       "</div>"
      ],
      "text/plain": [
       "  Gender     Height      Weight\n",
       "0   Male  73.847017  241.893563\n",
       "1   Male  68.781904  162.310473\n",
       "2   Male  74.110105  212.740856\n",
       "3   Male  71.730978  220.042470\n",
       "4   Male  69.881796  206.349801"
      ]
     },
     "execution_count": 2,
     "metadata": {},
     "output_type": "execute_result"
    }
   ],
   "source": [
    "df= pd.read_csv('weight-height.csv')\n",
    "df.head()"
   ]
  },
  {
   "cell_type": "code",
   "execution_count": 3,
   "id": "313d9f4d",
   "metadata": {},
   "outputs": [
    {
     "name": "stdout",
     "output_type": "stream",
     "text": [
      "<class 'pandas.core.frame.DataFrame'>\n",
      "RangeIndex: 8555 entries, 0 to 8554\n",
      "Data columns (total 3 columns):\n",
      " #   Column  Non-Null Count  Dtype  \n",
      "---  ------  --------------  -----  \n",
      " 0   Gender  8555 non-null   object \n",
      " 1   Height  8555 non-null   float64\n",
      " 2   Weight  8555 non-null   float64\n",
      "dtypes: float64(2), object(1)\n",
      "memory usage: 200.6+ KB\n"
     ]
    }
   ],
   "source": [
    "df.info()"
   ]
  },
  {
   "cell_type": "code",
   "execution_count": 4,
   "id": "f72e8b6b",
   "metadata": {},
   "outputs": [],
   "source": [
    "x= df.drop('Weight', axis=1)\n",
    "y=df['Weight']"
   ]
  },
  {
   "cell_type": "code",
   "execution_count": 5,
   "id": "79dd7150",
   "metadata": {},
   "outputs": [
    {
     "data": {
      "text/html": [
       "<div>\n",
       "<style scoped>\n",
       "    .dataframe tbody tr th:only-of-type {\n",
       "        vertical-align: middle;\n",
       "    }\n",
       "\n",
       "    .dataframe tbody tr th {\n",
       "        vertical-align: top;\n",
       "    }\n",
       "\n",
       "    .dataframe thead th {\n",
       "        text-align: right;\n",
       "    }\n",
       "</style>\n",
       "<table border=\"1\" class=\"dataframe\">\n",
       "  <thead>\n",
       "    <tr style=\"text-align: right;\">\n",
       "      <th></th>\n",
       "      <th>Gender</th>\n",
       "      <th>Height</th>\n",
       "    </tr>\n",
       "  </thead>\n",
       "  <tbody>\n",
       "    <tr>\n",
       "      <th>0</th>\n",
       "      <td>Male</td>\n",
       "      <td>73.847017</td>\n",
       "    </tr>\n",
       "    <tr>\n",
       "      <th>1</th>\n",
       "      <td>Male</td>\n",
       "      <td>68.781904</td>\n",
       "    </tr>\n",
       "    <tr>\n",
       "      <th>2</th>\n",
       "      <td>Male</td>\n",
       "      <td>74.110105</td>\n",
       "    </tr>\n",
       "    <tr>\n",
       "      <th>3</th>\n",
       "      <td>Male</td>\n",
       "      <td>71.730978</td>\n",
       "    </tr>\n",
       "    <tr>\n",
       "      <th>4</th>\n",
       "      <td>Male</td>\n",
       "      <td>69.881796</td>\n",
       "    </tr>\n",
       "  </tbody>\n",
       "</table>\n",
       "</div>"
      ],
      "text/plain": [
       "  Gender     Height\n",
       "0   Male  73.847017\n",
       "1   Male  68.781904\n",
       "2   Male  74.110105\n",
       "3   Male  71.730978\n",
       "4   Male  69.881796"
      ]
     },
     "execution_count": 5,
     "metadata": {},
     "output_type": "execute_result"
    }
   ],
   "source": [
    "x.head()"
   ]
  },
  {
   "cell_type": "code",
   "execution_count": 6,
   "id": "907f48f0",
   "metadata": {},
   "outputs": [
    {
     "data": {
      "text/plain": [
       "0    241.893563\n",
       "1    162.310473\n",
       "2    212.740856\n",
       "3    220.042470\n",
       "4    206.349801\n",
       "Name: Weight, dtype: float64"
      ]
     },
     "execution_count": 6,
     "metadata": {},
     "output_type": "execute_result"
    }
   ],
   "source": [
    "y.head()"
   ]
  },
  {
   "cell_type": "code",
   "execution_count": 7,
   "id": "31b76985",
   "metadata": {},
   "outputs": [
    {
     "data": {
      "text/plain": [
       "Gender    0\n",
       "Height    0\n",
       "Weight    0\n",
       "dtype: int64"
      ]
     },
     "execution_count": 7,
     "metadata": {},
     "output_type": "execute_result"
    }
   ],
   "source": [
    "df.isnull().sum() "
   ]
  },
  {
   "cell_type": "markdown",
   "id": "4a7a9f29",
   "metadata": {},
   "source": [
    "# convert categorical data to numeric data"
   ]
  },
  {
   "cell_type": "code",
   "execution_count": 8,
   "id": "d3651c3d",
   "metadata": {},
   "outputs": [],
   "source": [
    "# label encoding\n",
    "from sklearn.preprocessing import LabelEncoder"
   ]
  },
  {
   "cell_type": "code",
   "execution_count": 9,
   "id": "7ff8d5d5",
   "metadata": {},
   "outputs": [],
   "source": [
    "le = LabelEncoder()"
   ]
  },
  {
   "cell_type": "code",
   "execution_count": 10,
   "id": "eed3deef",
   "metadata": {},
   "outputs": [
    {
     "data": {
      "text/html": [
       "<div>\n",
       "<style scoped>\n",
       "    .dataframe tbody tr th:only-of-type {\n",
       "        vertical-align: middle;\n",
       "    }\n",
       "\n",
       "    .dataframe tbody tr th {\n",
       "        vertical-align: top;\n",
       "    }\n",
       "\n",
       "    .dataframe thead th {\n",
       "        text-align: right;\n",
       "    }\n",
       "</style>\n",
       "<table border=\"1\" class=\"dataframe\">\n",
       "  <thead>\n",
       "    <tr style=\"text-align: right;\">\n",
       "      <th></th>\n",
       "      <th>Gender</th>\n",
       "      <th>Height</th>\n",
       "      <th>Weight</th>\n",
       "    </tr>\n",
       "  </thead>\n",
       "  <tbody>\n",
       "    <tr>\n",
       "      <th>0</th>\n",
       "      <td>1</td>\n",
       "      <td>73.847017</td>\n",
       "      <td>241.893563</td>\n",
       "    </tr>\n",
       "    <tr>\n",
       "      <th>1</th>\n",
       "      <td>1</td>\n",
       "      <td>68.781904</td>\n",
       "      <td>162.310473</td>\n",
       "    </tr>\n",
       "    <tr>\n",
       "      <th>2</th>\n",
       "      <td>1</td>\n",
       "      <td>74.110105</td>\n",
       "      <td>212.740856</td>\n",
       "    </tr>\n",
       "    <tr>\n",
       "      <th>3</th>\n",
       "      <td>1</td>\n",
       "      <td>71.730978</td>\n",
       "      <td>220.042470</td>\n",
       "    </tr>\n",
       "    <tr>\n",
       "      <th>4</th>\n",
       "      <td>1</td>\n",
       "      <td>69.881796</td>\n",
       "      <td>206.349801</td>\n",
       "    </tr>\n",
       "  </tbody>\n",
       "</table>\n",
       "</div>"
      ],
      "text/plain": [
       "   Gender     Height      Weight\n",
       "0       1  73.847017  241.893563\n",
       "1       1  68.781904  162.310473\n",
       "2       1  74.110105  212.740856\n",
       "3       1  71.730978  220.042470\n",
       "4       1  69.881796  206.349801"
      ]
     },
     "execution_count": 10,
     "metadata": {},
     "output_type": "execute_result"
    }
   ],
   "source": [
    "df.Gender = le.fit_transform(df['Gender'])\n",
    "df.head()"
   ]
  },
  {
   "cell_type": "code",
   "execution_count": 11,
   "id": "af848f18",
   "metadata": {},
   "outputs": [
    {
     "data": {
      "text/plain": [
       "array([1, 0])"
      ]
     },
     "execution_count": 11,
     "metadata": {},
     "output_type": "execute_result"
    }
   ],
   "source": [
    "df.Gender.unique() # Male = 1 , Female = 0"
   ]
  },
  {
   "cell_type": "code",
   "execution_count": 12,
   "id": "b07a9604",
   "metadata": {},
   "outputs": [],
   "source": [
    "x = df.drop('Weight',axis=1)\n",
    "y = df.Weight"
   ]
  },
  {
   "cell_type": "code",
   "execution_count": 13,
   "id": "cc927e2c",
   "metadata": {},
   "outputs": [
    {
     "data": {
      "text/plain": [
       "(8555, 2)"
      ]
     },
     "execution_count": 13,
     "metadata": {},
     "output_type": "execute_result"
    }
   ],
   "source": [
    "x.shape"
   ]
  },
  {
   "cell_type": "code",
   "execution_count": 14,
   "id": "f1a32db0",
   "metadata": {},
   "outputs": [
    {
     "data": {
      "text/plain": [
       "(8555,)"
      ]
     },
     "execution_count": 14,
     "metadata": {},
     "output_type": "execute_result"
    }
   ],
   "source": [
    "y.shape"
   ]
  },
  {
   "cell_type": "markdown",
   "id": "375ee97f",
   "metadata": {},
   "source": [
    "# Train test Split for this data"
   ]
  },
  {
   "cell_type": "code",
   "execution_count": 15,
   "id": "712bd078",
   "metadata": {},
   "outputs": [],
   "source": [
    "from sklearn.model_selection import train_test_split"
   ]
  },
  {
   "cell_type": "code",
   "execution_count": 16,
   "id": "3e1b5734",
   "metadata": {},
   "outputs": [],
   "source": [
    "x_train,x_test,y_train,y_test = train_test_split(x,y,test_size=.3,random_state=51)"
   ]
  },
  {
   "cell_type": "code",
   "execution_count": 17,
   "id": "4129d960",
   "metadata": {},
   "outputs": [
    {
     "data": {
      "text/html": [
       "<div>\n",
       "<style scoped>\n",
       "    .dataframe tbody tr th:only-of-type {\n",
       "        vertical-align: middle;\n",
       "    }\n",
       "\n",
       "    .dataframe tbody tr th {\n",
       "        vertical-align: top;\n",
       "    }\n",
       "\n",
       "    .dataframe thead th {\n",
       "        text-align: right;\n",
       "    }\n",
       "</style>\n",
       "<table border=\"1\" class=\"dataframe\">\n",
       "  <thead>\n",
       "    <tr style=\"text-align: right;\">\n",
       "      <th></th>\n",
       "      <th>Gender</th>\n",
       "      <th>Height</th>\n",
       "    </tr>\n",
       "  </thead>\n",
       "  <tbody>\n",
       "    <tr>\n",
       "      <th>4502</th>\n",
       "      <td>1</td>\n",
       "      <td>66.710391</td>\n",
       "    </tr>\n",
       "    <tr>\n",
       "      <th>1430</th>\n",
       "      <td>1</td>\n",
       "      <td>72.611327</td>\n",
       "    </tr>\n",
       "    <tr>\n",
       "      <th>195</th>\n",
       "      <td>1</td>\n",
       "      <td>72.294743</td>\n",
       "    </tr>\n",
       "    <tr>\n",
       "      <th>7451</th>\n",
       "      <td>0</td>\n",
       "      <td>69.434348</td>\n",
       "    </tr>\n",
       "    <tr>\n",
       "      <th>1550</th>\n",
       "      <td>1</td>\n",
       "      <td>67.396020</td>\n",
       "    </tr>\n",
       "  </tbody>\n",
       "</table>\n",
       "</div>"
      ],
      "text/plain": [
       "      Gender     Height\n",
       "4502       1  66.710391\n",
       "1430       1  72.611327\n",
       "195        1  72.294743\n",
       "7451       0  69.434348\n",
       "1550       1  67.396020"
      ]
     },
     "execution_count": 17,
     "metadata": {},
     "output_type": "execute_result"
    }
   ],
   "source": [
    "x_train.head()"
   ]
  },
  {
   "cell_type": "code",
   "execution_count": 18,
   "id": "0a630d6a",
   "metadata": {},
   "outputs": [
    {
     "data": {
      "text/plain": [
       "4502    174.990112\n",
       "1430    200.633688\n",
       "195     208.474866\n",
       "7451    162.552097\n",
       "1550    180.659638\n",
       "Name: Weight, dtype: float64"
      ]
     },
     "execution_count": 18,
     "metadata": {},
     "output_type": "execute_result"
    }
   ],
   "source": [
    "y_train.head()"
   ]
  },
  {
   "cell_type": "code",
   "execution_count": 19,
   "id": "548aa812",
   "metadata": {},
   "outputs": [
    {
     "data": {
      "text/html": [
       "<div>\n",
       "<style scoped>\n",
       "    .dataframe tbody tr th:only-of-type {\n",
       "        vertical-align: middle;\n",
       "    }\n",
       "\n",
       "    .dataframe tbody tr th {\n",
       "        vertical-align: top;\n",
       "    }\n",
       "\n",
       "    .dataframe thead th {\n",
       "        text-align: right;\n",
       "    }\n",
       "</style>\n",
       "<table border=\"1\" class=\"dataframe\">\n",
       "  <thead>\n",
       "    <tr style=\"text-align: right;\">\n",
       "      <th></th>\n",
       "      <th>Gender</th>\n",
       "      <th>Height</th>\n",
       "    </tr>\n",
       "  </thead>\n",
       "  <tbody>\n",
       "    <tr>\n",
       "      <th>341</th>\n",
       "      <td>1</td>\n",
       "      <td>64.459814</td>\n",
       "    </tr>\n",
       "    <tr>\n",
       "      <th>8528</th>\n",
       "      <td>0</td>\n",
       "      <td>65.508695</td>\n",
       "    </tr>\n",
       "    <tr>\n",
       "      <th>3970</th>\n",
       "      <td>1</td>\n",
       "      <td>70.225090</td>\n",
       "    </tr>\n",
       "    <tr>\n",
       "      <th>5025</th>\n",
       "      <td>0</td>\n",
       "      <td>64.527182</td>\n",
       "    </tr>\n",
       "    <tr>\n",
       "      <th>5605</th>\n",
       "      <td>0</td>\n",
       "      <td>60.276262</td>\n",
       "    </tr>\n",
       "  </tbody>\n",
       "</table>\n",
       "</div>"
      ],
      "text/plain": [
       "      Gender     Height\n",
       "341        1  64.459814\n",
       "8528       0  65.508695\n",
       "3970       1  70.225090\n",
       "5025       0  64.527182\n",
       "5605       0  60.276262"
      ]
     },
     "execution_count": 19,
     "metadata": {},
     "output_type": "execute_result"
    }
   ],
   "source": [
    "x_test.head()"
   ]
  },
  {
   "cell_type": "code",
   "execution_count": 20,
   "id": "a08f23d4",
   "metadata": {},
   "outputs": [
    {
     "data": {
      "text/plain": [
       "341     161.378773\n",
       "8528    164.442778\n",
       "3970    196.949126\n",
       "5025    132.680868\n",
       "5605     92.037943\n",
       "Name: Weight, dtype: float64"
      ]
     },
     "execution_count": 20,
     "metadata": {},
     "output_type": "execute_result"
    }
   ],
   "source": [
    "y_test.head()"
   ]
  },
  {
   "cell_type": "markdown",
   "id": "c602cd08",
   "metadata": {},
   "source": [
    "# Model fitting with LinearRegression"
   ]
  },
  {
   "cell_type": "code",
   "execution_count": 21,
   "id": "6af7acbd",
   "metadata": {},
   "outputs": [],
   "source": [
    "from sklearn.linear_model import LinearRegression"
   ]
  },
  {
   "cell_type": "code",
   "execution_count": 22,
   "id": "ef92859d",
   "metadata": {},
   "outputs": [],
   "source": [
    "lr = LinearRegression()"
   ]
  },
  {
   "cell_type": "code",
   "execution_count": 23,
   "id": "906df2df",
   "metadata": {},
   "outputs": [
    {
     "data": {
      "text/plain": [
       "LinearRegression()"
      ]
     },
     "execution_count": 23,
     "metadata": {},
     "output_type": "execute_result"
    }
   ],
   "source": [
    "\n",
    "lr.fit(x_train,y_train)"
   ]
  },
  {
   "cell_type": "code",
   "execution_count": 24,
   "id": "ce598aa6",
   "metadata": {},
   "outputs": [
    {
     "data": {
      "text/plain": [
       "array([19.26982969,  5.97408518])"
      ]
     },
     "execution_count": 24,
     "metadata": {},
     "output_type": "execute_result"
    }
   ],
   "source": [
    "lr.coef_"
   ]
  },
  {
   "cell_type": "code",
   "execution_count": 25,
   "id": "88d3de14",
   "metadata": {},
   "outputs": [
    {
     "data": {
      "text/plain": [
       "-244.71820920842433"
      ]
     },
     "execution_count": 25,
     "metadata": {},
     "output_type": "execute_result"
    }
   ],
   "source": [
    "lr.intercept_"
   ]
  },
  {
   "cell_type": "code",
   "execution_count": 26,
   "id": "fd248dcf",
   "metadata": {},
   "outputs": [
    {
     "data": {
      "text/plain": [
       "array([159.64004118, 146.63631353, 194.08228831, ..., 164.95980828,\n",
       "       191.30164009, 152.03964112])"
      ]
     },
     "execution_count": 26,
     "metadata": {},
     "output_type": "execute_result"
    }
   ],
   "source": [
    "pred = lr.predict(x_test)\n",
    "pred"
   ]
  },
  {
   "cell_type": "code",
   "execution_count": 27,
   "id": "779e6d93",
   "metadata": {},
   "outputs": [
    {
     "data": {
      "text/plain": [
       "0.8999461748636963"
      ]
     },
     "execution_count": 27,
     "metadata": {},
     "output_type": "execute_result"
    }
   ],
   "source": [
    "lr.score(x,y)"
   ]
  },
  {
   "cell_type": "code",
   "execution_count": 28,
   "id": "bbed1475",
   "metadata": {},
   "outputs": [
    {
     "data": {
      "text/plain": [
       "0.9022365137062832"
      ]
     },
     "execution_count": 28,
     "metadata": {},
     "output_type": "execute_result"
    }
   ],
   "source": [
    "lr.score(x_train, y_train)"
   ]
  },
  {
   "cell_type": "code",
   "execution_count": 29,
   "id": "80f48339",
   "metadata": {},
   "outputs": [
    {
     "data": {
      "text/plain": [
       "0.8944599600824594"
      ]
     },
     "execution_count": 29,
     "metadata": {},
     "output_type": "execute_result"
    }
   ],
   "source": [
    "lr.score(x_test,y_test)"
   ]
  },
  {
   "cell_type": "code",
   "execution_count": 30,
   "id": "8e660566",
   "metadata": {},
   "outputs": [],
   "source": [
    "# Evaluate Model (Accuracy, MSE, MAE)\n",
    "from sklearn.metrics import mean_absolute_error,mean_squared_error\n",
    "accuracy = lr.score(x_test,y_test) # Accuracy\n",
    "mse = mean_squared_error(y_test,pred)\n",
    "mae = mean_absolute_error(y_test,pred)"
   ]
  },
  {
   "cell_type": "code",
   "execution_count": 31,
   "id": "3b7bfc63",
   "metadata": {},
   "outputs": [
    {
     "data": {
      "text/plain": [
       "0.8944599600824594"
      ]
     },
     "execution_count": 31,
     "metadata": {},
     "output_type": "execute_result"
    }
   ],
   "source": [
    "accuracy"
   ]
  },
  {
   "cell_type": "code",
   "execution_count": 32,
   "id": "debd420e",
   "metadata": {},
   "outputs": [
    {
     "data": {
      "text/plain": [
       "106.4179733000685"
      ]
     },
     "execution_count": 32,
     "metadata": {},
     "output_type": "execute_result"
    }
   ],
   "source": [
    "mse"
   ]
  },
  {
   "cell_type": "code",
   "execution_count": 33,
   "id": "1deea1c5",
   "metadata": {},
   "outputs": [
    {
     "data": {
      "text/plain": [
       "8.119090042562583"
      ]
     },
     "execution_count": 33,
     "metadata": {},
     "output_type": "execute_result"
    }
   ],
   "source": [
    "mae "
   ]
  },
  {
   "cell_type": "markdown",
   "id": "e27bcee2",
   "metadata": {},
   "source": [
    "# KNN ALGORITHM or KNN Regressor"
   ]
  },
  {
   "cell_type": "code",
   "execution_count": 34,
   "id": "bcc73c97",
   "metadata": {},
   "outputs": [],
   "source": [
    "from sklearn.neighbors import KNeighborsRegressor"
   ]
  },
  {
   "cell_type": "code",
   "execution_count": 35,
   "id": "27c6257c",
   "metadata": {},
   "outputs": [],
   "source": [
    "knn= KNeighborsRegressor()"
   ]
  },
  {
   "cell_type": "code",
   "execution_count": 36,
   "id": "9bb22eae",
   "metadata": {},
   "outputs": [
    {
     "data": {
      "text/plain": [
       "KNeighborsRegressor()"
      ]
     },
     "execution_count": 36,
     "metadata": {},
     "output_type": "execute_result"
    }
   ],
   "source": [
    "knn.fit(x_train,y_train)"
   ]
  },
  {
   "cell_type": "code",
   "execution_count": 37,
   "id": "b5b88a9a",
   "metadata": {},
   "outputs": [
    {
     "data": {
      "text/plain": [
       "array([156.9582738 , 158.09850914, 194.95924008, ..., 163.53551284,\n",
       "       186.97362364, 145.97548388])"
      ]
     },
     "execution_count": 37,
     "metadata": {},
     "output_type": "execute_result"
    }
   ],
   "source": [
    "knn.predict(x_test)"
   ]
  },
  {
   "cell_type": "code",
   "execution_count": 38,
   "id": "d0f09238",
   "metadata": {},
   "outputs": [
    {
     "data": {
      "text/plain": [
       "0.8733063390964783"
      ]
     },
     "execution_count": 38,
     "metadata": {},
     "output_type": "execute_result"
    }
   ],
   "source": [
    "knn.score(x_test,y_test)"
   ]
  },
  {
   "cell_type": "code",
   "execution_count": 39,
   "id": "23c15b44",
   "metadata": {},
   "outputs": [
    {
     "data": {
      "text/plain": [
       "0.9206865459994193"
      ]
     },
     "execution_count": 39,
     "metadata": {},
     "output_type": "execute_result"
    }
   ],
   "source": [
    "knn.score(x_train, y_train)"
   ]
  },
  {
   "cell_type": "code",
   "execution_count": 40,
   "id": "9bed7b9b",
   "metadata": {},
   "outputs": [
    {
     "data": {
      "text/plain": [
       "0.9067252213109351"
      ]
     },
     "execution_count": 40,
     "metadata": {},
     "output_type": "execute_result"
    }
   ],
   "source": [
    "knn.score(x,y)"
   ]
  },
  {
   "cell_type": "code",
   "execution_count": 41,
   "id": "8c2b85f4",
   "metadata": {},
   "outputs": [],
   "source": [
    "# Evaluate Model (Accuracy, MSE, Prediction)\n",
    "Accuracy = knn.score(x_test,y_test) # Before Turning Accuracy is 0.8733063390964783\n",
    "mse = mean_squared_error(y_test,knn.predict(x_test)) # mean squared error 127.74756039369427\n",
    "Prediction = knn.predict(x_test) # Prediction "
   ]
  },
  {
   "cell_type": "code",
   "execution_count": 42,
   "id": "36f85ba3",
   "metadata": {},
   "outputs": [
    {
     "data": {
      "text/plain": [
       "0.8733063390964783"
      ]
     },
     "execution_count": 42,
     "metadata": {},
     "output_type": "execute_result"
    }
   ],
   "source": [
    "Accuracy\n"
   ]
  },
  {
   "cell_type": "code",
   "execution_count": 43,
   "id": "bbb86251",
   "metadata": {},
   "outputs": [
    {
     "data": {
      "text/plain": [
       "127.74756039369427"
      ]
     },
     "execution_count": 43,
     "metadata": {},
     "output_type": "execute_result"
    }
   ],
   "source": [
    "mse"
   ]
  },
  {
   "cell_type": "code",
   "execution_count": 44,
   "id": "0e3f3940",
   "metadata": {},
   "outputs": [
    {
     "data": {
      "text/plain": [
       "array([156.9582738 , 158.09850914, 194.95924008, ..., 163.53551284,\n",
       "       186.97362364, 145.97548388])"
      ]
     },
     "execution_count": 44,
     "metadata": {},
     "output_type": "execute_result"
    }
   ],
   "source": [
    "Prediction"
   ]
  },
  {
   "cell_type": "code",
   "execution_count": 45,
   "id": "8d14ff43",
   "metadata": {},
   "outputs": [
    {
     "data": {
      "text/plain": [
       "8.119090042562583"
      ]
     },
     "execution_count": 45,
     "metadata": {},
     "output_type": "execute_result"
    }
   ],
   "source": [
    "from sklearn.metrics import mean_absolute_error #MAE\n",
    "mae = mean_absolute_error(y_test, pred)\n",
    "mae"
   ]
  },
  {
   "cell_type": "markdown",
   "id": "70a979a8",
   "metadata": {},
   "source": [
    "# Hyperparameter Optimization for K value using RandomizedSearchCV"
   ]
  },
  {
   "cell_type": "code",
   "execution_count": 46,
   "id": "4e80a9c6",
   "metadata": {},
   "outputs": [],
   "source": [
    "from sklearn.model_selection import RandomizedSearchCV"
   ]
  },
  {
   "cell_type": "code",
   "execution_count": 47,
   "id": "221e3e23",
   "metadata": {},
   "outputs": [],
   "source": [
    "n_neighbors= np.random.randint(5,25,5)\n",
    "weights= ['uniform', 'distance']\n",
    "algorithm = ['auto', 'ball_tree', 'kd_tree', 'brute']\n",
    "leaf_size= np.random.randint(5,50,5)\n",
    "p= [1,2]"
   ]
  },
  {
   "cell_type": "code",
   "execution_count": 48,
   "id": "d43cfd56",
   "metadata": {},
   "outputs": [],
   "source": [
    "ids= {\n",
    "    'n_neighbors':n_neighbors,\n",
    "    'weights':weights,\n",
    "    'algorithm':algorithm,\n",
    "    'leaf_size':leaf_size,\n",
    "    'p':p\n",
    "}"
   ]
  },
  {
   "cell_type": "code",
   "execution_count": 49,
   "id": "5d7161e1",
   "metadata": {},
   "outputs": [
    {
     "name": "stdout",
     "output_type": "stream",
     "text": [
      "{'n_neighbors': array([21, 24, 22,  7,  6]), 'weights': ['uniform', 'distance'], 'algorithm': ['auto', 'ball_tree', 'kd_tree', 'brute'], 'leaf_size': array([37, 26, 38, 21, 16]), 'p': [1, 2]}\n"
     ]
    }
   ],
   "source": [
    "print(ids)"
   ]
  },
  {
   "cell_type": "code",
   "execution_count": 50,
   "id": "764f6b59",
   "metadata": {},
   "outputs": [],
   "source": [
    "from sklearn.model_selection import RandomizedSearchCV"
   ]
  },
  {
   "cell_type": "code",
   "execution_count": 51,
   "id": "691a76c9",
   "metadata": {},
   "outputs": [],
   "source": [
    "random_search= RandomizedSearchCV(knn, ids, n_iter = 200, cv=3)"
   ]
  },
  {
   "cell_type": "code",
   "execution_count": 52,
   "id": "e0c25140",
   "metadata": {},
   "outputs": [
    {
     "data": {
      "text/plain": [
       "RandomizedSearchCV(cv=3, estimator=KNeighborsRegressor(), n_iter=200,\n",
       "                   param_distributions={'algorithm': ['auto', 'ball_tree',\n",
       "                                                      'kd_tree', 'brute'],\n",
       "                                        'leaf_size': array([37, 26, 38, 21, 16]),\n",
       "                                        'n_neighbors': array([21, 24, 22,  7,  6]),\n",
       "                                        'p': [1, 2],\n",
       "                                        'weights': ['uniform', 'distance']})"
      ]
     },
     "execution_count": 52,
     "metadata": {},
     "output_type": "execute_result"
    }
   ],
   "source": [
    "random_search.fit(x_train,y_train)"
   ]
  },
  {
   "cell_type": "code",
   "execution_count": 53,
   "id": "ae841d72",
   "metadata": {},
   "outputs": [
    {
     "data": {
      "text/plain": [
       "{'mean_fit_time': array([0.00333349, 0.00266743, 0.00201035, 0.0029997 , 0.00299883,\n",
       "        0.00266504, 0.00267688, 0.00300177, 0.0013233 , 0.00299978,\n",
       "        0.00333341, 0.00166821, 0.00300058, 0.00133348, 0.00166607,\n",
       "        0.00299978, 0.00166718, 0.00266679, 0.00299875, 0.00300185,\n",
       "        0.00299954, 0.002997  , 0.00300097, 0.00333317, 0.00299899,\n",
       "        0.00100327, 0.00266822, 0.00266759, 0.00298929, 0.00133276,\n",
       "        0.00233173, 0.00267482, 0.00266822, 0.00300153, 0.00200137,\n",
       "        0.00166821, 0.00300105, 0.00133308, 0.00133324, 0.00266623,\n",
       "        0.00266679, 0.0030001 , 0.00201019, 0.00266798, 0.00300209,\n",
       "        0.00099969, 0.00266663, 0.00300145, 0.00300018, 0.00299788,\n",
       "        0.00166647, 0.00333325, 0.00266695, 0.0030001 , 0.00299978,\n",
       "        0.00299939, 0.002666  , 0.0013322 , 0.00300304, 0.00333571,\n",
       "        0.00299843, 0.00299883, 0.0026629 , 0.00166686, 0.00266655,\n",
       "        0.00133316, 0.00266592, 0.00299986, 0.00300264, 0.00266512,\n",
       "        0.00299986, 0.00299907, 0.00299883, 0.00299962, 0.00300097,\n",
       "        0.00100009, 0.0029997 , 0.00100152, 0.00299891, 0.00133332,\n",
       "        0.00300137, 0.00266687, 0.00299978, 0.00233308, 0.00099905,\n",
       "        0.00299962, 0.00299994, 0.0013322 , 0.00333373, 0.00233571,\n",
       "        0.00099953, 0.00333317, 0.00333285, 0.00200017, 0.00399955,\n",
       "        0.00334231, 0.00299915, 0.00300137, 0.00366696, 0.00333389,\n",
       "        0.00100072, 0.00299939, 0.0026625 , 0.00299954, 0.002666  ,\n",
       "        0.00099834, 0.00266623, 0.00133348, 0.00299946, 0.00333309,\n",
       "        0.00133371, 0.00166821, 0.00300034, 0.00233428, 0.00266703,\n",
       "        0.00266449, 0.00300034, 0.00266369, 0.00266616, 0.0013334 ,\n",
       "        0.00299946, 0.00266711, 0.00099977, 0.0029997 , 0.00300026,\n",
       "        0.00100017, 0.00366632, 0.00200009, 0.00299875, 0.00099945,\n",
       "        0.00333341, 0.00299994, 0.0013334 , 0.00266647, 0.00166543,\n",
       "        0.0023342 , 0.00300121, 0.0019997 , 0.00299644, 0.00299946,\n",
       "        0.00133252, 0.00266655, 0.00266679, 0.001664  , 0.00266759,\n",
       "        0.00266353, 0.00266472, 0.00133379, 0.00299946, 0.0029997 ,\n",
       "        0.00266687, 0.00266592, 0.00266385, 0.00166869, 0.00133459,\n",
       "        0.00266854, 0.00299486, 0.00233348, 0.00133642, 0.00233301,\n",
       "        0.00266647, 0.00299859, 0.00300225, 0.00299986, 0.00233332,\n",
       "        0.00266806, 0.00233356, 0.00266592, 0.0016675 , 0.0026679 ,\n",
       "        0.00099945, 0.00299946, 0.00299978, 0.00299939, 0.00299875,\n",
       "        0.00299875, 0.00233364, 0.00266512, 0.00166734, 0.0029997 ,\n",
       "        0.00299986, 0.00099858, 0.00266488, 0.00233277, 0.00300034,\n",
       "        0.00299128, 0.00301131, 0.00166456, 0.00300066, 0.00300177,\n",
       "        0.00166853, 0.00266608, 0.00299899, 0.00299986, 0.00366712,\n",
       "        0.00266623, 0.00233324, 0.00233412, 0.00266671, 0.00299986]),\n",
       " 'std_fit_time': array([4.72269647e-04, 4.67999254e-04, 1.09014055e-05, 1.70079347e-06,\n",
       "        5.15042996e-07, 4.71876929e-04, 4.57321570e-04, 1.38109105e-06,\n",
       "        4.57658620e-04, 4.29594731e-06, 4.73675191e-04, 4.72887891e-04,\n",
       "        8.77806426e-07, 4.71876126e-04, 4.71033340e-04, 8.48537942e-07,\n",
       "        4.71989320e-04, 4.70752210e-04, 6.25769923e-07, 3.38483484e-06,\n",
       "        1.03008599e-06, 6.63396096e-06, 9.73339773e-07, 4.74519275e-04,\n",
       "        2.48026634e-06, 2.72535137e-06, 4.70753015e-04, 4.71994780e-04,\n",
       "        1.29318730e-05, 4.69516710e-04, 4.70547803e-04, 4.77497161e-04,\n",
       "        4.68898749e-04, 2.97996732e-06, 1.96925985e-06, 4.68841795e-04,\n",
       "        1.29616312e-06, 4.71145571e-04, 4.71370354e-04, 4.71370354e-04,\n",
       "        4.71426560e-04, 2.97360213e-07, 1.23431355e-05, 4.68560726e-04,\n",
       "        3.09230112e-06, 7.01885292e-07, 4.71314168e-04, 1.21570099e-06,\n",
       "        2.50307969e-06, 1.73024663e-06, 4.71651343e-04, 4.71089385e-04,\n",
       "        4.71201776e-04, 6.83651389e-07, 3.89335909e-07, 1.10692885e-06,\n",
       "        4.71539192e-04, 4.72608105e-04, 2.62861815e-06, 4.74742102e-04,\n",
       "        1.18944085e-06, 8.92080638e-07, 4.69054123e-04, 4.71426640e-04,\n",
       "        4.71595177e-04, 4.71426560e-04, 4.70977235e-04, 2.24783192e-07,\n",
       "        2.43918248e-06, 4.70419466e-04, 2.44951805e-06, 3.05944706e-06,\n",
       "        8.48537942e-07, 2.97360213e-07, 1.21570099e-06, 4.49566384e-07,\n",
       "        1.32507737e-06, 1.14065012e-06, 2.30608275e-06, 4.71482786e-04,\n",
       "        1.80877156e-06, 4.71314168e-04, 1.94667955e-07, 4.70752210e-04,\n",
       "        9.19964862e-07, 2.24783192e-07, 2.97360213e-07, 4.69909303e-04,\n",
       "        4.72438084e-04, 4.69406417e-04, 5.61957980e-07, 4.71820282e-04,\n",
       "        4.71708533e-04, 1.14065012e-06, 8.17021437e-04, 4.64651666e-04,\n",
       "        1.29616312e-06, 1.92054843e-06, 9.42178830e-04, 4.70977235e-04,\n",
       "        1.07214749e-06, 1.07214749e-06, 4.68561575e-04, 1.18411894e-06,\n",
       "        4.70528232e-04, 1.80877156e-06, 4.70864602e-04, 4.72044703e-04,\n",
       "        2.24783192e-07, 4.71538951e-04, 4.71370716e-04, 4.69684641e-04,\n",
       "        1.65563159e-06, 4.69066336e-04, 4.73788463e-04, 4.68639089e-04,\n",
       "        5.61957980e-07, 4.69572451e-04, 4.71314248e-04, 4.71932352e-04,\n",
       "        2.97360213e-07, 4.71314168e-04, 4.49566384e-07, 2.97360213e-07,\n",
       "        1.94667955e-07, 3.89335909e-07, 4.70471221e-04, 3.37174788e-07,\n",
       "        9.60274217e-07, 5.15042996e-07, 4.70640060e-04, 1.62093465e-06,\n",
       "        4.71595137e-04, 4.71201776e-04, 4.70765975e-04, 4.71651825e-04,\n",
       "        1.91725700e-06, 4.57504208e-06, 5.78461977e-06, 1.25153985e-06,\n",
       "        4.71202018e-04, 4.71089626e-04, 4.70583653e-04, 4.71934881e-04,\n",
       "        4.72326495e-04, 4.77384108e-04, 4.69965469e-04, 4.71146214e-04,\n",
       "        6.25769923e-07, 4.89903609e-07, 4.70471221e-04, 4.73000042e-04,\n",
       "        4.70870879e-04, 4.73400167e-04, 4.69740686e-04, 4.70640624e-04,\n",
       "        3.53810458e-06, 4.71145571e-04, 4.66089941e-04, 4.71314168e-04,\n",
       "        4.72381878e-04, 4.21131175e-06, 3.53274517e-06, 5.94720425e-07,\n",
       "        4.71089465e-04, 4.72158540e-04, 4.71426801e-04, 4.71988598e-04,\n",
       "        4.72214103e-04, 4.70867499e-04, 5.15042996e-07, 4.49566384e-07,\n",
       "        1.94667955e-07, 9.19964862e-07, 8.10467325e-07, 1.32507737e-06,\n",
       "        4.71538951e-04, 4.72269487e-04, 4.71765421e-04, 1.12391596e-07,\n",
       "        2.97360213e-07, 3.08002192e-06, 4.70250467e-04, 4.69965953e-04,\n",
       "        4.49566384e-07, 1.44190139e-05, 1.30432372e-05, 4.75043274e-04,\n",
       "        1.48680106e-06, 7.37000982e-07, 4.72611512e-04, 4.71089626e-04,\n",
       "        4.05233662e-07, 9.98958356e-07, 9.44258601e-04, 4.71201776e-04,\n",
       "        4.71314168e-04, 4.72381878e-04, 4.71371801e-04, 1.14065012e-06]),\n",
       " 'mean_score_time': array([0.00466633, 0.01500821, 0.11198974, 0.00500123, 0.0083344 ,\n",
       "        0.0053343 , 0.00932304, 0.00800085, 0.11667403, 0.02466782,\n",
       "        0.00799894, 0.14098899, 0.00566618, 0.14133199, 0.11800043,\n",
       "        0.00533287, 0.1446658 , 0.03500859, 0.01400185, 0.00533319,\n",
       "        0.00800029, 0.01433698, 0.02999838, 0.0046672 , 0.00533406,\n",
       "        0.11066333, 0.02333252, 0.01433595, 0.00901071, 0.11266685,\n",
       "        0.03100197, 0.00899259, 0.00833058, 0.00832987, 0.14065591,\n",
       "        0.11467481, 0.0089999 , 0.13832299, 0.14199988, 0.00866675,\n",
       "        0.01866674, 0.00500854, 0.11199156, 0.00866596, 0.00499805,\n",
       "        0.14200068, 0.02933335, 0.00833193, 0.00500107, 0.00800085,\n",
       "        0.14032348, 0.00699981, 0.00533311, 0.00800872, 0.01400185,\n",
       "        0.0070014 , 0.01800052, 0.11466757, 0.02999687, 0.00433135,\n",
       "        0.00500162, 0.00466959, 0.02367036, 0.13732282, 0.00866683,\n",
       "        0.14000082, 0.00933361, 0.00500027, 0.02267377, 0.02866936,\n",
       "        0.00866747, 0.00766603, 0.00500099, 0.00433358, 0.00499908,\n",
       "        0.11366638, 0.02633373, 0.11299817, 0.00733368, 0.14265656,\n",
       "        0.00599813, 0.00533311, 0.00700887, 0.01733518, 0.13899016,\n",
       "        0.00433342, 0.00766667, 0.11334483, 0.00433238, 0.00598892,\n",
       "        0.1389993 , 0.01066732, 0.00599964, 0.15233254, 0.01066701,\n",
       "        0.0256687 , 0.0083344 , 0.00700108, 0.00501005, 0.00765586,\n",
       "        0.11435231, 0.00699854, 0.00533748, 0.00500027, 0.02233489,\n",
       "        0.14200012, 0.02767706, 0.14698974, 0.01633366, 0.00833368,\n",
       "        0.14033365, 0.11034147, 0.00700068, 0.0176657 , 0.00866612,\n",
       "        0.02632578, 0.00400933, 0.00466998, 0.02599883, 0.1423231 ,\n",
       "        0.00900014, 0.03067493, 0.1356585 , 0.00433342, 0.00766659,\n",
       "        0.14300013, 0.00866675, 0.02934376, 0.00900157, 0.14165608,\n",
       "        0.02633429, 0.00533287, 0.14099876, 0.01733335, 0.11367814,\n",
       "        0.01733232, 0.0316654 , 0.11233354, 0.01400352, 0.00733272,\n",
       "        0.14332422, 0.00833305, 0.00633359, 0.11267869, 0.01499947,\n",
       "        0.01400034, 0.00466593, 0.1383241 , 0.00699997, 0.00700037,\n",
       "        0.03100983, 0.01800076, 0.00566936, 0.11266462, 0.1133314 ,\n",
       "        0.00866659, 0.01400598, 0.00833273, 0.11133051, 0.02900036,\n",
       "        0.02300255, 0.00699933, 0.00733177, 0.00699997, 0.0150001 ,\n",
       "        0.03066619, 0.01799997, 0.01366742, 0.11133154, 0.00533342,\n",
       "        0.14365673, 0.00833352, 0.00500019, 0.02467569, 0.00500107,\n",
       "        0.00467046, 0.02366662, 0.02366781, 0.14065576, 0.01400034,\n",
       "        0.00700879, 0.11266637, 0.00900165, 0.01766674, 0.00699973,\n",
       "        0.00700855, 0.02332123, 0.11200356, 0.00766603, 0.0046649 ,\n",
       "        0.14132158, 0.00566697, 0.00800085, 0.00866652, 0.00933337,\n",
       "        0.00533311, 0.03066603, 0.01499796, 0.00533271, 0.00433342]),\n",
       " 'std_score_time': array([4.72213381e-04, 8.02308548e-04, 3.55266484e-03, 3.89984263e-06,\n",
       "        4.71033823e-04, 4.70753015e-04, 4.78827943e-04, 6.45933971e-06,\n",
       "        3.66224660e-03, 4.66711472e-04, 3.75966268e-06, 8.17547409e-04,\n",
       "        4.71651423e-04, 4.64229983e-03, 5.71603517e-03, 4.71763815e-04,\n",
       "        5.79134015e-03, 3.26801635e-03, 8.18481849e-04, 4.73225626e-04,\n",
       "        6.83651389e-07, 4.71100325e-04, 1.74478677e-06, 4.73168980e-04,\n",
       "        4.70586189e-04, 4.71533358e-03, 1.88284042e-03, 4.66762461e-04,\n",
       "        1.55665404e-05, 2.49489468e-03, 1.51207428e-06, 1.49480823e-05,\n",
       "        4.66651368e-04, 4.71883434e-04, 9.04470279e-03, 2.48377956e-03,\n",
       "        4.05233662e-07, 4.12280056e-03, 4.54543392e-03, 4.71539032e-04,\n",
       "        4.71370354e-04, 1.15779710e-05, 3.74347383e-03, 4.72663348e-04,\n",
       "        2.94800393e-06, 4.26544930e-03, 4.49300556e-04, 4.71597106e-04,\n",
       "        5.15042996e-07, 1.75201159e-06, 1.71398647e-03, 4.89903609e-07,\n",
       "        4.71257962e-04, 1.24997444e-05, 8.14491350e-04, 1.46971083e-06,\n",
       "        2.97360213e-07, 9.65806411e-04, 2.63341928e-06, 4.73061074e-04,\n",
       "        1.07214749e-06, 4.69294026e-04, 1.70486521e-03, 7.59982023e-03,\n",
       "        4.71763734e-04, 2.16078947e-03, 4.71201776e-04, 2.97360213e-07,\n",
       "        1.69304020e-03, 4.71207084e-04, 4.72225579e-04, 4.71315856e-04,\n",
       "        1.40826266e-06, 4.71820081e-04, 1.46109075e-06, 3.68269296e-03,\n",
       "        4.71427042e-04, 8.17800456e-04, 4.71426560e-04, 5.44692059e-03,\n",
       "        8.14880337e-04, 4.71595177e-04, 1.22506840e-05, 9.44094545e-04,\n",
       "        3.57299273e-03, 4.71763815e-04, 4.71595177e-04, 1.23737666e-03,\n",
       "        4.73843009e-04, 8.02176599e-04, 3.26555503e-03, 4.70865406e-04,\n",
       "        8.16826746e-04, 3.39928708e-03, 1.24640663e-03, 4.69909424e-04,\n",
       "        4.70875547e-04, 2.73813701e-05, 1.49074647e-05, 4.85026021e-04,\n",
       "        9.56288061e-04, 8.48537942e-07, 4.68176917e-04, 1.25153985e-06,\n",
       "        1.24487807e-03, 2.95068552e-03, 2.48337878e-03, 4.32928206e-03,\n",
       "        2.05475888e-03, 4.71538951e-04, 6.34309313e-03, 9.45283100e-04,\n",
       "        1.03008599e-06, 4.71091074e-04, 4.70250467e-04, 1.25318751e-03,\n",
       "        1.42856748e-05, 4.73293982e-04, 8.17998151e-04, 2.87929173e-03,\n",
       "        8.16340070e-04, 1.69650222e-03, 6.95588462e-03, 4.71089385e-04,\n",
       "        4.71370354e-04, 1.41444824e-03, 9.42403553e-04, 4.64018025e-04,\n",
       "        1.98841031e-06, 1.87906216e-03, 1.24719247e-03, 4.71426801e-04,\n",
       "        3.74000562e-03, 4.71482745e-04, 1.23215843e-03, 4.72045707e-04,\n",
       "        9.19664705e-04, 2.05531375e-03, 8.16343985e-04, 4.72101712e-04,\n",
       "        3.30765231e-03, 4.71145611e-04, 1.24802124e-03, 1.25928051e-03,\n",
       "        8.16534738e-04, 8.21306323e-04, 4.72776942e-04, 7.60121655e-03,\n",
       "        1.94667955e-07, 4.89903609e-07, 2.47751462e-05, 1.80877156e-06,\n",
       "        4.69178728e-04, 9.39762335e-04, 1.69986343e-03, 4.68730859e-04,\n",
       "        8.18095648e-04, 4.71710099e-04, 9.40887379e-04, 8.77806426e-07,\n",
       "        1.41164007e-03, 1.23630756e-06, 4.72444340e-04, 1.85701393e-06,\n",
       "        7.01885292e-07, 4.73283573e-04, 9.19964862e-07, 9.39988570e-04,\n",
       "        6.01761421e-03, 4.71707689e-04, 4.93353081e-03, 4.71988518e-04,\n",
       "        2.97360213e-07, 9.33155625e-04, 1.36267568e-06, 4.72439287e-04,\n",
       "        1.69964353e-03, 1.70132749e-03, 2.49774523e-03, 8.16437410e-04,\n",
       "        1.23103434e-05, 2.62414619e-03, 1.92054843e-06, 4.71988999e-04,\n",
       "        1.94667955e-07, 1.35220683e-05, 1.69657246e-03, 2.15950174e-03,\n",
       "        4.69965953e-04, 4.71876929e-04, 4.51236986e-03, 4.71370354e-04,\n",
       "        5.15042996e-07, 4.71202259e-04, 4.71033179e-04, 4.71427765e-04,\n",
       "        4.70977235e-04, 8.16437402e-04, 4.71707890e-04, 4.71595780e-04]),\n",
       " 'param_weights': masked_array(data=['distance', 'uniform', 'uniform', 'distance',\n",
       "                    'distance', 'uniform', 'distance', 'distance',\n",
       "                    'uniform', 'uniform', 'uniform', 'uniform', 'uniform',\n",
       "                    'uniform', 'distance', 'distance', 'uniform',\n",
       "                    'distance', 'distance', 'distance', 'distance',\n",
       "                    'uniform', 'distance', 'distance', 'distance',\n",
       "                    'distance', 'distance', 'distance', 'distance',\n",
       "                    'distance', 'uniform', 'uniform', 'uniform',\n",
       "                    'distance', 'uniform', 'uniform', 'uniform', 'uniform',\n",
       "                    'distance', 'uniform', 'distance', 'distance',\n",
       "                    'uniform', 'distance', 'uniform', 'distance',\n",
       "                    'distance', 'uniform', 'uniform', 'distance',\n",
       "                    'uniform', 'distance', 'uniform', 'uniform', 'uniform',\n",
       "                    'distance', 'uniform', 'uniform', 'uniform', 'uniform',\n",
       "                    'uniform', 'distance', 'distance', 'uniform',\n",
       "                    'uniform', 'distance', 'distance', 'distance',\n",
       "                    'uniform', 'distance', 'distance', 'uniform',\n",
       "                    'distance', 'uniform', 'distance', 'distance',\n",
       "                    'distance', 'distance', 'uniform', 'uniform',\n",
       "                    'distance', 'uniform', 'distance', 'distance',\n",
       "                    'distance', 'uniform', 'uniform', 'distance',\n",
       "                    'uniform', 'uniform', 'uniform', 'distance', 'uniform',\n",
       "                    'uniform', 'uniform', 'distance', 'distance',\n",
       "                    'uniform', 'distance', 'distance', 'distance',\n",
       "                    'distance', 'distance', 'uniform', 'uniform',\n",
       "                    'distance', 'uniform', 'uniform', 'distance',\n",
       "                    'uniform', 'distance', 'uniform', 'uniform',\n",
       "                    'distance', 'distance', 'distance', 'uniform',\n",
       "                    'distance', 'distance', 'uniform', 'distance',\n",
       "                    'distance', 'uniform', 'uniform', 'uniform', 'uniform',\n",
       "                    'uniform', 'uniform', 'uniform', 'distance',\n",
       "                    'distance', 'uniform', 'uniform', 'distance',\n",
       "                    'uniform', 'distance', 'distance', 'distance',\n",
       "                    'distance', 'distance', 'uniform', 'distance',\n",
       "                    'distance', 'uniform', 'distance', 'distance',\n",
       "                    'uniform', 'distance', 'distance', 'uniform',\n",
       "                    'distance', 'uniform', 'distance', 'distance',\n",
       "                    'distance', 'distance', 'uniform', 'uniform',\n",
       "                    'uniform', 'uniform', 'uniform', 'uniform', 'distance',\n",
       "                    'uniform', 'distance', 'uniform', 'uniform', 'uniform',\n",
       "                    'uniform', 'distance', 'distance', 'distance',\n",
       "                    'uniform', 'uniform', 'uniform', 'uniform', 'distance',\n",
       "                    'uniform', 'uniform', 'uniform', 'uniform', 'uniform',\n",
       "                    'distance', 'uniform', 'uniform', 'uniform',\n",
       "                    'distance', 'uniform', 'uniform', 'distance',\n",
       "                    'uniform', 'distance', 'distance', 'uniform',\n",
       "                    'distance', 'uniform', 'distance', 'distance',\n",
       "                    'distance', 'distance'],\n",
       "              mask=[False, False, False, False, False, False, False, False,\n",
       "                    False, False, False, False, False, False, False, False,\n",
       "                    False, False, False, False, False, False, False, False,\n",
       "                    False, False, False, False, False, False, False, False,\n",
       "                    False, False, False, False, False, False, False, False,\n",
       "                    False, False, False, False, False, False, False, False,\n",
       "                    False, False, False, False, False, False, False, False,\n",
       "                    False, False, False, False, False, False, False, False,\n",
       "                    False, False, False, False, False, False, False, False,\n",
       "                    False, False, False, False, False, False, False, False,\n",
       "                    False, False, False, False, False, False, False, False,\n",
       "                    False, False, False, False, False, False, False, False,\n",
       "                    False, False, False, False, False, False, False, False,\n",
       "                    False, False, False, False, False, False, False, False,\n",
       "                    False, False, False, False, False, False, False, False,\n",
       "                    False, False, False, False, False, False, False, False,\n",
       "                    False, False, False, False, False, False, False, False,\n",
       "                    False, False, False, False, False, False, False, False,\n",
       "                    False, False, False, False, False, False, False, False,\n",
       "                    False, False, False, False, False, False, False, False,\n",
       "                    False, False, False, False, False, False, False, False,\n",
       "                    False, False, False, False, False, False, False, False,\n",
       "                    False, False, False, False, False, False, False, False,\n",
       "                    False, False, False, False, False, False, False, False,\n",
       "                    False, False, False, False, False, False, False, False],\n",
       "        fill_value='?',\n",
       "             dtype=object),\n",
       " 'param_p': masked_array(data=[2, 2, 1, 2, 1, 1, 1, 1, 1, 2, 2, 2, 2, 2, 1, 2, 2, 2,\n",
       "                    2, 2, 2, 2, 1, 1, 1, 1, 1, 2, 2, 1, 2, 1, 1, 2, 2, 1,\n",
       "                    2, 2, 2, 1, 2, 1, 1, 2, 2, 2, 1, 2, 1, 2, 2, 1, 1, 2,\n",
       "                    1, 1, 2, 1, 1, 2, 2, 1, 1, 2, 2, 2, 2, 1, 1, 1, 1, 2,\n",
       "                    2, 1, 1, 1, 2, 1, 1, 2, 2, 1, 1, 1, 2, 1, 1, 1, 2, 2,\n",
       "                    2, 1, 2, 2, 2, 2, 2, 1, 1, 1, 1, 2, 1, 2, 1, 2, 2, 2,\n",
       "                    1, 2, 2, 1, 1, 1, 1, 2, 1, 1, 2, 2, 1, 2, 2, 1, 2, 2,\n",
       "                    2, 1, 1, 2, 2, 2, 2, 2, 1, 2, 2, 1, 1, 2, 2, 1, 1, 1,\n",
       "                    2, 2, 1, 2, 1, 1, 2, 2, 1, 1, 1, 2, 1, 2, 1, 1, 1, 1,\n",
       "                    2, 1, 2, 2, 1, 1, 1, 1, 2, 2, 2, 2, 1, 1, 1, 1, 2, 2,\n",
       "                    1, 1, 2, 1, 2, 1, 1, 1, 2, 2, 2, 1, 1, 1, 1, 1, 1, 1,\n",
       "                    2, 1],\n",
       "              mask=[False, False, False, False, False, False, False, False,\n",
       "                    False, False, False, False, False, False, False, False,\n",
       "                    False, False, False, False, False, False, False, False,\n",
       "                    False, False, False, False, False, False, False, False,\n",
       "                    False, False, False, False, False, False, False, False,\n",
       "                    False, False, False, False, False, False, False, False,\n",
       "                    False, False, False, False, False, False, False, False,\n",
       "                    False, False, False, False, False, False, False, False,\n",
       "                    False, False, False, False, False, False, False, False,\n",
       "                    False, False, False, False, False, False, False, False,\n",
       "                    False, False, False, False, False, False, False, False,\n",
       "                    False, False, False, False, False, False, False, False,\n",
       "                    False, False, False, False, False, False, False, False,\n",
       "                    False, False, False, False, False, False, False, False,\n",
       "                    False, False, False, False, False, False, False, False,\n",
       "                    False, False, False, False, False, False, False, False,\n",
       "                    False, False, False, False, False, False, False, False,\n",
       "                    False, False, False, False, False, False, False, False,\n",
       "                    False, False, False, False, False, False, False, False,\n",
       "                    False, False, False, False, False, False, False, False,\n",
       "                    False, False, False, False, False, False, False, False,\n",
       "                    False, False, False, False, False, False, False, False,\n",
       "                    False, False, False, False, False, False, False, False,\n",
       "                    False, False, False, False, False, False, False, False,\n",
       "                    False, False, False, False, False, False, False, False],\n",
       "        fill_value='?',\n",
       "             dtype=object),\n",
       " 'param_n_neighbors': masked_array(data=[6, 7, 22, 7, 21, 7, 24, 22, 22, 21, 24, 6, 7, 7, 22, 7,\n",
       "                    21, 21, 6, 7, 22, 6, 22, 6, 6, 6, 22, 6, 22, 6, 24, 24,\n",
       "                    21, 21, 21, 24, 24, 6, 6, 22, 7, 7, 7, 22, 6, 22, 21,\n",
       "                    22, 7, 22, 22, 21, 6, 24, 6, 21, 7, 24, 24, 6, 7, 7,\n",
       "                    24, 22, 21, 7, 24, 7, 21, 21, 22, 21, 6, 6, 7, 21, 24,\n",
       "                    24, 24, 24, 7, 6, 22, 6, 6, 6, 24, 21, 7, 6, 6, 24, 6,\n",
       "                    22, 21, 21, 21, 21, 6, 21, 24, 21, 7, 6, 21, 6, 22, 24,\n",
       "                    6, 22, 6, 7, 24, 7, 22, 24, 6, 7, 24, 24, 24, 21, 7, 6,\n",
       "                    22, 7, 21, 21, 24, 7, 21, 7, 22, 6, 24, 6, 24, 21, 7,\n",
       "                    21, 24, 21, 6, 6, 7, 6, 7, 24, 21, 22, 22, 7, 7, 24,\n",
       "                    24, 21, 7, 21, 7, 22, 22, 21, 21, 22, 7, 24, 7, 6, 22,\n",
       "                    7, 24, 22, 7, 21, 6, 7, 22, 24, 22, 6, 21, 22, 22, 7,\n",
       "                    21, 22, 21, 21, 22, 6, 21, 7, 24, 22, 21, 6, 24, 7, 6,\n",
       "                    6],\n",
       "              mask=[False, False, False, False, False, False, False, False,\n",
       "                    False, False, False, False, False, False, False, False,\n",
       "                    False, False, False, False, False, False, False, False,\n",
       "                    False, False, False, False, False, False, False, False,\n",
       "                    False, False, False, False, False, False, False, False,\n",
       "                    False, False, False, False, False, False, False, False,\n",
       "                    False, False, False, False, False, False, False, False,\n",
       "                    False, False, False, False, False, False, False, False,\n",
       "                    False, False, False, False, False, False, False, False,\n",
       "                    False, False, False, False, False, False, False, False,\n",
       "                    False, False, False, False, False, False, False, False,\n",
       "                    False, False, False, False, False, False, False, False,\n",
       "                    False, False, False, False, False, False, False, False,\n",
       "                    False, False, False, False, False, False, False, False,\n",
       "                    False, False, False, False, False, False, False, False,\n",
       "                    False, False, False, False, False, False, False, False,\n",
       "                    False, False, False, False, False, False, False, False,\n",
       "                    False, False, False, False, False, False, False, False,\n",
       "                    False, False, False, False, False, False, False, False,\n",
       "                    False, False, False, False, False, False, False, False,\n",
       "                    False, False, False, False, False, False, False, False,\n",
       "                    False, False, False, False, False, False, False, False,\n",
       "                    False, False, False, False, False, False, False, False,\n",
       "                    False, False, False, False, False, False, False, False,\n",
       "                    False, False, False, False, False, False, False, False],\n",
       "        fill_value='?',\n",
       "             dtype=object),\n",
       " 'param_leaf_size': masked_array(data=[21, 26, 38, 21, 37, 37, 37, 26, 26, 16, 26, 37, 38, 21,\n",
       "                    16, 37, 26, 38, 16, 26, 26, 21, 38, 21, 37, 38, 21, 26,\n",
       "                    37, 16, 38, 38, 37, 37, 38, 16, 38, 38, 37, 37, 37, 16,\n",
       "                    26, 38, 21, 38, 37, 38, 26, 16, 37, 16, 38, 16, 26, 26,\n",
       "                    37, 38, 38, 16, 26, 21, 16, 38, 38, 21, 38, 16, 16, 38,\n",
       "                    38, 21, 21, 26, 21, 21, 21, 26, 16, 21, 38, 38, 21, 38,\n",
       "                    38, 16, 16, 26, 16, 37, 21, 38, 38, 21, 21, 16, 38, 26,\n",
       "                    21, 21, 38, 16, 37, 26, 21, 21, 21, 26, 26, 16, 26, 16,\n",
       "                    26, 37, 37, 16, 16, 26, 26, 37, 26, 37, 26, 21, 26, 16,\n",
       "                    16, 37, 37, 16, 21, 37, 16, 37, 21, 38, 37, 38, 16, 21,\n",
       "                    38, 38, 38, 37, 16, 21, 16, 38, 26, 16, 38, 38, 37, 16,\n",
       "                    21, 38, 26, 37, 37, 37, 21, 16, 21, 21, 26, 37, 37, 21,\n",
       "                    21, 38, 26, 16, 21, 21, 37, 16, 16, 16, 26, 26, 21, 37,\n",
       "                    38, 38, 16, 26, 26, 38, 21, 16, 16, 38, 21, 38, 37, 37,\n",
       "                    37, 26, 37, 26],\n",
       "              mask=[False, False, False, False, False, False, False, False,\n",
       "                    False, False, False, False, False, False, False, False,\n",
       "                    False, False, False, False, False, False, False, False,\n",
       "                    False, False, False, False, False, False, False, False,\n",
       "                    False, False, False, False, False, False, False, False,\n",
       "                    False, False, False, False, False, False, False, False,\n",
       "                    False, False, False, False, False, False, False, False,\n",
       "                    False, False, False, False, False, False, False, False,\n",
       "                    False, False, False, False, False, False, False, False,\n",
       "                    False, False, False, False, False, False, False, False,\n",
       "                    False, False, False, False, False, False, False, False,\n",
       "                    False, False, False, False, False, False, False, False,\n",
       "                    False, False, False, False, False, False, False, False,\n",
       "                    False, False, False, False, False, False, False, False,\n",
       "                    False, False, False, False, False, False, False, False,\n",
       "                    False, False, False, False, False, False, False, False,\n",
       "                    False, False, False, False, False, False, False, False,\n",
       "                    False, False, False, False, False, False, False, False,\n",
       "                    False, False, False, False, False, False, False, False,\n",
       "                    False, False, False, False, False, False, False, False,\n",
       "                    False, False, False, False, False, False, False, False,\n",
       "                    False, False, False, False, False, False, False, False,\n",
       "                    False, False, False, False, False, False, False, False,\n",
       "                    False, False, False, False, False, False, False, False,\n",
       "                    False, False, False, False, False, False, False, False],\n",
       "        fill_value='?',\n",
       "             dtype=object),\n",
       " 'param_algorithm': masked_array(data=['kd_tree', 'ball_tree', 'brute', 'kd_tree', 'auto',\n",
       "                    'auto', 'kd_tree', 'auto', 'brute', 'ball_tree',\n",
       "                    'auto', 'brute', 'kd_tree', 'brute', 'brute',\n",
       "                    'kd_tree', 'brute', 'ball_tree', 'ball_tree',\n",
       "                    'kd_tree', 'kd_tree', 'ball_tree', 'ball_tree',\n",
       "                    'kd_tree', 'auto', 'brute', 'ball_tree', 'ball_tree',\n",
       "                    'kd_tree', 'brute', 'ball_tree', 'kd_tree', 'kd_tree',\n",
       "                    'auto', 'brute', 'brute', 'auto', 'brute', 'brute',\n",
       "                    'auto', 'ball_tree', 'kd_tree', 'brute', 'kd_tree',\n",
       "                    'auto', 'brute', 'ball_tree', 'auto', 'auto',\n",
       "                    'kd_tree', 'brute', 'kd_tree', 'auto', 'kd_tree',\n",
       "                    'ball_tree', 'auto', 'ball_tree', 'brute', 'ball_tree',\n",
       "                    'kd_tree', 'kd_tree', 'kd_tree', 'ball_tree', 'brute',\n",
       "                    'kd_tree', 'brute', 'auto', 'auto', 'ball_tree',\n",
       "                    'ball_tree', 'auto', 'auto', 'auto', 'kd_tree', 'auto',\n",
       "                    'brute', 'ball_tree', 'brute', 'auto', 'brute', 'auto',\n",
       "                    'kd_tree', 'auto', 'ball_tree', 'brute', 'kd_tree',\n",
       "                    'kd_tree', 'brute', 'kd_tree', 'auto', 'brute', 'auto',\n",
       "                    'kd_tree', 'brute', 'kd_tree', 'ball_tree', 'auto',\n",
       "                    'auto', 'auto', 'auto', 'brute', 'kd_tree', 'auto',\n",
       "                    'auto', 'ball_tree', 'brute', 'ball_tree', 'brute',\n",
       "                    'ball_tree', 'kd_tree', 'brute', 'brute', 'auto',\n",
       "                    'ball_tree', 'auto', 'ball_tree', 'auto', 'auto',\n",
       "                    'ball_tree', 'brute', 'auto', 'ball_tree', 'brute',\n",
       "                    'kd_tree', 'auto', 'brute', 'kd_tree', 'ball_tree',\n",
       "                    'kd_tree', 'brute', 'ball_tree', 'auto', 'brute',\n",
       "                    'ball_tree', 'brute', 'ball_tree', 'ball_tree',\n",
       "                    'brute', 'ball_tree', 'kd_tree', 'brute', 'kd_tree',\n",
       "                    'auto', 'brute', 'ball_tree', 'ball_tree', 'auto',\n",
       "                    'brute', 'kd_tree', 'kd_tree', 'ball_tree',\n",
       "                    'ball_tree', 'kd_tree', 'brute', 'brute', 'kd_tree',\n",
       "                    'ball_tree', 'kd_tree', 'brute', 'ball_tree',\n",
       "                    'ball_tree', 'kd_tree', 'auto', 'auto', 'ball_tree',\n",
       "                    'ball_tree', 'ball_tree', 'ball_tree', 'brute', 'auto',\n",
       "                    'brute', 'auto', 'kd_tree', 'ball_tree', 'auto',\n",
       "                    'kd_tree', 'ball_tree', 'ball_tree', 'brute',\n",
       "                    'ball_tree', 'kd_tree', 'brute', 'auto', 'ball_tree',\n",
       "                    'auto', 'kd_tree', 'ball_tree', 'brute', 'kd_tree',\n",
       "                    'auto', 'brute', 'kd_tree', 'auto', 'kd_tree',\n",
       "                    'kd_tree', 'kd_tree', 'ball_tree', 'ball_tree',\n",
       "                    'kd_tree', 'kd_tree'],\n",
       "              mask=[False, False, False, False, False, False, False, False,\n",
       "                    False, False, False, False, False, False, False, False,\n",
       "                    False, False, False, False, False, False, False, False,\n",
       "                    False, False, False, False, False, False, False, False,\n",
       "                    False, False, False, False, False, False, False, False,\n",
       "                    False, False, False, False, False, False, False, False,\n",
       "                    False, False, False, False, False, False, False, False,\n",
       "                    False, False, False, False, False, False, False, False,\n",
       "                    False, False, False, False, False, False, False, False,\n",
       "                    False, False, False, False, False, False, False, False,\n",
       "                    False, False, False, False, False, False, False, False,\n",
       "                    False, False, False, False, False, False, False, False,\n",
       "                    False, False, False, False, False, False, False, False,\n",
       "                    False, False, False, False, False, False, False, False,\n",
       "                    False, False, False, False, False, False, False, False,\n",
       "                    False, False, False, False, False, False, False, False,\n",
       "                    False, False, False, False, False, False, False, False,\n",
       "                    False, False, False, False, False, False, False, False,\n",
       "                    False, False, False, False, False, False, False, False,\n",
       "                    False, False, False, False, False, False, False, False,\n",
       "                    False, False, False, False, False, False, False, False,\n",
       "                    False, False, False, False, False, False, False, False,\n",
       "                    False, False, False, False, False, False, False, False,\n",
       "                    False, False, False, False, False, False, False, False,\n",
       "                    False, False, False, False, False, False, False, False],\n",
       "        fill_value='?',\n",
       "             dtype=object),\n",
       " 'params': [{'weights': 'distance',\n",
       "   'p': 2,\n",
       "   'n_neighbors': 6,\n",
       "   'leaf_size': 21,\n",
       "   'algorithm': 'kd_tree'},\n",
       "  {'weights': 'uniform',\n",
       "   'p': 2,\n",
       "   'n_neighbors': 7,\n",
       "   'leaf_size': 26,\n",
       "   'algorithm': 'ball_tree'},\n",
       "  {'weights': 'uniform',\n",
       "   'p': 1,\n",
       "   'n_neighbors': 22,\n",
       "   'leaf_size': 38,\n",
       "   'algorithm': 'brute'},\n",
       "  {'weights': 'distance',\n",
       "   'p': 2,\n",
       "   'n_neighbors': 7,\n",
       "   'leaf_size': 21,\n",
       "   'algorithm': 'kd_tree'},\n",
       "  {'weights': 'distance',\n",
       "   'p': 1,\n",
       "   'n_neighbors': 21,\n",
       "   'leaf_size': 37,\n",
       "   'algorithm': 'auto'},\n",
       "  {'weights': 'uniform',\n",
       "   'p': 1,\n",
       "   'n_neighbors': 7,\n",
       "   'leaf_size': 37,\n",
       "   'algorithm': 'auto'},\n",
       "  {'weights': 'distance',\n",
       "   'p': 1,\n",
       "   'n_neighbors': 24,\n",
       "   'leaf_size': 37,\n",
       "   'algorithm': 'kd_tree'},\n",
       "  {'weights': 'distance',\n",
       "   'p': 1,\n",
       "   'n_neighbors': 22,\n",
       "   'leaf_size': 26,\n",
       "   'algorithm': 'auto'},\n",
       "  {'weights': 'uniform',\n",
       "   'p': 1,\n",
       "   'n_neighbors': 22,\n",
       "   'leaf_size': 26,\n",
       "   'algorithm': 'brute'},\n",
       "  {'weights': 'uniform',\n",
       "   'p': 2,\n",
       "   'n_neighbors': 21,\n",
       "   'leaf_size': 16,\n",
       "   'algorithm': 'ball_tree'},\n",
       "  {'weights': 'uniform',\n",
       "   'p': 2,\n",
       "   'n_neighbors': 24,\n",
       "   'leaf_size': 26,\n",
       "   'algorithm': 'auto'},\n",
       "  {'weights': 'uniform',\n",
       "   'p': 2,\n",
       "   'n_neighbors': 6,\n",
       "   'leaf_size': 37,\n",
       "   'algorithm': 'brute'},\n",
       "  {'weights': 'uniform',\n",
       "   'p': 2,\n",
       "   'n_neighbors': 7,\n",
       "   'leaf_size': 38,\n",
       "   'algorithm': 'kd_tree'},\n",
       "  {'weights': 'uniform',\n",
       "   'p': 2,\n",
       "   'n_neighbors': 7,\n",
       "   'leaf_size': 21,\n",
       "   'algorithm': 'brute'},\n",
       "  {'weights': 'distance',\n",
       "   'p': 1,\n",
       "   'n_neighbors': 22,\n",
       "   'leaf_size': 16,\n",
       "   'algorithm': 'brute'},\n",
       "  {'weights': 'distance',\n",
       "   'p': 2,\n",
       "   'n_neighbors': 7,\n",
       "   'leaf_size': 37,\n",
       "   'algorithm': 'kd_tree'},\n",
       "  {'weights': 'uniform',\n",
       "   'p': 2,\n",
       "   'n_neighbors': 21,\n",
       "   'leaf_size': 26,\n",
       "   'algorithm': 'brute'},\n",
       "  {'weights': 'distance',\n",
       "   'p': 2,\n",
       "   'n_neighbors': 21,\n",
       "   'leaf_size': 38,\n",
       "   'algorithm': 'ball_tree'},\n",
       "  {'weights': 'distance',\n",
       "   'p': 2,\n",
       "   'n_neighbors': 6,\n",
       "   'leaf_size': 16,\n",
       "   'algorithm': 'ball_tree'},\n",
       "  {'weights': 'distance',\n",
       "   'p': 2,\n",
       "   'n_neighbors': 7,\n",
       "   'leaf_size': 26,\n",
       "   'algorithm': 'kd_tree'},\n",
       "  {'weights': 'distance',\n",
       "   'p': 2,\n",
       "   'n_neighbors': 22,\n",
       "   'leaf_size': 26,\n",
       "   'algorithm': 'kd_tree'},\n",
       "  {'weights': 'uniform',\n",
       "   'p': 2,\n",
       "   'n_neighbors': 6,\n",
       "   'leaf_size': 21,\n",
       "   'algorithm': 'ball_tree'},\n",
       "  {'weights': 'distance',\n",
       "   'p': 1,\n",
       "   'n_neighbors': 22,\n",
       "   'leaf_size': 38,\n",
       "   'algorithm': 'ball_tree'},\n",
       "  {'weights': 'distance',\n",
       "   'p': 1,\n",
       "   'n_neighbors': 6,\n",
       "   'leaf_size': 21,\n",
       "   'algorithm': 'kd_tree'},\n",
       "  {'weights': 'distance',\n",
       "   'p': 1,\n",
       "   'n_neighbors': 6,\n",
       "   'leaf_size': 37,\n",
       "   'algorithm': 'auto'},\n",
       "  {'weights': 'distance',\n",
       "   'p': 1,\n",
       "   'n_neighbors': 6,\n",
       "   'leaf_size': 38,\n",
       "   'algorithm': 'brute'},\n",
       "  {'weights': 'distance',\n",
       "   'p': 1,\n",
       "   'n_neighbors': 22,\n",
       "   'leaf_size': 21,\n",
       "   'algorithm': 'ball_tree'},\n",
       "  {'weights': 'distance',\n",
       "   'p': 2,\n",
       "   'n_neighbors': 6,\n",
       "   'leaf_size': 26,\n",
       "   'algorithm': 'ball_tree'},\n",
       "  {'weights': 'distance',\n",
       "   'p': 2,\n",
       "   'n_neighbors': 22,\n",
       "   'leaf_size': 37,\n",
       "   'algorithm': 'kd_tree'},\n",
       "  {'weights': 'distance',\n",
       "   'p': 1,\n",
       "   'n_neighbors': 6,\n",
       "   'leaf_size': 16,\n",
       "   'algorithm': 'brute'},\n",
       "  {'weights': 'uniform',\n",
       "   'p': 2,\n",
       "   'n_neighbors': 24,\n",
       "   'leaf_size': 38,\n",
       "   'algorithm': 'ball_tree'},\n",
       "  {'weights': 'uniform',\n",
       "   'p': 1,\n",
       "   'n_neighbors': 24,\n",
       "   'leaf_size': 38,\n",
       "   'algorithm': 'kd_tree'},\n",
       "  {'weights': 'uniform',\n",
       "   'p': 1,\n",
       "   'n_neighbors': 21,\n",
       "   'leaf_size': 37,\n",
       "   'algorithm': 'kd_tree'},\n",
       "  {'weights': 'distance',\n",
       "   'p': 2,\n",
       "   'n_neighbors': 21,\n",
       "   'leaf_size': 37,\n",
       "   'algorithm': 'auto'},\n",
       "  {'weights': 'uniform',\n",
       "   'p': 2,\n",
       "   'n_neighbors': 21,\n",
       "   'leaf_size': 38,\n",
       "   'algorithm': 'brute'},\n",
       "  {'weights': 'uniform',\n",
       "   'p': 1,\n",
       "   'n_neighbors': 24,\n",
       "   'leaf_size': 16,\n",
       "   'algorithm': 'brute'},\n",
       "  {'weights': 'uniform',\n",
       "   'p': 2,\n",
       "   'n_neighbors': 24,\n",
       "   'leaf_size': 38,\n",
       "   'algorithm': 'auto'},\n",
       "  {'weights': 'uniform',\n",
       "   'p': 2,\n",
       "   'n_neighbors': 6,\n",
       "   'leaf_size': 38,\n",
       "   'algorithm': 'brute'},\n",
       "  {'weights': 'distance',\n",
       "   'p': 2,\n",
       "   'n_neighbors': 6,\n",
       "   'leaf_size': 37,\n",
       "   'algorithm': 'brute'},\n",
       "  {'weights': 'uniform',\n",
       "   'p': 1,\n",
       "   'n_neighbors': 22,\n",
       "   'leaf_size': 37,\n",
       "   'algorithm': 'auto'},\n",
       "  {'weights': 'distance',\n",
       "   'p': 2,\n",
       "   'n_neighbors': 7,\n",
       "   'leaf_size': 37,\n",
       "   'algorithm': 'ball_tree'},\n",
       "  {'weights': 'distance',\n",
       "   'p': 1,\n",
       "   'n_neighbors': 7,\n",
       "   'leaf_size': 16,\n",
       "   'algorithm': 'kd_tree'},\n",
       "  {'weights': 'uniform',\n",
       "   'p': 1,\n",
       "   'n_neighbors': 7,\n",
       "   'leaf_size': 26,\n",
       "   'algorithm': 'brute'},\n",
       "  {'weights': 'distance',\n",
       "   'p': 2,\n",
       "   'n_neighbors': 22,\n",
       "   'leaf_size': 38,\n",
       "   'algorithm': 'kd_tree'},\n",
       "  {'weights': 'uniform',\n",
       "   'p': 2,\n",
       "   'n_neighbors': 6,\n",
       "   'leaf_size': 21,\n",
       "   'algorithm': 'auto'},\n",
       "  {'weights': 'distance',\n",
       "   'p': 2,\n",
       "   'n_neighbors': 22,\n",
       "   'leaf_size': 38,\n",
       "   'algorithm': 'brute'},\n",
       "  {'weights': 'distance',\n",
       "   'p': 1,\n",
       "   'n_neighbors': 21,\n",
       "   'leaf_size': 37,\n",
       "   'algorithm': 'ball_tree'},\n",
       "  {'weights': 'uniform',\n",
       "   'p': 2,\n",
       "   'n_neighbors': 22,\n",
       "   'leaf_size': 38,\n",
       "   'algorithm': 'auto'},\n",
       "  {'weights': 'uniform',\n",
       "   'p': 1,\n",
       "   'n_neighbors': 7,\n",
       "   'leaf_size': 26,\n",
       "   'algorithm': 'auto'},\n",
       "  {'weights': 'distance',\n",
       "   'p': 2,\n",
       "   'n_neighbors': 22,\n",
       "   'leaf_size': 16,\n",
       "   'algorithm': 'kd_tree'},\n",
       "  {'weights': 'uniform',\n",
       "   'p': 2,\n",
       "   'n_neighbors': 22,\n",
       "   'leaf_size': 37,\n",
       "   'algorithm': 'brute'},\n",
       "  {'weights': 'distance',\n",
       "   'p': 1,\n",
       "   'n_neighbors': 21,\n",
       "   'leaf_size': 16,\n",
       "   'algorithm': 'kd_tree'},\n",
       "  {'weights': 'uniform',\n",
       "   'p': 1,\n",
       "   'n_neighbors': 6,\n",
       "   'leaf_size': 38,\n",
       "   'algorithm': 'auto'},\n",
       "  {'weights': 'uniform',\n",
       "   'p': 2,\n",
       "   'n_neighbors': 24,\n",
       "   'leaf_size': 16,\n",
       "   'algorithm': 'kd_tree'},\n",
       "  {'weights': 'uniform',\n",
       "   'p': 1,\n",
       "   'n_neighbors': 6,\n",
       "   'leaf_size': 26,\n",
       "   'algorithm': 'ball_tree'},\n",
       "  {'weights': 'distance',\n",
       "   'p': 1,\n",
       "   'n_neighbors': 21,\n",
       "   'leaf_size': 26,\n",
       "   'algorithm': 'auto'},\n",
       "  {'weights': 'uniform',\n",
       "   'p': 2,\n",
       "   'n_neighbors': 7,\n",
       "   'leaf_size': 37,\n",
       "   'algorithm': 'ball_tree'},\n",
       "  {'weights': 'uniform',\n",
       "   'p': 1,\n",
       "   'n_neighbors': 24,\n",
       "   'leaf_size': 38,\n",
       "   'algorithm': 'brute'},\n",
       "  {'weights': 'uniform',\n",
       "   'p': 1,\n",
       "   'n_neighbors': 24,\n",
       "   'leaf_size': 38,\n",
       "   'algorithm': 'ball_tree'},\n",
       "  {'weights': 'uniform',\n",
       "   'p': 2,\n",
       "   'n_neighbors': 6,\n",
       "   'leaf_size': 16,\n",
       "   'algorithm': 'kd_tree'},\n",
       "  {'weights': 'uniform',\n",
       "   'p': 2,\n",
       "   'n_neighbors': 7,\n",
       "   'leaf_size': 26,\n",
       "   'algorithm': 'kd_tree'},\n",
       "  {'weights': 'distance',\n",
       "   'p': 1,\n",
       "   'n_neighbors': 7,\n",
       "   'leaf_size': 21,\n",
       "   'algorithm': 'kd_tree'},\n",
       "  {'weights': 'distance',\n",
       "   'p': 1,\n",
       "   'n_neighbors': 24,\n",
       "   'leaf_size': 16,\n",
       "   'algorithm': 'ball_tree'},\n",
       "  {'weights': 'uniform',\n",
       "   'p': 2,\n",
       "   'n_neighbors': 22,\n",
       "   'leaf_size': 38,\n",
       "   'algorithm': 'brute'},\n",
       "  {'weights': 'uniform',\n",
       "   'p': 2,\n",
       "   'n_neighbors': 21,\n",
       "   'leaf_size': 38,\n",
       "   'algorithm': 'kd_tree'},\n",
       "  {'weights': 'distance',\n",
       "   'p': 2,\n",
       "   'n_neighbors': 7,\n",
       "   'leaf_size': 21,\n",
       "   'algorithm': 'brute'},\n",
       "  {'weights': 'distance',\n",
       "   'p': 2,\n",
       "   'n_neighbors': 24,\n",
       "   'leaf_size': 38,\n",
       "   'algorithm': 'auto'},\n",
       "  {'weights': 'distance',\n",
       "   'p': 1,\n",
       "   'n_neighbors': 7,\n",
       "   'leaf_size': 16,\n",
       "   'algorithm': 'auto'},\n",
       "  {'weights': 'uniform',\n",
       "   'p': 1,\n",
       "   'n_neighbors': 21,\n",
       "   'leaf_size': 16,\n",
       "   'algorithm': 'ball_tree'},\n",
       "  {'weights': 'distance',\n",
       "   'p': 1,\n",
       "   'n_neighbors': 21,\n",
       "   'leaf_size': 38,\n",
       "   'algorithm': 'ball_tree'},\n",
       "  {'weights': 'distance',\n",
       "   'p': 1,\n",
       "   'n_neighbors': 22,\n",
       "   'leaf_size': 38,\n",
       "   'algorithm': 'auto'},\n",
       "  {'weights': 'uniform',\n",
       "   'p': 2,\n",
       "   'n_neighbors': 21,\n",
       "   'leaf_size': 21,\n",
       "   'algorithm': 'auto'},\n",
       "  {'weights': 'distance',\n",
       "   'p': 2,\n",
       "   'n_neighbors': 6,\n",
       "   'leaf_size': 21,\n",
       "   'algorithm': 'auto'},\n",
       "  {'weights': 'uniform',\n",
       "   'p': 1,\n",
       "   'n_neighbors': 6,\n",
       "   'leaf_size': 26,\n",
       "   'algorithm': 'kd_tree'},\n",
       "  {'weights': 'distance',\n",
       "   'p': 1,\n",
       "   'n_neighbors': 7,\n",
       "   'leaf_size': 21,\n",
       "   'algorithm': 'auto'},\n",
       "  {'weights': 'distance',\n",
       "   'p': 1,\n",
       "   'n_neighbors': 21,\n",
       "   'leaf_size': 21,\n",
       "   'algorithm': 'brute'},\n",
       "  {'weights': 'distance',\n",
       "   'p': 2,\n",
       "   'n_neighbors': 24,\n",
       "   'leaf_size': 21,\n",
       "   'algorithm': 'ball_tree'},\n",
       "  {'weights': 'distance',\n",
       "   'p': 1,\n",
       "   'n_neighbors': 24,\n",
       "   'leaf_size': 26,\n",
       "   'algorithm': 'brute'},\n",
       "  {'weights': 'uniform',\n",
       "   'p': 1,\n",
       "   'n_neighbors': 24,\n",
       "   'leaf_size': 16,\n",
       "   'algorithm': 'auto'},\n",
       "  {'weights': 'uniform',\n",
       "   'p': 2,\n",
       "   'n_neighbors': 24,\n",
       "   'leaf_size': 21,\n",
       "   'algorithm': 'brute'},\n",
       "  {'weights': 'distance',\n",
       "   'p': 2,\n",
       "   'n_neighbors': 7,\n",
       "   'leaf_size': 38,\n",
       "   'algorithm': 'auto'},\n",
       "  {'weights': 'uniform',\n",
       "   'p': 1,\n",
       "   'n_neighbors': 6,\n",
       "   'leaf_size': 38,\n",
       "   'algorithm': 'kd_tree'},\n",
       "  {'weights': 'distance',\n",
       "   'p': 1,\n",
       "   'n_neighbors': 22,\n",
       "   'leaf_size': 21,\n",
       "   'algorithm': 'auto'},\n",
       "  {'weights': 'distance',\n",
       "   'p': 1,\n",
       "   'n_neighbors': 6,\n",
       "   'leaf_size': 38,\n",
       "   'algorithm': 'ball_tree'},\n",
       "  {'weights': 'distance',\n",
       "   'p': 2,\n",
       "   'n_neighbors': 6,\n",
       "   'leaf_size': 38,\n",
       "   'algorithm': 'brute'},\n",
       "  {'weights': 'uniform',\n",
       "   'p': 1,\n",
       "   'n_neighbors': 6,\n",
       "   'leaf_size': 16,\n",
       "   'algorithm': 'kd_tree'},\n",
       "  {'weights': 'uniform',\n",
       "   'p': 1,\n",
       "   'n_neighbors': 24,\n",
       "   'leaf_size': 16,\n",
       "   'algorithm': 'kd_tree'},\n",
       "  {'weights': 'distance',\n",
       "   'p': 1,\n",
       "   'n_neighbors': 21,\n",
       "   'leaf_size': 26,\n",
       "   'algorithm': 'brute'},\n",
       "  {'weights': 'uniform',\n",
       "   'p': 2,\n",
       "   'n_neighbors': 7,\n",
       "   'leaf_size': 16,\n",
       "   'algorithm': 'kd_tree'},\n",
       "  {'weights': 'uniform',\n",
       "   'p': 2,\n",
       "   'n_neighbors': 6,\n",
       "   'leaf_size': 37,\n",
       "   'algorithm': 'auto'},\n",
       "  {'weights': 'uniform',\n",
       "   'p': 2,\n",
       "   'n_neighbors': 6,\n",
       "   'leaf_size': 21,\n",
       "   'algorithm': 'brute'},\n",
       "  {'weights': 'distance',\n",
       "   'p': 1,\n",
       "   'n_neighbors': 24,\n",
       "   'leaf_size': 38,\n",
       "   'algorithm': 'auto'},\n",
       "  {'weights': 'uniform',\n",
       "   'p': 2,\n",
       "   'n_neighbors': 6,\n",
       "   'leaf_size': 38,\n",
       "   'algorithm': 'kd_tree'},\n",
       "  {'weights': 'uniform',\n",
       "   'p': 2,\n",
       "   'n_neighbors': 22,\n",
       "   'leaf_size': 21,\n",
       "   'algorithm': 'brute'},\n",
       "  {'weights': 'uniform',\n",
       "   'p': 2,\n",
       "   'n_neighbors': 21,\n",
       "   'leaf_size': 21,\n",
       "   'algorithm': 'kd_tree'},\n",
       "  {'weights': 'distance',\n",
       "   'p': 2,\n",
       "   'n_neighbors': 21,\n",
       "   'leaf_size': 16,\n",
       "   'algorithm': 'ball_tree'},\n",
       "  {'weights': 'distance',\n",
       "   'p': 2,\n",
       "   'n_neighbors': 21,\n",
       "   'leaf_size': 38,\n",
       "   'algorithm': 'auto'},\n",
       "  {'weights': 'uniform',\n",
       "   'p': 1,\n",
       "   'n_neighbors': 21,\n",
       "   'leaf_size': 26,\n",
       "   'algorithm': 'auto'},\n",
       "  {'weights': 'distance',\n",
       "   'p': 1,\n",
       "   'n_neighbors': 6,\n",
       "   'leaf_size': 21,\n",
       "   'algorithm': 'auto'},\n",
       "  {'weights': 'distance',\n",
       "   'p': 1,\n",
       "   'n_neighbors': 21,\n",
       "   'leaf_size': 21,\n",
       "   'algorithm': 'auto'},\n",
       "  {'weights': 'distance',\n",
       "   'p': 1,\n",
       "   'n_neighbors': 24,\n",
       "   'leaf_size': 38,\n",
       "   'algorithm': 'brute'},\n",
       "  {'weights': 'distance',\n",
       "   'p': 2,\n",
       "   'n_neighbors': 21,\n",
       "   'leaf_size': 16,\n",
       "   'algorithm': 'kd_tree'},\n",
       "  {'weights': 'distance',\n",
       "   'p': 1,\n",
       "   'n_neighbors': 7,\n",
       "   'leaf_size': 37,\n",
       "   'algorithm': 'auto'},\n",
       "  {'weights': 'uniform',\n",
       "   'p': 2,\n",
       "   'n_neighbors': 6,\n",
       "   'leaf_size': 26,\n",
       "   'algorithm': 'auto'},\n",
       "  {'weights': 'uniform',\n",
       "   'p': 1,\n",
       "   'n_neighbors': 21,\n",
       "   'leaf_size': 21,\n",
       "   'algorithm': 'ball_tree'},\n",
       "  {'weights': 'distance',\n",
       "   'p': 2,\n",
       "   'n_neighbors': 6,\n",
       "   'leaf_size': 21,\n",
       "   'algorithm': 'brute'},\n",
       "  {'weights': 'uniform',\n",
       "   'p': 2,\n",
       "   'n_neighbors': 22,\n",
       "   'leaf_size': 21,\n",
       "   'algorithm': 'ball_tree'},\n",
       "  {'weights': 'uniform',\n",
       "   'p': 2,\n",
       "   'n_neighbors': 24,\n",
       "   'leaf_size': 26,\n",
       "   'algorithm': 'brute'},\n",
       "  {'weights': 'distance',\n",
       "   'p': 1,\n",
       "   'n_neighbors': 6,\n",
       "   'leaf_size': 26,\n",
       "   'algorithm': 'ball_tree'},\n",
       "  {'weights': 'uniform',\n",
       "   'p': 2,\n",
       "   'n_neighbors': 22,\n",
       "   'leaf_size': 16,\n",
       "   'algorithm': 'kd_tree'},\n",
       "  {'weights': 'distance',\n",
       "   'p': 2,\n",
       "   'n_neighbors': 6,\n",
       "   'leaf_size': 26,\n",
       "   'algorithm': 'brute'},\n",
       "  {'weights': 'uniform',\n",
       "   'p': 1,\n",
       "   'n_neighbors': 7,\n",
       "   'leaf_size': 16,\n",
       "   'algorithm': 'brute'},\n",
       "  {'weights': 'uniform',\n",
       "   'p': 1,\n",
       "   'n_neighbors': 24,\n",
       "   'leaf_size': 26,\n",
       "   'algorithm': 'auto'},\n",
       "  {'weights': 'distance',\n",
       "   'p': 1,\n",
       "   'n_neighbors': 7,\n",
       "   'leaf_size': 37,\n",
       "   'algorithm': 'ball_tree'},\n",
       "  {'weights': 'distance',\n",
       "   'p': 1,\n",
       "   'n_neighbors': 22,\n",
       "   'leaf_size': 37,\n",
       "   'algorithm': 'auto'},\n",
       "  {'weights': 'distance',\n",
       "   'p': 2,\n",
       "   'n_neighbors': 24,\n",
       "   'leaf_size': 16,\n",
       "   'algorithm': 'ball_tree'},\n",
       "  {'weights': 'uniform',\n",
       "   'p': 1,\n",
       "   'n_neighbors': 6,\n",
       "   'leaf_size': 16,\n",
       "   'algorithm': 'auto'},\n",
       "  {'weights': 'distance',\n",
       "   'p': 1,\n",
       "   'n_neighbors': 7,\n",
       "   'leaf_size': 26,\n",
       "   'algorithm': 'auto'},\n",
       "  {'weights': 'distance',\n",
       "   'p': 2,\n",
       "   'n_neighbors': 24,\n",
       "   'leaf_size': 26,\n",
       "   'algorithm': 'ball_tree'},\n",
       "  {'weights': 'uniform',\n",
       "   'p': 2,\n",
       "   'n_neighbors': 24,\n",
       "   'leaf_size': 37,\n",
       "   'algorithm': 'brute'},\n",
       "  {'weights': 'distance',\n",
       "   'p': 1,\n",
       "   'n_neighbors': 24,\n",
       "   'leaf_size': 26,\n",
       "   'algorithm': 'auto'},\n",
       "  {'weights': 'distance',\n",
       "   'p': 2,\n",
       "   'n_neighbors': 21,\n",
       "   'leaf_size': 37,\n",
       "   'algorithm': 'ball_tree'},\n",
       "  {'weights': 'uniform',\n",
       "   'p': 2,\n",
       "   'n_neighbors': 7,\n",
       "   'leaf_size': 26,\n",
       "   'algorithm': 'brute'},\n",
       "  {'weights': 'uniform',\n",
       "   'p': 1,\n",
       "   'n_neighbors': 6,\n",
       "   'leaf_size': 21,\n",
       "   'algorithm': 'kd_tree'},\n",
       "  {'weights': 'uniform',\n",
       "   'p': 2,\n",
       "   'n_neighbors': 22,\n",
       "   'leaf_size': 26,\n",
       "   'algorithm': 'auto'},\n",
       "  {'weights': 'uniform',\n",
       "   'p': 2,\n",
       "   'n_neighbors': 7,\n",
       "   'leaf_size': 16,\n",
       "   'algorithm': 'brute'},\n",
       "  {'weights': 'uniform',\n",
       "   'p': 2,\n",
       "   'n_neighbors': 21,\n",
       "   'leaf_size': 16,\n",
       "   'algorithm': 'kd_tree'},\n",
       "  {'weights': 'uniform',\n",
       "   'p': 1,\n",
       "   'n_neighbors': 21,\n",
       "   'leaf_size': 37,\n",
       "   'algorithm': 'ball_tree'},\n",
       "  {'weights': 'uniform',\n",
       "   'p': 1,\n",
       "   'n_neighbors': 24,\n",
       "   'leaf_size': 37,\n",
       "   'algorithm': 'kd_tree'},\n",
       "  {'weights': 'distance',\n",
       "   'p': 2,\n",
       "   'n_neighbors': 7,\n",
       "   'leaf_size': 16,\n",
       "   'algorithm': 'brute'},\n",
       "  {'weights': 'distance',\n",
       "   'p': 2,\n",
       "   'n_neighbors': 21,\n",
       "   'leaf_size': 21,\n",
       "   'algorithm': 'ball_tree'},\n",
       "  {'weights': 'uniform',\n",
       "   'p': 2,\n",
       "   'n_neighbors': 7,\n",
       "   'leaf_size': 37,\n",
       "   'algorithm': 'auto'},\n",
       "  {'weights': 'uniform',\n",
       "   'p': 2,\n",
       "   'n_neighbors': 22,\n",
       "   'leaf_size': 16,\n",
       "   'algorithm': 'brute'},\n",
       "  {'weights': 'distance',\n",
       "   'p': 2,\n",
       "   'n_neighbors': 6,\n",
       "   'leaf_size': 37,\n",
       "   'algorithm': 'ball_tree'},\n",
       "  {'weights': 'uniform',\n",
       "   'p': 1,\n",
       "   'n_neighbors': 24,\n",
       "   'leaf_size': 21,\n",
       "   'algorithm': 'brute'},\n",
       "  {'weights': 'distance',\n",
       "   'p': 2,\n",
       "   'n_neighbors': 6,\n",
       "   'leaf_size': 38,\n",
       "   'algorithm': 'ball_tree'},\n",
       "  {'weights': 'distance',\n",
       "   'p': 2,\n",
       "   'n_neighbors': 24,\n",
       "   'leaf_size': 37,\n",
       "   'algorithm': 'ball_tree'},\n",
       "  {'weights': 'distance',\n",
       "   'p': 1,\n",
       "   'n_neighbors': 21,\n",
       "   'leaf_size': 38,\n",
       "   'algorithm': 'brute'},\n",
       "  {'weights': 'distance',\n",
       "   'p': 1,\n",
       "   'n_neighbors': 7,\n",
       "   'leaf_size': 16,\n",
       "   'algorithm': 'ball_tree'},\n",
       "  {'weights': 'distance',\n",
       "   'p': 2,\n",
       "   'n_neighbors': 21,\n",
       "   'leaf_size': 21,\n",
       "   'algorithm': 'kd_tree'},\n",
       "  {'weights': 'uniform',\n",
       "   'p': 2,\n",
       "   'n_neighbors': 24,\n",
       "   'leaf_size': 38,\n",
       "   'algorithm': 'brute'},\n",
       "  {'weights': 'distance',\n",
       "   'p': 1,\n",
       "   'n_neighbors': 21,\n",
       "   'leaf_size': 38,\n",
       "   'algorithm': 'kd_tree'},\n",
       "  {'weights': 'distance',\n",
       "   'p': 1,\n",
       "   'n_neighbors': 6,\n",
       "   'leaf_size': 38,\n",
       "   'algorithm': 'auto'},\n",
       "  {'weights': 'uniform',\n",
       "   'p': 1,\n",
       "   'n_neighbors': 6,\n",
       "   'leaf_size': 37,\n",
       "   'algorithm': 'brute'},\n",
       "  {'weights': 'distance',\n",
       "   'p': 2,\n",
       "   'n_neighbors': 7,\n",
       "   'leaf_size': 16,\n",
       "   'algorithm': 'ball_tree'},\n",
       "  {'weights': 'distance',\n",
       "   'p': 2,\n",
       "   'n_neighbors': 6,\n",
       "   'leaf_size': 21,\n",
       "   'algorithm': 'ball_tree'},\n",
       "  {'weights': 'uniform',\n",
       "   'p': 1,\n",
       "   'n_neighbors': 7,\n",
       "   'leaf_size': 16,\n",
       "   'algorithm': 'auto'},\n",
       "  {'weights': 'distance',\n",
       "   'p': 2,\n",
       "   'n_neighbors': 24,\n",
       "   'leaf_size': 38,\n",
       "   'algorithm': 'brute'},\n",
       "  {'weights': 'distance',\n",
       "   'p': 1,\n",
       "   'n_neighbors': 21,\n",
       "   'leaf_size': 26,\n",
       "   'algorithm': 'kd_tree'},\n",
       "  {'weights': 'uniform',\n",
       "   'p': 1,\n",
       "   'n_neighbors': 22,\n",
       "   'leaf_size': 16,\n",
       "   'algorithm': 'kd_tree'},\n",
       "  {'weights': 'distance',\n",
       "   'p': 2,\n",
       "   'n_neighbors': 22,\n",
       "   'leaf_size': 38,\n",
       "   'algorithm': 'ball_tree'},\n",
       "  {'weights': 'uniform',\n",
       "   'p': 2,\n",
       "   'n_neighbors': 7,\n",
       "   'leaf_size': 38,\n",
       "   'algorithm': 'ball_tree'},\n",
       "  {'weights': 'distance',\n",
       "   'p': 1,\n",
       "   'n_neighbors': 7,\n",
       "   'leaf_size': 37,\n",
       "   'algorithm': 'kd_tree'},\n",
       "  {'weights': 'distance',\n",
       "   'p': 1,\n",
       "   'n_neighbors': 24,\n",
       "   'leaf_size': 16,\n",
       "   'algorithm': 'brute'},\n",
       "  {'weights': 'distance',\n",
       "   'p': 1,\n",
       "   'n_neighbors': 24,\n",
       "   'leaf_size': 21,\n",
       "   'algorithm': 'brute'},\n",
       "  {'weights': 'distance',\n",
       "   'p': 2,\n",
       "   'n_neighbors': 21,\n",
       "   'leaf_size': 38,\n",
       "   'algorithm': 'kd_tree'},\n",
       "  {'weights': 'uniform',\n",
       "   'p': 1,\n",
       "   'n_neighbors': 7,\n",
       "   'leaf_size': 26,\n",
       "   'algorithm': 'ball_tree'},\n",
       "  {'weights': 'uniform',\n",
       "   'p': 2,\n",
       "   'n_neighbors': 21,\n",
       "   'leaf_size': 37,\n",
       "   'algorithm': 'kd_tree'},\n",
       "  {'weights': 'uniform',\n",
       "   'p': 1,\n",
       "   'n_neighbors': 7,\n",
       "   'leaf_size': 37,\n",
       "   'algorithm': 'brute'},\n",
       "  {'weights': 'uniform',\n",
       "   'p': 1,\n",
       "   'n_neighbors': 22,\n",
       "   'leaf_size': 37,\n",
       "   'algorithm': 'ball_tree'},\n",
       "  {'weights': 'uniform',\n",
       "   'p': 1,\n",
       "   'n_neighbors': 22,\n",
       "   'leaf_size': 21,\n",
       "   'algorithm': 'ball_tree'},\n",
       "  {'weights': 'uniform',\n",
       "   'p': 1,\n",
       "   'n_neighbors': 21,\n",
       "   'leaf_size': 16,\n",
       "   'algorithm': 'kd_tree'},\n",
       "  {'weights': 'distance',\n",
       "   'p': 2,\n",
       "   'n_neighbors': 21,\n",
       "   'leaf_size': 21,\n",
       "   'algorithm': 'auto'},\n",
       "  {'weights': 'uniform',\n",
       "   'p': 1,\n",
       "   'n_neighbors': 22,\n",
       "   'leaf_size': 21,\n",
       "   'algorithm': 'auto'},\n",
       "  {'weights': 'distance',\n",
       "   'p': 2,\n",
       "   'n_neighbors': 7,\n",
       "   'leaf_size': 26,\n",
       "   'algorithm': 'ball_tree'},\n",
       "  {'weights': 'uniform',\n",
       "   'p': 2,\n",
       "   'n_neighbors': 24,\n",
       "   'leaf_size': 37,\n",
       "   'algorithm': 'ball_tree'},\n",
       "  {'weights': 'uniform',\n",
       "   'p': 1,\n",
       "   'n_neighbors': 7,\n",
       "   'leaf_size': 37,\n",
       "   'algorithm': 'ball_tree'},\n",
       "  {'weights': 'uniform',\n",
       "   'p': 1,\n",
       "   'n_neighbors': 6,\n",
       "   'leaf_size': 21,\n",
       "   'algorithm': 'ball_tree'},\n",
       "  {'weights': 'uniform',\n",
       "   'p': 1,\n",
       "   'n_neighbors': 22,\n",
       "   'leaf_size': 21,\n",
       "   'algorithm': 'brute'},\n",
       "  {'weights': 'distance',\n",
       "   'p': 1,\n",
       "   'n_neighbors': 7,\n",
       "   'leaf_size': 38,\n",
       "   'algorithm': 'auto'},\n",
       "  {'weights': 'distance',\n",
       "   'p': 2,\n",
       "   'n_neighbors': 24,\n",
       "   'leaf_size': 26,\n",
       "   'algorithm': 'brute'},\n",
       "  {'weights': 'distance',\n",
       "   'p': 2,\n",
       "   'n_neighbors': 22,\n",
       "   'leaf_size': 16,\n",
       "   'algorithm': 'auto'},\n",
       "  {'weights': 'uniform',\n",
       "   'p': 2,\n",
       "   'n_neighbors': 7,\n",
       "   'leaf_size': 21,\n",
       "   'algorithm': 'kd_tree'},\n",
       "  {'weights': 'uniform',\n",
       "   'p': 2,\n",
       "   'n_neighbors': 21,\n",
       "   'leaf_size': 21,\n",
       "   'algorithm': 'ball_tree'},\n",
       "  {'weights': 'uniform',\n",
       "   'p': 1,\n",
       "   'n_neighbors': 6,\n",
       "   'leaf_size': 37,\n",
       "   'algorithm': 'auto'},\n",
       "  {'weights': 'uniform',\n",
       "   'p': 1,\n",
       "   'n_neighbors': 7,\n",
       "   'leaf_size': 16,\n",
       "   'algorithm': 'kd_tree'},\n",
       "  {'weights': 'distance',\n",
       "   'p': 1,\n",
       "   'n_neighbors': 22,\n",
       "   'leaf_size': 16,\n",
       "   'algorithm': 'ball_tree'},\n",
       "  {'weights': 'uniform',\n",
       "   'p': 1,\n",
       "   'n_neighbors': 24,\n",
       "   'leaf_size': 16,\n",
       "   'algorithm': 'ball_tree'},\n",
       "  {'weights': 'uniform',\n",
       "   'p': 2,\n",
       "   'n_neighbors': 22,\n",
       "   'leaf_size': 26,\n",
       "   'algorithm': 'brute'},\n",
       "  {'weights': 'uniform',\n",
       "   'p': 2,\n",
       "   'n_neighbors': 6,\n",
       "   'leaf_size': 26,\n",
       "   'algorithm': 'ball_tree'},\n",
       "  {'weights': 'uniform',\n",
       "   'p': 1,\n",
       "   'n_neighbors': 21,\n",
       "   'leaf_size': 21,\n",
       "   'algorithm': 'kd_tree'},\n",
       "  {'weights': 'uniform',\n",
       "   'p': 1,\n",
       "   'n_neighbors': 22,\n",
       "   'leaf_size': 37,\n",
       "   'algorithm': 'brute'},\n",
       "  {'weights': 'distance',\n",
       "   'p': 2,\n",
       "   'n_neighbors': 22,\n",
       "   'leaf_size': 38,\n",
       "   'algorithm': 'auto'},\n",
       "  {'weights': 'uniform',\n",
       "   'p': 1,\n",
       "   'n_neighbors': 7,\n",
       "   'leaf_size': 38,\n",
       "   'algorithm': 'ball_tree'},\n",
       "  {'weights': 'uniform',\n",
       "   'p': 2,\n",
       "   'n_neighbors': 21,\n",
       "   'leaf_size': 16,\n",
       "   'algorithm': 'auto'},\n",
       "  {'weights': 'uniform',\n",
       "   'p': 1,\n",
       "   'n_neighbors': 22,\n",
       "   'leaf_size': 26,\n",
       "   'algorithm': 'kd_tree'},\n",
       "  {'weights': 'distance',\n",
       "   'p': 1,\n",
       "   'n_neighbors': 21,\n",
       "   'leaf_size': 26,\n",
       "   'algorithm': 'ball_tree'},\n",
       "  {'weights': 'uniform',\n",
       "   'p': 1,\n",
       "   'n_neighbors': 21,\n",
       "   'leaf_size': 38,\n",
       "   'algorithm': 'brute'},\n",
       "  {'weights': 'uniform',\n",
       "   'p': 2,\n",
       "   'n_neighbors': 22,\n",
       "   'leaf_size': 21,\n",
       "   'algorithm': 'kd_tree'},\n",
       "  {'weights': 'distance',\n",
       "   'p': 2,\n",
       "   'n_neighbors': 6,\n",
       "   'leaf_size': 16,\n",
       "   'algorithm': 'auto'},\n",
       "  {'weights': 'uniform',\n",
       "   'p': 2,\n",
       "   'n_neighbors': 21,\n",
       "   'leaf_size': 16,\n",
       "   'algorithm': 'brute'},\n",
       "  {'weights': 'distance',\n",
       "   'p': 1,\n",
       "   'n_neighbors': 7,\n",
       "   'leaf_size': 38,\n",
       "   'algorithm': 'kd_tree'},\n",
       "  {'weights': 'distance',\n",
       "   'p': 1,\n",
       "   'n_neighbors': 24,\n",
       "   'leaf_size': 21,\n",
       "   'algorithm': 'auto'},\n",
       "  {'weights': 'uniform',\n",
       "   'p': 1,\n",
       "   'n_neighbors': 22,\n",
       "   'leaf_size': 38,\n",
       "   'algorithm': 'kd_tree'},\n",
       "  {'weights': 'distance',\n",
       "   'p': 1,\n",
       "   'n_neighbors': 21,\n",
       "   'leaf_size': 37,\n",
       "   'algorithm': 'kd_tree'},\n",
       "  {'weights': 'uniform',\n",
       "   'p': 1,\n",
       "   'n_neighbors': 6,\n",
       "   'leaf_size': 37,\n",
       "   'algorithm': 'kd_tree'},\n",
       "  {'weights': 'distance',\n",
       "   'p': 1,\n",
       "   'n_neighbors': 24,\n",
       "   'leaf_size': 37,\n",
       "   'algorithm': 'ball_tree'},\n",
       "  {'weights': 'distance',\n",
       "   'p': 1,\n",
       "   'n_neighbors': 7,\n",
       "   'leaf_size': 26,\n",
       "   'algorithm': 'ball_tree'},\n",
       "  {'weights': 'distance',\n",
       "   'p': 2,\n",
       "   'n_neighbors': 6,\n",
       "   'leaf_size': 37,\n",
       "   'algorithm': 'kd_tree'},\n",
       "  {'weights': 'distance',\n",
       "   'p': 1,\n",
       "   'n_neighbors': 6,\n",
       "   'leaf_size': 26,\n",
       "   'algorithm': 'kd_tree'}],\n",
       " 'split0_test_score': array([0.86233213, 0.88414098, 0.89473717, 0.86449739, 0.87541944,\n",
       "        0.88414098, 0.8763306 , 0.87571507, 0.89473717, 0.89444107,\n",
       "        0.89505952, 0.88186479, 0.88414098, 0.88414098, 0.87571365,\n",
       "        0.86449739, 0.89444107, 0.87540293, 0.86233213, 0.86449739,\n",
       "        0.87569692, 0.88186479, 0.87571365, 0.86234887, 0.86234887,\n",
       "        0.86234887, 0.87571507, 0.86233213, 0.87569692, 0.86234887,\n",
       "        0.89505952, 0.89506353, 0.89444107, 0.87540293, 0.89444107,\n",
       "        0.89506353, 0.89505952, 0.88186479, 0.86233237, 0.8947414 ,\n",
       "        0.86449739, 0.86451416, 0.88414098, 0.87569692, 0.88186479,\n",
       "        0.87569582, 0.87541944, 0.8947414 , 0.88414098, 0.87569692,\n",
       "        0.89473717, 0.87541944, 0.88186479, 0.89505952, 0.88186479,\n",
       "        0.87541944, 0.88414098, 0.89506353, 0.89506353, 0.88186479,\n",
       "        0.88414098, 0.86451416, 0.8763306 , 0.89473717, 0.89444107,\n",
       "        0.86449762, 0.87631714, 0.86451416, 0.89444107, 0.87541944,\n",
       "        0.87571507, 0.89444107, 0.86233213, 0.88186479, 0.86451416,\n",
       "        0.87541944, 0.87631714, 0.8763306 , 0.89506353, 0.89505952,\n",
       "        0.86449739, 0.88186479, 0.87571507, 0.86234887, 0.86233237,\n",
       "        0.88186479, 0.89506353, 0.87541944, 0.88414098, 0.88186479,\n",
       "        0.88186479, 0.8763306 , 0.88186479, 0.89473717, 0.89444107,\n",
       "        0.87540293, 0.87540293, 0.89444107, 0.86234887, 0.87541944,\n",
       "        0.8763306 , 0.87540293, 0.86451416, 0.88186479, 0.89444107,\n",
       "        0.86233237, 0.8947414 , 0.89505952, 0.86234887, 0.8947414 ,\n",
       "        0.86233237, 0.88414098, 0.89506353, 0.86451416, 0.87571507,\n",
       "        0.87631714, 0.88186479, 0.86451416, 0.87631714, 0.89505952,\n",
       "        0.8763306 , 0.87540293, 0.88414098, 0.88186479, 0.8947414 ,\n",
       "        0.88414098, 0.89444107, 0.89444107, 0.89506353, 0.86449762,\n",
       "        0.87540293, 0.88414098, 0.89473717, 0.86233213, 0.89506353,\n",
       "        0.86233213, 0.87631714, 0.87541944, 0.86451416, 0.87540293,\n",
       "        0.89505952, 0.87541944, 0.86234887, 0.88186479, 0.86449739,\n",
       "        0.86233213, 0.88414098, 0.87631746, 0.87541944, 0.8947414 ,\n",
       "        0.87569692, 0.88414098, 0.86451416, 0.8763306 , 0.8763306 ,\n",
       "        0.87540293, 0.88414098, 0.89444107, 0.88414098, 0.89473717,\n",
       "        0.8947414 , 0.89444107, 0.87540293, 0.8947414 , 0.86449739,\n",
       "        0.89505952, 0.88414098, 0.88186479, 0.89473717, 0.86451416,\n",
       "        0.87631746, 0.87569692, 0.88414098, 0.89444107, 0.88186479,\n",
       "        0.88414098, 0.87571507, 0.89506353, 0.89473717, 0.88186479,\n",
       "        0.89444107, 0.89473717, 0.87569692, 0.88414098, 0.89444107,\n",
       "        0.8947414 , 0.87541944, 0.89444107, 0.8947414 , 0.86233213,\n",
       "        0.89444107, 0.86451416, 0.8763306 , 0.8947414 , 0.87541944,\n",
       "        0.88186479, 0.8763306 , 0.86451416, 0.86233213, 0.86234887]),\n",
       " 'split1_test_score': array([0.87435662, 0.89601947, 0.9029754 , 0.87599825, 0.88374941,\n",
       "        0.89601947, 0.88444413, 0.88403065, 0.9029754 , 0.9025162 ,\n",
       "        0.90298809, 0.89453174, 0.89601947, 0.89601947, 0.88403065,\n",
       "        0.87599825, 0.9025162 , 0.88372033, 0.87435662, 0.87599825,\n",
       "        0.88400309, 0.89453174, 0.88403065, 0.87435721, 0.87435721,\n",
       "        0.87435721, 0.88403065, 0.87435662, 0.88400309, 0.87435721,\n",
       "        0.90298809, 0.90304636, 0.90259908, 0.88372033, 0.9025162 ,\n",
       "        0.90304636, 0.90298809, 0.89453174, 0.87435804, 0.9029754 ,\n",
       "        0.87599825, 0.87600014, 0.89601947, 0.88400309, 0.89453174,\n",
       "        0.8840048 , 0.88374941, 0.90290432, 0.89601947, 0.88400309,\n",
       "        0.90290432, 0.88374941, 0.89453174, 0.90298809, 0.89453174,\n",
       "        0.88374941, 0.89601947, 0.90304636, 0.90304636, 0.89453174,\n",
       "        0.89601947, 0.87600014, 0.88444413, 0.90290432, 0.9025162 ,\n",
       "        0.87599976, 0.88441598, 0.87600014, 0.90259908, 0.88374941,\n",
       "        0.88403065, 0.9025162 , 0.87435662, 0.89453174, 0.87600014,\n",
       "        0.88374941, 0.88441598, 0.88444413, 0.90304636, 0.90298809,\n",
       "        0.87599825, 0.89453174, 0.88403065, 0.87435721, 0.87435804,\n",
       "        0.89453174, 0.90304636, 0.88374941, 0.89601947, 0.89453174,\n",
       "        0.89453174, 0.88444413, 0.89453174, 0.90290432, 0.9025162 ,\n",
       "        0.88372033, 0.88372033, 0.90259908, 0.87435721, 0.88374941,\n",
       "        0.88444413, 0.88372033, 0.87600014, 0.89453174, 0.90259908,\n",
       "        0.87435804, 0.90290432, 0.90298809, 0.87435721, 0.90290432,\n",
       "        0.87435804, 0.89601947, 0.90304636, 0.87600014, 0.88403065,\n",
       "        0.88441598, 0.89453174, 0.87600014, 0.88441598, 0.90298809,\n",
       "        0.88444413, 0.88372033, 0.89601947, 0.89453174, 0.90290432,\n",
       "        0.89601947, 0.9025162 , 0.90259908, 0.90304636, 0.87599976,\n",
       "        0.88372033, 0.89601947, 0.90290432, 0.87435662, 0.90304636,\n",
       "        0.87435662, 0.88441598, 0.88374941, 0.87600014, 0.88372033,\n",
       "        0.90298809, 0.88374941, 0.87435721, 0.89453174, 0.87599825,\n",
       "        0.87435662, 0.89601947, 0.88441772, 0.88374941, 0.9029754 ,\n",
       "        0.88400309, 0.89601947, 0.87600014, 0.88444413, 0.88444413,\n",
       "        0.88372033, 0.89601947, 0.9025162 , 0.89601947, 0.9029754 ,\n",
       "        0.9029754 , 0.90259908, 0.88372033, 0.9029754 , 0.87599825,\n",
       "        0.90298809, 0.89601947, 0.89453174, 0.9029754 , 0.87600014,\n",
       "        0.88441772, 0.88400309, 0.89601947, 0.9025162 , 0.89453174,\n",
       "        0.89601947, 0.88403065, 0.90304636, 0.90290432, 0.89453174,\n",
       "        0.90259908, 0.9029754 , 0.88400309, 0.89601947, 0.9025162 ,\n",
       "        0.9029754 , 0.88374941, 0.90259908, 0.90290432, 0.87435662,\n",
       "        0.9025162 , 0.87600014, 0.88444413, 0.9029754 , 0.88374941,\n",
       "        0.89453174, 0.88444413, 0.87600014, 0.87435662, 0.87435721]),\n",
       " 'split2_test_score': array([0.86425614, 0.8842732 , 0.894453  , 0.86640592, 0.87662732,\n",
       "        0.8842732 , 0.87734161, 0.87686187, 0.894453  , 0.89431391,\n",
       "        0.8944325 , 0.88174252, 0.8842732 , 0.8842732 , 0.87686187,\n",
       "        0.86640592, 0.89431391, 0.87659095, 0.86425614, 0.86640592,\n",
       "        0.87685197, 0.88174252, 0.87686187, 0.86425535, 0.86425535,\n",
       "        0.86425535, 0.87686187, 0.86425614, 0.87685197, 0.86425535,\n",
       "        0.8944325 , 0.89449647, 0.89436602, 0.87659095, 0.89431391,\n",
       "        0.89449647, 0.8944325 , 0.88174252, 0.86425616, 0.894453  ,\n",
       "        0.86640592, 0.86640553, 0.8842732 , 0.87685197, 0.88174252,\n",
       "        0.87685197, 0.87662732, 0.89443501, 0.8842732 , 0.87685197,\n",
       "        0.89443501, 0.87662732, 0.88174252, 0.8944325 , 0.88174252,\n",
       "        0.87662732, 0.8842732 , 0.89449647, 0.89449647, 0.88174252,\n",
       "        0.8842732 , 0.86640553, 0.87734161, 0.89443501, 0.89431391,\n",
       "        0.86640594, 0.87730564, 0.86640553, 0.89436602, 0.87662732,\n",
       "        0.87686187, 0.89431391, 0.86425614, 0.88174252, 0.86640553,\n",
       "        0.87662732, 0.87730564, 0.87734161, 0.89449647, 0.8944325 ,\n",
       "        0.86640592, 0.88174252, 0.87686187, 0.86425535, 0.86425616,\n",
       "        0.88174252, 0.89449647, 0.87662732, 0.8842732 , 0.88174252,\n",
       "        0.88174252, 0.87734161, 0.88174252, 0.89443501, 0.89431391,\n",
       "        0.87659095, 0.87659095, 0.89436602, 0.86425535, 0.87662732,\n",
       "        0.87734161, 0.87659095, 0.86640553, 0.88174252, 0.89436602,\n",
       "        0.86425616, 0.89443501, 0.8944325 , 0.86425535, 0.89443501,\n",
       "        0.86425616, 0.8842732 , 0.89449647, 0.86640553, 0.87686187,\n",
       "        0.87730564, 0.88174252, 0.86640553, 0.87730564, 0.8944325 ,\n",
       "        0.87734161, 0.87659095, 0.8842732 , 0.88174252, 0.89443501,\n",
       "        0.8842732 , 0.89431391, 0.89436602, 0.89449647, 0.86640594,\n",
       "        0.87659095, 0.8842732 , 0.89443501, 0.86425614, 0.89449647,\n",
       "        0.86425614, 0.87730564, 0.87662732, 0.86640553, 0.87659095,\n",
       "        0.8944325 , 0.87662732, 0.86425535, 0.88174252, 0.86640592,\n",
       "        0.86425614, 0.8842732 , 0.87730564, 0.87662732, 0.894453  ,\n",
       "        0.87685197, 0.8842732 , 0.86640553, 0.87734161, 0.87734161,\n",
       "        0.87659095, 0.8842732 , 0.89431391, 0.8842732 , 0.894453  ,\n",
       "        0.894453  , 0.89436602, 0.87659095, 0.894453  , 0.86640592,\n",
       "        0.8944325 , 0.8842732 , 0.88174252, 0.894453  , 0.86640553,\n",
       "        0.87730564, 0.87685197, 0.8842732 , 0.89431391, 0.88174252,\n",
       "        0.8842732 , 0.87686187, 0.89449647, 0.89443501, 0.88174252,\n",
       "        0.89436602, 0.894453  , 0.87685197, 0.8842732 , 0.89431391,\n",
       "        0.894453  , 0.87662732, 0.89436602, 0.89443501, 0.86425614,\n",
       "        0.89431391, 0.86640553, 0.87734161, 0.894453  , 0.87662732,\n",
       "        0.88174252, 0.87734161, 0.86640553, 0.86425614, 0.86425535]),\n",
       " 'mean_test_score': array([0.86698163, 0.88814455, 0.89738852, 0.86896718, 0.87859872,\n",
       "        0.88814455, 0.87937211, 0.8788692 , 0.89738852, 0.89709039,\n",
       "        0.89749337, 0.88604635, 0.88814455, 0.88814455, 0.87886872,\n",
       "        0.86896718, 0.89709039, 0.8785714 , 0.86698163, 0.86896718,\n",
       "        0.87885066, 0.88604635, 0.87886872, 0.86698714, 0.86698714,\n",
       "        0.86698714, 0.8788692 , 0.86698163, 0.87885066, 0.86698714,\n",
       "        0.89749337, 0.89753546, 0.89713539, 0.8785714 , 0.89709039,\n",
       "        0.89753546, 0.89749337, 0.88604635, 0.86698219, 0.89738993,\n",
       "        0.86896718, 0.86897328, 0.88814455, 0.87885066, 0.88604635,\n",
       "        0.87885087, 0.87859872, 0.89736024, 0.88814455, 0.87885066,\n",
       "        0.89735883, 0.87859872, 0.88604635, 0.89749337, 0.88604635,\n",
       "        0.87859872, 0.88814455, 0.89753546, 0.89753546, 0.88604635,\n",
       "        0.88814455, 0.86897328, 0.87937211, 0.89735883, 0.89709039,\n",
       "        0.86896777, 0.87934625, 0.86897328, 0.89713539, 0.87859872,\n",
       "        0.8788692 , 0.89709039, 0.86698163, 0.88604635, 0.86897328,\n",
       "        0.87859872, 0.87934625, 0.87937211, 0.89753546, 0.89749337,\n",
       "        0.86896718, 0.88604635, 0.8788692 , 0.86698714, 0.86698219,\n",
       "        0.88604635, 0.89753546, 0.87859872, 0.88814455, 0.88604635,\n",
       "        0.88604635, 0.87937211, 0.88604635, 0.89735883, 0.89709039,\n",
       "        0.8785714 , 0.8785714 , 0.89713539, 0.86698714, 0.87859872,\n",
       "        0.87937211, 0.8785714 , 0.86897328, 0.88604635, 0.89713539,\n",
       "        0.86698219, 0.89736024, 0.89749337, 0.86698714, 0.89736024,\n",
       "        0.86698219, 0.88814455, 0.89753546, 0.86897328, 0.8788692 ,\n",
       "        0.87934625, 0.88604635, 0.86897328, 0.87934625, 0.89749337,\n",
       "        0.87937211, 0.8785714 , 0.88814455, 0.88604635, 0.89736024,\n",
       "        0.88814455, 0.89709039, 0.89713539, 0.89753546, 0.86896777,\n",
       "        0.8785714 , 0.88814455, 0.89735883, 0.86698163, 0.89753546,\n",
       "        0.86698163, 0.87934625, 0.87859872, 0.86897328, 0.8785714 ,\n",
       "        0.89749337, 0.87859872, 0.86698714, 0.88604635, 0.86896718,\n",
       "        0.86698163, 0.88814455, 0.87934694, 0.87859872, 0.89738993,\n",
       "        0.87885066, 0.88814455, 0.86897328, 0.87937211, 0.87937211,\n",
       "        0.8785714 , 0.88814455, 0.89709039, 0.88814455, 0.89738852,\n",
       "        0.89738993, 0.89713539, 0.8785714 , 0.89738993, 0.86896718,\n",
       "        0.89749337, 0.88814455, 0.88604635, 0.89738852, 0.86897328,\n",
       "        0.87934694, 0.87885066, 0.88814455, 0.89709039, 0.88604635,\n",
       "        0.88814455, 0.8788692 , 0.89753546, 0.89735883, 0.88604635,\n",
       "        0.89713539, 0.89738852, 0.87885066, 0.88814455, 0.89709039,\n",
       "        0.89738993, 0.87859872, 0.89713539, 0.89736024, 0.86698163,\n",
       "        0.89709039, 0.86897328, 0.87937211, 0.89738993, 0.87859872,\n",
       "        0.88604635, 0.87937211, 0.86897328, 0.86698163, 0.86698714]),\n",
       " 'std_test_score': array([0.00527373, 0.00556867, 0.00395222, 0.0050324 , 0.00367532,\n",
       "        0.00556867, 0.00361013, 0.0036796 , 0.00395222, 0.00383698,\n",
       "        0.00389377, 0.00600028, 0.00556867, 0.00556867, 0.00368001,\n",
       "        0.0050324 , 0.00383698, 0.00367301, 0.00527373, 0.0050324 ,\n",
       "        0.00367371, 0.00600028, 0.00368001, 0.00526922, 0.00526922,\n",
       "        0.00526922, 0.0036796 , 0.00527373, 0.00367371, 0.00526922,\n",
       "        0.00389377, 0.00390367, 0.00386353, 0.00367301, 0.00383698,\n",
       "        0.00390367, 0.00389377, 0.00600028, 0.00527432, 0.00395127,\n",
       "        0.0050324 , 0.00502838, 0.00556867, 0.00367371, 0.00600028,\n",
       "        0.00367482, 0.00367532, 0.00392225, 0.00556867, 0.00367371,\n",
       "        0.00392319, 0.00367532, 0.00600028, 0.00389377, 0.00600028,\n",
       "        0.00367532, 0.00556867, 0.00390367, 0.00390367, 0.00600028,\n",
       "        0.00556867, 0.00502838, 0.00361013, 0.00392319, 0.00383698,\n",
       "        0.00503303, 0.00360748, 0.00502838, 0.00386353, 0.00367532,\n",
       "        0.0036796 , 0.00383698, 0.00527373, 0.00600028, 0.00502838,\n",
       "        0.00367532, 0.00360748, 0.00361013, 0.00390367, 0.00389377,\n",
       "        0.0050324 , 0.00600028, 0.0036796 , 0.00526922, 0.00527432,\n",
       "        0.00600028, 0.00390367, 0.00367532, 0.00556867, 0.00600028,\n",
       "        0.00600028, 0.00361013, 0.00600028, 0.00392319, 0.00383698,\n",
       "        0.00367301, 0.00367301, 0.00386353, 0.00526922, 0.00367532,\n",
       "        0.00361013, 0.00367301, 0.00502838, 0.00600028, 0.00386353,\n",
       "        0.00527432, 0.00392225, 0.00389377, 0.00526922, 0.00392225,\n",
       "        0.00527432, 0.00556867, 0.00390367, 0.00502838, 0.0036796 ,\n",
       "        0.00360748, 0.00600028, 0.00502838, 0.00360748, 0.00389377,\n",
       "        0.00361013, 0.00367301, 0.00556867, 0.00600028, 0.00392225,\n",
       "        0.00556867, 0.00383698, 0.00386353, 0.00390367, 0.00503303,\n",
       "        0.00367301, 0.00556867, 0.00392319, 0.00527373, 0.00390367,\n",
       "        0.00527373, 0.00360748, 0.00367532, 0.00502838, 0.00367301,\n",
       "        0.00389377, 0.00367532, 0.00526922, 0.00600028, 0.0050324 ,\n",
       "        0.00527373, 0.00556867, 0.0036082 , 0.00367532, 0.00395127,\n",
       "        0.00367371, 0.00556867, 0.00502838, 0.00361013, 0.00361013,\n",
       "        0.00367301, 0.00556867, 0.00383698, 0.00556867, 0.00395222,\n",
       "        0.00395127, 0.00386353, 0.00367301, 0.00395127, 0.0050324 ,\n",
       "        0.00389377, 0.00556867, 0.00600028, 0.00395222, 0.00502838,\n",
       "        0.0036082 , 0.00367371, 0.00556867, 0.00383698, 0.00600028,\n",
       "        0.00556867, 0.0036796 , 0.00390367, 0.00392319, 0.00600028,\n",
       "        0.00386353, 0.00395222, 0.00367371, 0.00556867, 0.00383698,\n",
       "        0.00395127, 0.00367532, 0.00386353, 0.00392225, 0.00527373,\n",
       "        0.00383698, 0.00502838, 0.00361013, 0.00395127, 0.00367532,\n",
       "        0.00600028, 0.00361013, 0.00502838, 0.00527373, 0.00526922]),\n",
       " 'rank_test_score': array([192,  60,  26, 172, 135,  60, 102, 119,  26,  49,  11,  81,  60,\n",
       "         60, 125, 172,  49, 148, 192, 172, 128,  81, 125, 179, 179, 179,\n",
       "        119, 192, 128, 179,  11,   1,  41, 148,  49,   1,  11,  81, 188,\n",
       "         20, 172, 158,  60, 128,  81, 127, 135,  31,  60, 128,  36, 135,\n",
       "         81,  11,  81, 135,  60,   1,   1,  81,  60, 158, 102,  36,  49,\n",
       "        170, 114, 158,  41, 135, 119,  49, 192,  81, 158, 135, 114, 102,\n",
       "          1,  11, 172,  81, 119, 179, 188,  81,   1, 135,  60,  81,  81,\n",
       "        102,  81,  36,  49, 148, 148,  41, 179, 135, 102, 148, 158,  81,\n",
       "         41, 188,  31,  11, 179,  31, 188,  60,   1, 158, 119, 114,  81,\n",
       "        158, 114,  11, 102, 148,  60,  81,  31,  60,  49,  41,   1, 170,\n",
       "        148,  60,  36, 192,   1, 192, 114, 135, 158, 148,  11, 135, 179,\n",
       "         81, 172, 192,  60, 112, 135,  20, 128,  60, 158, 102, 102, 148,\n",
       "         60,  49,  60,  26,  20,  41, 148,  20, 172,  11,  60,  81,  26,\n",
       "        158, 112, 128,  60,  49,  81,  60, 119,   1,  36,  81,  41,  26,\n",
       "        128,  60,  49,  20, 135,  41,  31, 192,  49, 158, 102,  20, 135,\n",
       "         81, 102, 158, 192, 179])}"
      ]
     },
     "execution_count": 53,
     "metadata": {},
     "output_type": "execute_result"
    }
   ],
   "source": [
    "random_search.cv_results_"
   ]
  },
  {
   "cell_type": "code",
   "execution_count": 54,
   "id": "2daaae7e",
   "metadata": {},
   "outputs": [
    {
     "data": {
      "text/html": [
       "<div>\n",
       "<style scoped>\n",
       "    .dataframe tbody tr th:only-of-type {\n",
       "        vertical-align: middle;\n",
       "    }\n",
       "\n",
       "    .dataframe tbody tr th {\n",
       "        vertical-align: top;\n",
       "    }\n",
       "\n",
       "    .dataframe thead th {\n",
       "        text-align: right;\n",
       "    }\n",
       "</style>\n",
       "<table border=\"1\" class=\"dataframe\">\n",
       "  <thead>\n",
       "    <tr style=\"text-align: right;\">\n",
       "      <th></th>\n",
       "      <th>mean_fit_time</th>\n",
       "      <th>std_fit_time</th>\n",
       "      <th>mean_score_time</th>\n",
       "      <th>std_score_time</th>\n",
       "      <th>param_weights</th>\n",
       "      <th>param_p</th>\n",
       "      <th>param_n_neighbors</th>\n",
       "      <th>param_leaf_size</th>\n",
       "      <th>param_algorithm</th>\n",
       "      <th>params</th>\n",
       "      <th>split0_test_score</th>\n",
       "      <th>split1_test_score</th>\n",
       "      <th>split2_test_score</th>\n",
       "      <th>mean_test_score</th>\n",
       "      <th>std_test_score</th>\n",
       "      <th>rank_test_score</th>\n",
       "    </tr>\n",
       "  </thead>\n",
       "  <tbody>\n",
       "    <tr>\n",
       "      <th>0</th>\n",
       "      <td>0.003333</td>\n",
       "      <td>4.722696e-04</td>\n",
       "      <td>0.004666</td>\n",
       "      <td>0.000472</td>\n",
       "      <td>distance</td>\n",
       "      <td>2</td>\n",
       "      <td>6</td>\n",
       "      <td>21</td>\n",
       "      <td>kd_tree</td>\n",
       "      <td>{'weights': 'distance', 'p': 2, 'n_neighbors':...</td>\n",
       "      <td>0.862332</td>\n",
       "      <td>0.874357</td>\n",
       "      <td>0.864256</td>\n",
       "      <td>0.866982</td>\n",
       "      <td>0.005274</td>\n",
       "      <td>192</td>\n",
       "    </tr>\n",
       "    <tr>\n",
       "      <th>1</th>\n",
       "      <td>0.002667</td>\n",
       "      <td>4.679993e-04</td>\n",
       "      <td>0.015008</td>\n",
       "      <td>0.000802</td>\n",
       "      <td>uniform</td>\n",
       "      <td>2</td>\n",
       "      <td>7</td>\n",
       "      <td>26</td>\n",
       "      <td>ball_tree</td>\n",
       "      <td>{'weights': 'uniform', 'p': 2, 'n_neighbors': ...</td>\n",
       "      <td>0.884141</td>\n",
       "      <td>0.896019</td>\n",
       "      <td>0.884273</td>\n",
       "      <td>0.888145</td>\n",
       "      <td>0.005569</td>\n",
       "      <td>60</td>\n",
       "    </tr>\n",
       "    <tr>\n",
       "      <th>2</th>\n",
       "      <td>0.002010</td>\n",
       "      <td>1.090141e-05</td>\n",
       "      <td>0.111990</td>\n",
       "      <td>0.003553</td>\n",
       "      <td>uniform</td>\n",
       "      <td>1</td>\n",
       "      <td>22</td>\n",
       "      <td>38</td>\n",
       "      <td>brute</td>\n",
       "      <td>{'weights': 'uniform', 'p': 1, 'n_neighbors': ...</td>\n",
       "      <td>0.894737</td>\n",
       "      <td>0.902975</td>\n",
       "      <td>0.894453</td>\n",
       "      <td>0.897389</td>\n",
       "      <td>0.003952</td>\n",
       "      <td>26</td>\n",
       "    </tr>\n",
       "    <tr>\n",
       "      <th>3</th>\n",
       "      <td>0.003000</td>\n",
       "      <td>1.700793e-06</td>\n",
       "      <td>0.005001</td>\n",
       "      <td>0.000004</td>\n",
       "      <td>distance</td>\n",
       "      <td>2</td>\n",
       "      <td>7</td>\n",
       "      <td>21</td>\n",
       "      <td>kd_tree</td>\n",
       "      <td>{'weights': 'distance', 'p': 2, 'n_neighbors':...</td>\n",
       "      <td>0.864497</td>\n",
       "      <td>0.875998</td>\n",
       "      <td>0.866406</td>\n",
       "      <td>0.868967</td>\n",
       "      <td>0.005032</td>\n",
       "      <td>172</td>\n",
       "    </tr>\n",
       "    <tr>\n",
       "      <th>4</th>\n",
       "      <td>0.002999</td>\n",
       "      <td>5.150430e-07</td>\n",
       "      <td>0.008334</td>\n",
       "      <td>0.000471</td>\n",
       "      <td>distance</td>\n",
       "      <td>1</td>\n",
       "      <td>21</td>\n",
       "      <td>37</td>\n",
       "      <td>auto</td>\n",
       "      <td>{'weights': 'distance', 'p': 1, 'n_neighbors':...</td>\n",
       "      <td>0.875419</td>\n",
       "      <td>0.883749</td>\n",
       "      <td>0.876627</td>\n",
       "      <td>0.878599</td>\n",
       "      <td>0.003675</td>\n",
       "      <td>135</td>\n",
       "    </tr>\n",
       "  </tbody>\n",
       "</table>\n",
       "</div>"
      ],
      "text/plain": [
       "   mean_fit_time  std_fit_time  mean_score_time  std_score_time param_weights  \\\n",
       "0       0.003333  4.722696e-04         0.004666        0.000472      distance   \n",
       "1       0.002667  4.679993e-04         0.015008        0.000802       uniform   \n",
       "2       0.002010  1.090141e-05         0.111990        0.003553       uniform   \n",
       "3       0.003000  1.700793e-06         0.005001        0.000004      distance   \n",
       "4       0.002999  5.150430e-07         0.008334        0.000471      distance   \n",
       "\n",
       "  param_p param_n_neighbors param_leaf_size param_algorithm  \\\n",
       "0       2                 6              21         kd_tree   \n",
       "1       2                 7              26       ball_tree   \n",
       "2       1                22              38           brute   \n",
       "3       2                 7              21         kd_tree   \n",
       "4       1                21              37            auto   \n",
       "\n",
       "                                              params  split0_test_score  \\\n",
       "0  {'weights': 'distance', 'p': 2, 'n_neighbors':...           0.862332   \n",
       "1  {'weights': 'uniform', 'p': 2, 'n_neighbors': ...           0.884141   \n",
       "2  {'weights': 'uniform', 'p': 1, 'n_neighbors': ...           0.894737   \n",
       "3  {'weights': 'distance', 'p': 2, 'n_neighbors':...           0.864497   \n",
       "4  {'weights': 'distance', 'p': 1, 'n_neighbors':...           0.875419   \n",
       "\n",
       "   split1_test_score  split2_test_score  mean_test_score  std_test_score  \\\n",
       "0           0.874357           0.864256         0.866982        0.005274   \n",
       "1           0.896019           0.884273         0.888145        0.005569   \n",
       "2           0.902975           0.894453         0.897389        0.003952   \n",
       "3           0.875998           0.866406         0.868967        0.005032   \n",
       "4           0.883749           0.876627         0.878599        0.003675   \n",
       "\n",
       "   rank_test_score  \n",
       "0              192  \n",
       "1               60  \n",
       "2               26  \n",
       "3              172  \n",
       "4              135  "
      ]
     },
     "execution_count": 54,
     "metadata": {},
     "output_type": "execute_result"
    }
   ],
   "source": [
    "cv_result = pd.DataFrame(random_search.cv_results_)\n",
    "cv_result.head()"
   ]
  },
  {
   "cell_type": "code",
   "execution_count": 56,
   "id": "07414830",
   "metadata": {},
   "outputs": [
    {
     "data": {
      "text/plain": [
       "0.8975354570030804"
      ]
     },
     "execution_count": 56,
     "metadata": {},
     "output_type": "execute_result"
    }
   ],
   "source": [
    "random_search.best_score_ "
   ]
  },
  {
   "cell_type": "code",
   "execution_count": 59,
   "id": "b48032a4",
   "metadata": {},
   "outputs": [
    {
     "data": {
      "text/plain": [
       "{'weights': 'uniform',\n",
       " 'p': 1,\n",
       " 'n_neighbors': 24,\n",
       " 'leaf_size': 38,\n",
       " 'algorithm': 'kd_tree'}"
      ]
     },
     "execution_count": 59,
     "metadata": {},
     "output_type": "execute_result"
    }
   ],
   "source": [
    "random_search.best_params_ # Best K Values is : 43\n"
   ]
  },
  {
   "cell_type": "code",
   "execution_count": 58,
   "id": "e02c515d",
   "metadata": {},
   "outputs": [
    {
     "data": {
      "text/plain": [
       "0.8898095306547302"
      ]
     },
     "execution_count": 58,
     "metadata": {},
     "output_type": "execute_result"
    }
   ],
   "source": [
    "random_search.score(x_test,y_test)"
   ]
  },
  {
   "cell_type": "code",
   "execution_count": 57,
   "id": "4a84cb97",
   "metadata": {},
   "outputs": [
    {
     "data": {
      "text/plain": [
       "array([158.47609037, 150.50797712, 196.083093  , ..., 162.61735492,\n",
       "       189.8642049 , 150.72606685])"
      ]
     },
     "execution_count": 57,
     "metadata": {},
     "output_type": "execute_result"
    }
   ],
   "source": [
    "pred = random_search.predict(x_test)\n",
    "pred"
   ]
  },
  {
   "cell_type": "code",
   "execution_count": 60,
   "id": "64872595",
   "metadata": {},
   "outputs": [
    {
     "data": {
      "text/plain": [
       "KNeighborsRegressor(algorithm='kd_tree', leaf_size=38, n_neighbors=24, p=1)"
      ]
     },
     "execution_count": 60,
     "metadata": {},
     "output_type": "execute_result"
    }
   ],
   "source": [
    "knn2= random_search.best_estimator_\n",
    "knn2"
   ]
  },
  {
   "cell_type": "code",
   "execution_count": 62,
   "id": "534d4a61",
   "metadata": {},
   "outputs": [
    {
     "data": {
      "text/plain": [
       "KNeighborsRegressor(algorithm='kd_tree', leaf_size=38, n_neighbors=24, p=1)"
      ]
     },
     "execution_count": 62,
     "metadata": {},
     "output_type": "execute_result"
    }
   ],
   "source": [
    "knn2.fit(x_train, y_train)"
   ]
  },
  {
   "cell_type": "code",
   "execution_count": 63,
   "id": "2fcd2294",
   "metadata": {},
   "outputs": [
    {
     "data": {
      "text/plain": [
       "0.905301452248876"
      ]
     },
     "execution_count": 63,
     "metadata": {},
     "output_type": "execute_result"
    }
   ],
   "source": [
    "knn2.score(x_train,y_train)"
   ]
  },
  {
   "cell_type": "code",
   "execution_count": 65,
   "id": "2e69953e",
   "metadata": {},
   "outputs": [
    {
     "data": {
      "text/plain": [
       "0.8898095306547302"
      ]
     },
     "execution_count": 65,
     "metadata": {},
     "output_type": "execute_result"
    }
   ],
   "source": [
    "knn2.score(x_test, y_test)"
   ]
  },
  {
   "cell_type": "code",
   "execution_count": 66,
   "id": "786b9aab",
   "metadata": {},
   "outputs": [
    {
     "data": {
      "text/plain": [
       "0.9007374426817587"
      ]
     },
     "execution_count": 66,
     "metadata": {},
     "output_type": "execute_result"
    }
   ],
   "source": [
    "knn2.score(x,y)"
   ]
  },
  {
   "cell_type": "code",
   "execution_count": 67,
   "id": "ac8dd453",
   "metadata": {},
   "outputs": [
    {
     "data": {
      "text/plain": [
       "0.016503191558251973"
      ]
     },
     "execution_count": 67,
     "metadata": {},
     "output_type": "execute_result"
    }
   ],
   "source": [
    "0.8898095306547302-0.8733063390964783 #difference between tuned knn and knn(test)"
   ]
  },
  {
   "cell_type": "code",
   "execution_count": 114,
   "id": "2cfb60a9",
   "metadata": {},
   "outputs": [
    {
     "data": {
      "text/plain": [
       "-0.004650429427729197"
      ]
     },
     "execution_count": 114,
     "metadata": {},
     "output_type": "execute_result"
    }
   ],
   "source": [
    "0.8898095306547302-0.8944599600824594 #difference between tuned knn and linear regression"
   ]
  },
  {
   "cell_type": "code",
   "execution_count": 68,
   "id": "b5abf812",
   "metadata": {},
   "outputs": [
    {
     "name": "stdout",
     "output_type": "stream",
     "text": [
      "Accuracy :  0.8898095306547302\n",
      "Mean Squared Error :  111.10708726156221\n"
     ]
    }
   ],
   "source": [
    "# Evaluate Model (Accuracy, MSE, Prediction)\n",
    "Accuracy = random_search.score(x_test,y_test)\n",
    "Prediction = random_search.predict(x_test)\n",
    "mse = mean_squared_error(y_test,Prediction)\n",
    "\n",
    "print(\"Accuracy : \", Accuracy)\n",
    "print(\"Mean Squared Error : \", mse)"
   ]
  },
  {
   "cell_type": "markdown",
   "id": "d953e25d",
   "metadata": {},
   "source": [
    "# KNN Classifier"
   ]
  },
  {
   "cell_type": "code",
   "execution_count": 70,
   "id": "e125e5a5",
   "metadata": {},
   "outputs": [
    {
     "data": {
      "text/html": [
       "<div>\n",
       "<style scoped>\n",
       "    .dataframe tbody tr th:only-of-type {\n",
       "        vertical-align: middle;\n",
       "    }\n",
       "\n",
       "    .dataframe tbody tr th {\n",
       "        vertical-align: top;\n",
       "    }\n",
       "\n",
       "    .dataframe thead th {\n",
       "        text-align: right;\n",
       "    }\n",
       "</style>\n",
       "<table border=\"1\" class=\"dataframe\">\n",
       "  <thead>\n",
       "    <tr style=\"text-align: right;\">\n",
       "      <th></th>\n",
       "      <th>Gender</th>\n",
       "      <th>Height</th>\n",
       "      <th>Weight</th>\n",
       "    </tr>\n",
       "  </thead>\n",
       "  <tbody>\n",
       "    <tr>\n",
       "      <th>0</th>\n",
       "      <td>1</td>\n",
       "      <td>73.847017</td>\n",
       "      <td>241.893563</td>\n",
       "    </tr>\n",
       "    <tr>\n",
       "      <th>1</th>\n",
       "      <td>1</td>\n",
       "      <td>68.781904</td>\n",
       "      <td>162.310473</td>\n",
       "    </tr>\n",
       "    <tr>\n",
       "      <th>2</th>\n",
       "      <td>1</td>\n",
       "      <td>74.110105</td>\n",
       "      <td>212.740856</td>\n",
       "    </tr>\n",
       "    <tr>\n",
       "      <th>3</th>\n",
       "      <td>1</td>\n",
       "      <td>71.730978</td>\n",
       "      <td>220.042470</td>\n",
       "    </tr>\n",
       "    <tr>\n",
       "      <th>4</th>\n",
       "      <td>1</td>\n",
       "      <td>69.881796</td>\n",
       "      <td>206.349801</td>\n",
       "    </tr>\n",
       "  </tbody>\n",
       "</table>\n",
       "</div>"
      ],
      "text/plain": [
       "   Gender     Height      Weight\n",
       "0       1  73.847017  241.893563\n",
       "1       1  68.781904  162.310473\n",
       "2       1  74.110105  212.740856\n",
       "3       1  71.730978  220.042470\n",
       "4       1  69.881796  206.349801"
      ]
     },
     "execution_count": 70,
     "metadata": {},
     "output_type": "execute_result"
    }
   ],
   "source": [
    "df.head()"
   ]
  },
  {
   "cell_type": "code",
   "execution_count": 72,
   "id": "08393051",
   "metadata": {},
   "outputs": [
    {
     "data": {
      "text/plain": [
       "0    1\n",
       "1    1\n",
       "2    1\n",
       "3    1\n",
       "4    1\n",
       "Name: Gender, dtype: int64"
      ]
     },
     "execution_count": 72,
     "metadata": {},
     "output_type": "execute_result"
    }
   ],
   "source": [
    "df1=df.copy()\n",
    "df1.Gender=le.fit_transform(df1.Gender)\n",
    "df1.Gender.head()"
   ]
  },
  {
   "cell_type": "code",
   "execution_count": 73,
   "id": "4ff2b700",
   "metadata": {},
   "outputs": [],
   "source": [
    "x1= df1.drop('Gender', axis=1)\n",
    "y1=df1['Gender']"
   ]
  },
  {
   "cell_type": "code",
   "execution_count": 74,
   "id": "4e1cb02f",
   "metadata": {},
   "outputs": [
    {
     "data": {
      "text/html": [
       "<div>\n",
       "<style scoped>\n",
       "    .dataframe tbody tr th:only-of-type {\n",
       "        vertical-align: middle;\n",
       "    }\n",
       "\n",
       "    .dataframe tbody tr th {\n",
       "        vertical-align: top;\n",
       "    }\n",
       "\n",
       "    .dataframe thead th {\n",
       "        text-align: right;\n",
       "    }\n",
       "</style>\n",
       "<table border=\"1\" class=\"dataframe\">\n",
       "  <thead>\n",
       "    <tr style=\"text-align: right;\">\n",
       "      <th></th>\n",
       "      <th>Height</th>\n",
       "      <th>Weight</th>\n",
       "    </tr>\n",
       "  </thead>\n",
       "  <tbody>\n",
       "    <tr>\n",
       "      <th>0</th>\n",
       "      <td>73.847017</td>\n",
       "      <td>241.893563</td>\n",
       "    </tr>\n",
       "    <tr>\n",
       "      <th>1</th>\n",
       "      <td>68.781904</td>\n",
       "      <td>162.310473</td>\n",
       "    </tr>\n",
       "    <tr>\n",
       "      <th>2</th>\n",
       "      <td>74.110105</td>\n",
       "      <td>212.740856</td>\n",
       "    </tr>\n",
       "    <tr>\n",
       "      <th>3</th>\n",
       "      <td>71.730978</td>\n",
       "      <td>220.042470</td>\n",
       "    </tr>\n",
       "    <tr>\n",
       "      <th>4</th>\n",
       "      <td>69.881796</td>\n",
       "      <td>206.349801</td>\n",
       "    </tr>\n",
       "  </tbody>\n",
       "</table>\n",
       "</div>"
      ],
      "text/plain": [
       "      Height      Weight\n",
       "0  73.847017  241.893563\n",
       "1  68.781904  162.310473\n",
       "2  74.110105  212.740856\n",
       "3  71.730978  220.042470\n",
       "4  69.881796  206.349801"
      ]
     },
     "execution_count": 74,
     "metadata": {},
     "output_type": "execute_result"
    }
   ],
   "source": [
    "x1.head()"
   ]
  },
  {
   "cell_type": "code",
   "execution_count": 75,
   "id": "a402c615",
   "metadata": {},
   "outputs": [
    {
     "data": {
      "text/plain": [
       "0    1\n",
       "1    1\n",
       "2    1\n",
       "3    1\n",
       "4    1\n",
       "Name: Gender, dtype: int64"
      ]
     },
     "execution_count": 75,
     "metadata": {},
     "output_type": "execute_result"
    }
   ],
   "source": [
    "y1.head()"
   ]
  },
  {
   "cell_type": "code",
   "execution_count": 76,
   "id": "1e2fdcfb",
   "metadata": {},
   "outputs": [],
   "source": [
    "x1train, x1test,y1train, y1test = train_test_split(x1, y1,test_size=.30, random_state=1)"
   ]
  },
  {
   "cell_type": "code",
   "execution_count": 94,
   "id": "2e022f4f",
   "metadata": {},
   "outputs": [],
   "source": [
    "from sklearn.neighbors import KNeighborsClassifier\n",
    "clf= KNeighborsClassifier(n_neighbors=10)"
   ]
  },
  {
   "cell_type": "code",
   "execution_count": 95,
   "id": "dfb922f9",
   "metadata": {},
   "outputs": [
    {
     "data": {
      "text/plain": [
       "KNeighborsClassifier(n_neighbors=10)"
      ]
     },
     "execution_count": 95,
     "metadata": {},
     "output_type": "execute_result"
    }
   ],
   "source": [
    "clf.fit(x1train,y1train)"
   ]
  },
  {
   "cell_type": "code",
   "execution_count": 96,
   "id": "4af8614e",
   "metadata": {},
   "outputs": [],
   "source": [
    "y1pred= knn_clf.predict(x1test)"
   ]
  },
  {
   "cell_type": "code",
   "execution_count": 97,
   "id": "7185fe0e",
   "metadata": {},
   "outputs": [
    {
     "data": {
      "text/plain": [
       "0.9216984807167901"
      ]
     },
     "execution_count": 97,
     "metadata": {},
     "output_type": "execute_result"
    }
   ],
   "source": [
    "clf.score(x1test,y1test)"
   ]
  },
  {
   "cell_type": "code",
   "execution_count": 98,
   "id": "43ce445c",
   "metadata": {},
   "outputs": [
    {
     "data": {
      "text/plain": [
       "0.9213426853707415"
      ]
     },
     "execution_count": 98,
     "metadata": {},
     "output_type": "execute_result"
    }
   ],
   "source": [
    "clf.score(x1train,y1train)"
   ]
  },
  {
   "cell_type": "code",
   "execution_count": 99,
   "id": "75e056e9",
   "metadata": {},
   "outputs": [
    {
     "data": {
      "text/plain": [
       "0.9214494447691408"
      ]
     },
     "execution_count": 99,
     "metadata": {},
     "output_type": "execute_result"
    }
   ],
   "source": [
    "clf.score(x1,y1)"
   ]
  },
  {
   "cell_type": "markdown",
   "id": "96454ce4",
   "metadata": {},
   "source": [
    "#  Confusion matrix"
   ]
  },
  {
   "cell_type": "code",
   "execution_count": 91,
   "id": "06dc3872",
   "metadata": {},
   "outputs": [],
   "source": [
    "# Evaluate Model (Accuracy, Confusion Matrix, ROC, AUC, Classification Report)\n",
    "\n",
    "from sklearn.metrics import confusion_matrix, classification_report, roc_curve, plot_roc_curve , accuracy_score"
   ]
  },
  {
   "cell_type": "code",
   "execution_count": 113,
   "id": "86bed032",
   "metadata": {},
   "outputs": [
    {
     "name": "stdout",
     "output_type": "stream",
     "text": [
      "              precision    recall  f1-score   support\n",
      "\n",
      "           0       0.89      0.92      0.91      1055\n",
      "           1       0.94      0.92      0.93      1512\n",
      "\n",
      "    accuracy                           0.92      2567\n",
      "   macro avg       0.92      0.92      0.92      2567\n",
      "weighted avg       0.92      0.92      0.92      2567\n",
      "\n"
     ]
    }
   ],
   "source": [
    "clf_report = classification_report(y1test, y1pred)\n",
    "print(clf_report)# Classification Report \n"
   ]
  },
  {
   "cell_type": "code",
   "execution_count": 110,
   "id": "0e130255",
   "metadata": {},
   "outputs": [],
   "source": [
    "con_mat = confusion_matrix(y1test,y1pred)"
   ]
  },
  {
   "cell_type": "code",
   "execution_count": 111,
   "id": "bc3ef669",
   "metadata": {},
   "outputs": [
    {
     "data": {
      "text/plain": [
       "Text(51.0, 0.5, 'Actual Values')"
      ]
     },
     "execution_count": 111,
     "metadata": {},
     "output_type": "execute_result"
    },
    {
     "data": {
      "image/png": "[encoded data removed]",
      "text/plain": [
       "<Figure size 576x360 with 2 Axes>"
      ]
     },
     "metadata": {
      "needs_background": "light"
     },
     "output_type": "display_data"
    }
   ],
   "source": [
    "import seaborn as sns\n",
    "plt.figure(figsize=(8,5))\n",
    "sns.heatmap(con_mat, annot=True)\n",
    "plt.xlabel('Predicted Values',)\n",
    "plt.ylabel('Actual Values')"
   ]
  },
  {
   "cell_type": "markdown",
   "id": "c7f8b756",
   "metadata": {},
   "source": [
    "# ROC curve"
   ]
  },
  {
   "cell_type": "code",
   "execution_count": 107,
   "id": "9c036c9a",
   "metadata": {},
   "outputs": [
    {
     "data": {
      "text/plain": [
       "[<matplotlib.lines.Line2D at 0x197756f7490>]"
      ]
     },
     "execution_count": 107,
     "metadata": {},
     "output_type": "execute_result"
    },
    {
     "data": {
      "image/png": "[encoded data removed]",
      "text/plain": [
       "<Figure size 432x288 with 1 Axes>"
      ]
     },
     "metadata": {
      "needs_background": "light"
     },
     "output_type": "display_data"
    }
   ],
   "source": [
    "import matplotlib.pyplot as plt\n",
    "plot_roc_curve(clf, x1test, y1test)\n",
    "plt.plot([0,1],[0,1])"
   ]
  },
  {
   "cell_type": "code",
   "execution_count": null,
   "id": "78f9b0ed",
   "metadata": {},
   "outputs": [],
   "source": []
  }
 ],
 "metadata": {
  "kernelspec": {
   "display_name": "Python 3 (ipykernel)",
   "language": "python",
   "name": "python3"
  },
  "language_info": {
   "codemirror_mode": {
    "name": "ipython",
    "version": 3
   },
   "file_extension": ".py",
   "mimetype": "text/x-python",
   "name": "python",
   "nbconvert_exporter": "python",
   "pygments_lexer": "ipython3",
   "version": "3.9.12"
  }
 },
 "nbformat": 4,
 "nbformat_minor": 5
}
