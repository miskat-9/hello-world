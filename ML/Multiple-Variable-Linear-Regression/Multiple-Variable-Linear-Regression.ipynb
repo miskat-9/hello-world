{
 "cells": [
  {
   "cell_type": "code",
   "execution_count": 1,
   "id": "e25dca03",
   "metadata": {},
   "outputs": [],
   "source": [
    "import pandas as pd\n",
    "import numpy as np"
   ]
  },
  {
   "cell_type": "code",
   "execution_count": 2,
   "id": "91b923e6",
   "metadata": {},
   "outputs": [],
   "source": [
    "import warnings as w\n",
    "w.filterwarnings('ignore')"
   ]
  },
  {
   "cell_type": "code",
   "execution_count": 3,
   "id": "e77cf159",
   "metadata": {},
   "outputs": [],
   "source": [
    "# import the data\n",
    "# sep x,y\n",
    "# find out the coef , intercept\n",
    "# y = m1*x1 + m2*x2 + m3*x3 + c\n",
    "\n",
    "#KNN Regressor\n",
    "\n",
    "\n",
    "# calculate r2_score\n",
    "#compared"
   ]
  },
  {
   "cell_type": "code",
   "execution_count": 4,
   "id": "964c1243",
   "metadata": {},
   "outputs": [
    {
     "data": {
      "text/html": [
       "<div>\n",
       "<style scoped>\n",
       "    .dataframe tbody tr th:only-of-type {\n",
       "        vertical-align: middle;\n",
       "    }\n",
       "\n",
       "    .dataframe tbody tr th {\n",
       "        vertical-align: top;\n",
       "    }\n",
       "\n",
       "    .dataframe thead th {\n",
       "        text-align: right;\n",
       "    }\n",
       "</style>\n",
       "<table border=\"1\" class=\"dataframe\">\n",
       "  <thead>\n",
       "    <tr style=\"text-align: right;\">\n",
       "      <th></th>\n",
       "      <th>age</th>\n",
       "      <th>sex</th>\n",
       "      <th>bmi</th>\n",
       "      <th>children</th>\n",
       "      <th>smoker</th>\n",
       "      <th>region</th>\n",
       "      <th>charges</th>\n",
       "    </tr>\n",
       "  </thead>\n",
       "  <tbody>\n",
       "    <tr>\n",
       "      <th>0</th>\n",
       "      <td>19</td>\n",
       "      <td>female</td>\n",
       "      <td>27.900</td>\n",
       "      <td>0</td>\n",
       "      <td>yes</td>\n",
       "      <td>southwest</td>\n",
       "      <td>16884.92400</td>\n",
       "    </tr>\n",
       "    <tr>\n",
       "      <th>1</th>\n",
       "      <td>18</td>\n",
       "      <td>male</td>\n",
       "      <td>33.770</td>\n",
       "      <td>1</td>\n",
       "      <td>no</td>\n",
       "      <td>southeast</td>\n",
       "      <td>1725.55230</td>\n",
       "    </tr>\n",
       "    <tr>\n",
       "      <th>2</th>\n",
       "      <td>28</td>\n",
       "      <td>male</td>\n",
       "      <td>33.000</td>\n",
       "      <td>3</td>\n",
       "      <td>no</td>\n",
       "      <td>southeast</td>\n",
       "      <td>4449.46200</td>\n",
       "    </tr>\n",
       "    <tr>\n",
       "      <th>3</th>\n",
       "      <td>33</td>\n",
       "      <td>male</td>\n",
       "      <td>22.705</td>\n",
       "      <td>0</td>\n",
       "      <td>no</td>\n",
       "      <td>northwest</td>\n",
       "      <td>21984.47061</td>\n",
       "    </tr>\n",
       "    <tr>\n",
       "      <th>4</th>\n",
       "      <td>32</td>\n",
       "      <td>male</td>\n",
       "      <td>28.880</td>\n",
       "      <td>0</td>\n",
       "      <td>no</td>\n",
       "      <td>northwest</td>\n",
       "      <td>3866.85520</td>\n",
       "    </tr>\n",
       "  </tbody>\n",
       "</table>\n",
       "</div>"
      ],
      "text/plain": [
       "   age     sex     bmi  children smoker     region      charges\n",
       "0   19  female  27.900         0    yes  southwest  16884.92400\n",
       "1   18    male  33.770         1     no  southeast   1725.55230\n",
       "2   28    male  33.000         3     no  southeast   4449.46200\n",
       "3   33    male  22.705         0     no  northwest  21984.47061\n",
       "4   32    male  28.880         0     no  northwest   3866.85520"
      ]
     },
     "execution_count": 4,
     "metadata": {},
     "output_type": "execute_result"
    }
   ],
   "source": [
    "df = pd.read_csv('insurance.csv')\n",
    "df.head()"
   ]
  },
  {
   "cell_type": "code",
   "execution_count": 5,
   "id": "066a13fd",
   "metadata": {},
   "outputs": [
    {
     "data": {
      "text/plain": [
       "(1338, 7)"
      ]
     },
     "execution_count": 5,
     "metadata": {},
     "output_type": "execute_result"
    }
   ],
   "source": [
    "df.shape\n"
   ]
  },
  {
   "cell_type": "code",
   "execution_count": 6,
   "id": "3e549fa9",
   "metadata": {},
   "outputs": [
    {
     "data": {
      "text/html": [
       "<div>\n",
       "<style scoped>\n",
       "    .dataframe tbody tr th:only-of-type {\n",
       "        vertical-align: middle;\n",
       "    }\n",
       "\n",
       "    .dataframe tbody tr th {\n",
       "        vertical-align: top;\n",
       "    }\n",
       "\n",
       "    .dataframe thead th {\n",
       "        text-align: right;\n",
       "    }\n",
       "</style>\n",
       "<table border=\"1\" class=\"dataframe\">\n",
       "  <thead>\n",
       "    <tr style=\"text-align: right;\">\n",
       "      <th></th>\n",
       "      <th>age</th>\n",
       "      <th>bmi</th>\n",
       "      <th>children</th>\n",
       "      <th>charges</th>\n",
       "    </tr>\n",
       "  </thead>\n",
       "  <tbody>\n",
       "    <tr>\n",
       "      <th>count</th>\n",
       "      <td>1338.000000</td>\n",
       "      <td>1338.000000</td>\n",
       "      <td>1338.000000</td>\n",
       "      <td>1338.000000</td>\n",
       "    </tr>\n",
       "    <tr>\n",
       "      <th>mean</th>\n",
       "      <td>39.207025</td>\n",
       "      <td>30.663397</td>\n",
       "      <td>1.094918</td>\n",
       "      <td>13270.422265</td>\n",
       "    </tr>\n",
       "    <tr>\n",
       "      <th>std</th>\n",
       "      <td>14.049960</td>\n",
       "      <td>6.098187</td>\n",
       "      <td>1.205493</td>\n",
       "      <td>12110.011237</td>\n",
       "    </tr>\n",
       "    <tr>\n",
       "      <th>min</th>\n",
       "      <td>18.000000</td>\n",
       "      <td>15.960000</td>\n",
       "      <td>0.000000</td>\n",
       "      <td>1121.873900</td>\n",
       "    </tr>\n",
       "    <tr>\n",
       "      <th>25%</th>\n",
       "      <td>27.000000</td>\n",
       "      <td>26.296250</td>\n",
       "      <td>0.000000</td>\n",
       "      <td>4740.287150</td>\n",
       "    </tr>\n",
       "    <tr>\n",
       "      <th>50%</th>\n",
       "      <td>39.000000</td>\n",
       "      <td>30.400000</td>\n",
       "      <td>1.000000</td>\n",
       "      <td>9382.033000</td>\n",
       "    </tr>\n",
       "    <tr>\n",
       "      <th>75%</th>\n",
       "      <td>51.000000</td>\n",
       "      <td>34.693750</td>\n",
       "      <td>2.000000</td>\n",
       "      <td>16639.912515</td>\n",
       "    </tr>\n",
       "    <tr>\n",
       "      <th>max</th>\n",
       "      <td>64.000000</td>\n",
       "      <td>53.130000</td>\n",
       "      <td>5.000000</td>\n",
       "      <td>63770.428010</td>\n",
       "    </tr>\n",
       "  </tbody>\n",
       "</table>\n",
       "</div>"
      ],
      "text/plain": [
       "               age          bmi     children       charges\n",
       "count  1338.000000  1338.000000  1338.000000   1338.000000\n",
       "mean     39.207025    30.663397     1.094918  13270.422265\n",
       "std      14.049960     6.098187     1.205493  12110.011237\n",
       "min      18.000000    15.960000     0.000000   1121.873900\n",
       "25%      27.000000    26.296250     0.000000   4740.287150\n",
       "50%      39.000000    30.400000     1.000000   9382.033000\n",
       "75%      51.000000    34.693750     2.000000  16639.912515\n",
       "max      64.000000    53.130000     5.000000  63770.428010"
      ]
     },
     "execution_count": 6,
     "metadata": {},
     "output_type": "execute_result"
    }
   ],
   "source": [
    "df.describe()"
   ]
  },
  {
   "cell_type": "code",
   "execution_count": 7,
   "id": "7f17b42e",
   "metadata": {},
   "outputs": [
    {
     "name": "stdout",
     "output_type": "stream",
     "text": [
      "<class 'pandas.core.frame.DataFrame'>\n",
      "RangeIndex: 1338 entries, 0 to 1337\n",
      "Data columns (total 7 columns):\n",
      " #   Column    Non-Null Count  Dtype  \n",
      "---  ------    --------------  -----  \n",
      " 0   age       1338 non-null   int64  \n",
      " 1   sex       1338 non-null   object \n",
      " 2   bmi       1338 non-null   float64\n",
      " 3   children  1338 non-null   int64  \n",
      " 4   smoker    1338 non-null   object \n",
      " 5   region    1338 non-null   object \n",
      " 6   charges   1338 non-null   float64\n",
      "dtypes: float64(2), int64(2), object(3)\n",
      "memory usage: 73.3+ KB\n"
     ]
    }
   ],
   "source": [
    "df.info()"
   ]
  },
  {
   "cell_type": "code",
   "execution_count": 8,
   "id": "75b07842",
   "metadata": {},
   "outputs": [
    {
     "data": {
      "text/plain": [
       "age         0\n",
       "sex         0\n",
       "bmi         0\n",
       "children    0\n",
       "smoker      0\n",
       "region      0\n",
       "charges     0\n",
       "dtype: int64"
      ]
     },
     "execution_count": 8,
     "metadata": {},
     "output_type": "execute_result"
    }
   ],
   "source": [
    "df.isnull().sum()"
   ]
  },
  {
   "cell_type": "markdown",
   "id": "0704cb7f",
   "metadata": {},
   "source": [
    "# Encoding\n"
   ]
  },
  {
   "cell_type": "code",
   "execution_count": 9,
   "id": "8580c414",
   "metadata": {},
   "outputs": [
    {
     "data": {
      "text/plain": [
       "Index(['age', 'sex', 'bmi', 'children', 'smoker', 'region', 'charges'], dtype='object')"
      ]
     },
     "execution_count": 9,
     "metadata": {},
     "output_type": "execute_result"
    }
   ],
   "source": [
    "df.columns"
   ]
  },
  {
   "cell_type": "code",
   "execution_count": 10,
   "id": "0ff060e9",
   "metadata": {},
   "outputs": [
    {
     "data": {
      "text/plain": [
       "array(['southwest', 'southeast', 'northwest', 'northeast'], dtype=object)"
      ]
     },
     "execution_count": 10,
     "metadata": {},
     "output_type": "execute_result"
    }
   ],
   "source": [
    "df.region.unique()"
   ]
  },
  {
   "cell_type": "markdown",
   "id": "bae96f0e",
   "metadata": {},
   "source": [
    "## Label Encoding"
   ]
  },
  {
   "cell_type": "code",
   "execution_count": 11,
   "id": "2c36871d",
   "metadata": {},
   "outputs": [],
   "source": [
    "from sklearn.preprocessing import LabelEncoder\n",
    "le = LabelEncoder()"
   ]
  },
  {
   "cell_type": "code",
   "execution_count": 12,
   "id": "340af817",
   "metadata": {},
   "outputs": [],
   "source": [
    "from pandas.core.dtypes.common import is_numeric_dtype\n",
    "for column in df.columns:\n",
    "    if is_numeric_dtype(df[column]):\n",
    "        continue\n",
    "    df[column] = le.fit_transform(df[column])"
   ]
  },
  {
   "cell_type": "code",
   "execution_count": 13,
   "id": "0a88d854",
   "metadata": {},
   "outputs": [
    {
     "data": {
      "text/html": [
       "<div>\n",
       "<style scoped>\n",
       "    .dataframe tbody tr th:only-of-type {\n",
       "        vertical-align: middle;\n",
       "    }\n",
       "\n",
       "    .dataframe tbody tr th {\n",
       "        vertical-align: top;\n",
       "    }\n",
       "\n",
       "    .dataframe thead th {\n",
       "        text-align: right;\n",
       "    }\n",
       "</style>\n",
       "<table border=\"1\" class=\"dataframe\">\n",
       "  <thead>\n",
       "    <tr style=\"text-align: right;\">\n",
       "      <th></th>\n",
       "      <th>age</th>\n",
       "      <th>sex</th>\n",
       "      <th>bmi</th>\n",
       "      <th>children</th>\n",
       "      <th>smoker</th>\n",
       "      <th>region</th>\n",
       "      <th>charges</th>\n",
       "    </tr>\n",
       "  </thead>\n",
       "  <tbody>\n",
       "    <tr>\n",
       "      <th>0</th>\n",
       "      <td>19</td>\n",
       "      <td>0</td>\n",
       "      <td>27.900</td>\n",
       "      <td>0</td>\n",
       "      <td>1</td>\n",
       "      <td>3</td>\n",
       "      <td>16884.92400</td>\n",
       "    </tr>\n",
       "    <tr>\n",
       "      <th>1</th>\n",
       "      <td>18</td>\n",
       "      <td>1</td>\n",
       "      <td>33.770</td>\n",
       "      <td>1</td>\n",
       "      <td>0</td>\n",
       "      <td>2</td>\n",
       "      <td>1725.55230</td>\n",
       "    </tr>\n",
       "    <tr>\n",
       "      <th>2</th>\n",
       "      <td>28</td>\n",
       "      <td>1</td>\n",
       "      <td>33.000</td>\n",
       "      <td>3</td>\n",
       "      <td>0</td>\n",
       "      <td>2</td>\n",
       "      <td>4449.46200</td>\n",
       "    </tr>\n",
       "    <tr>\n",
       "      <th>3</th>\n",
       "      <td>33</td>\n",
       "      <td>1</td>\n",
       "      <td>22.705</td>\n",
       "      <td>0</td>\n",
       "      <td>0</td>\n",
       "      <td>1</td>\n",
       "      <td>21984.47061</td>\n",
       "    </tr>\n",
       "    <tr>\n",
       "      <th>4</th>\n",
       "      <td>32</td>\n",
       "      <td>1</td>\n",
       "      <td>28.880</td>\n",
       "      <td>0</td>\n",
       "      <td>0</td>\n",
       "      <td>1</td>\n",
       "      <td>3866.85520</td>\n",
       "    </tr>\n",
       "  </tbody>\n",
       "</table>\n",
       "</div>"
      ],
      "text/plain": [
       "   age  sex     bmi  children  smoker  region      charges\n",
       "0   19    0  27.900         0       1       3  16884.92400\n",
       "1   18    1  33.770         1       0       2   1725.55230\n",
       "2   28    1  33.000         3       0       2   4449.46200\n",
       "3   33    1  22.705         0       0       1  21984.47061\n",
       "4   32    1  28.880         0       0       1   3866.85520"
      ]
     },
     "execution_count": 13,
     "metadata": {},
     "output_type": "execute_result"
    }
   ],
   "source": [
    "df.head()"
   ]
  },
  {
   "cell_type": "markdown",
   "id": "2d2f0337",
   "metadata": {},
   "source": [
    "#### Without loop"
   ]
  },
  {
   "cell_type": "code",
   "execution_count": 14,
   "id": "1f826000",
   "metadata": {},
   "outputs": [
    {
     "data": {
      "text/html": [
       "<div>\n",
       "<style scoped>\n",
       "    .dataframe tbody tr th:only-of-type {\n",
       "        vertical-align: middle;\n",
       "    }\n",
       "\n",
       "    .dataframe tbody tr th {\n",
       "        vertical-align: top;\n",
       "    }\n",
       "\n",
       "    .dataframe thead th {\n",
       "        text-align: right;\n",
       "    }\n",
       "</style>\n",
       "<table border=\"1\" class=\"dataframe\">\n",
       "  <thead>\n",
       "    <tr style=\"text-align: right;\">\n",
       "      <th></th>\n",
       "      <th>age</th>\n",
       "      <th>sex</th>\n",
       "      <th>bmi</th>\n",
       "      <th>children</th>\n",
       "      <th>smoker</th>\n",
       "      <th>region</th>\n",
       "      <th>charges</th>\n",
       "    </tr>\n",
       "  </thead>\n",
       "  <tbody>\n",
       "    <tr>\n",
       "      <th>0</th>\n",
       "      <td>19</td>\n",
       "      <td>0</td>\n",
       "      <td>27.900</td>\n",
       "      <td>0</td>\n",
       "      <td>1</td>\n",
       "      <td>3</td>\n",
       "      <td>16884.92400</td>\n",
       "    </tr>\n",
       "    <tr>\n",
       "      <th>1</th>\n",
       "      <td>18</td>\n",
       "      <td>1</td>\n",
       "      <td>33.770</td>\n",
       "      <td>1</td>\n",
       "      <td>0</td>\n",
       "      <td>2</td>\n",
       "      <td>1725.55230</td>\n",
       "    </tr>\n",
       "    <tr>\n",
       "      <th>2</th>\n",
       "      <td>28</td>\n",
       "      <td>1</td>\n",
       "      <td>33.000</td>\n",
       "      <td>3</td>\n",
       "      <td>0</td>\n",
       "      <td>2</td>\n",
       "      <td>4449.46200</td>\n",
       "    </tr>\n",
       "    <tr>\n",
       "      <th>3</th>\n",
       "      <td>33</td>\n",
       "      <td>1</td>\n",
       "      <td>22.705</td>\n",
       "      <td>0</td>\n",
       "      <td>0</td>\n",
       "      <td>1</td>\n",
       "      <td>21984.47061</td>\n",
       "    </tr>\n",
       "    <tr>\n",
       "      <th>4</th>\n",
       "      <td>32</td>\n",
       "      <td>1</td>\n",
       "      <td>28.880</td>\n",
       "      <td>0</td>\n",
       "      <td>0</td>\n",
       "      <td>1</td>\n",
       "      <td>3866.85520</td>\n",
       "    </tr>\n",
       "  </tbody>\n",
       "</table>\n",
       "</div>"
      ],
      "text/plain": [
       "   age  sex     bmi  children  smoker  region      charges\n",
       "0   19    0  27.900         0       1       3  16884.92400\n",
       "1   18    1  33.770         1       0       2   1725.55230\n",
       "2   28    1  33.000         3       0       2   4449.46200\n",
       "3   33    1  22.705         0       0       1  21984.47061\n",
       "4   32    1  28.880         0       0       1   3866.85520"
      ]
     },
     "execution_count": 14,
     "metadata": {},
     "output_type": "execute_result"
    }
   ],
   "source": [
    "df.sex = le.fit_transform(df.sex)\n",
    "df.head()"
   ]
  },
  {
   "cell_type": "code",
   "execution_count": 15,
   "id": "f1464b4d",
   "metadata": {},
   "outputs": [
    {
     "data": {
      "text/html": [
       "<div>\n",
       "<style scoped>\n",
       "    .dataframe tbody tr th:only-of-type {\n",
       "        vertical-align: middle;\n",
       "    }\n",
       "\n",
       "    .dataframe tbody tr th {\n",
       "        vertical-align: top;\n",
       "    }\n",
       "\n",
       "    .dataframe thead th {\n",
       "        text-align: right;\n",
       "    }\n",
       "</style>\n",
       "<table border=\"1\" class=\"dataframe\">\n",
       "  <thead>\n",
       "    <tr style=\"text-align: right;\">\n",
       "      <th></th>\n",
       "      <th>age</th>\n",
       "      <th>sex</th>\n",
       "      <th>bmi</th>\n",
       "      <th>children</th>\n",
       "      <th>smoker</th>\n",
       "      <th>region</th>\n",
       "      <th>charges</th>\n",
       "    </tr>\n",
       "  </thead>\n",
       "  <tbody>\n",
       "    <tr>\n",
       "      <th>age</th>\n",
       "      <td>1.000000</td>\n",
       "      <td>-0.020856</td>\n",
       "      <td>0.109272</td>\n",
       "      <td>0.042469</td>\n",
       "      <td>-0.025019</td>\n",
       "      <td>0.002127</td>\n",
       "      <td>0.299008</td>\n",
       "    </tr>\n",
       "    <tr>\n",
       "      <th>sex</th>\n",
       "      <td>-0.020856</td>\n",
       "      <td>1.000000</td>\n",
       "      <td>0.046371</td>\n",
       "      <td>0.017163</td>\n",
       "      <td>0.076185</td>\n",
       "      <td>0.004588</td>\n",
       "      <td>0.057292</td>\n",
       "    </tr>\n",
       "    <tr>\n",
       "      <th>bmi</th>\n",
       "      <td>0.109272</td>\n",
       "      <td>0.046371</td>\n",
       "      <td>1.000000</td>\n",
       "      <td>0.012759</td>\n",
       "      <td>0.003750</td>\n",
       "      <td>0.157566</td>\n",
       "      <td>0.198341</td>\n",
       "    </tr>\n",
       "    <tr>\n",
       "      <th>children</th>\n",
       "      <td>0.042469</td>\n",
       "      <td>0.017163</td>\n",
       "      <td>0.012759</td>\n",
       "      <td>1.000000</td>\n",
       "      <td>0.007673</td>\n",
       "      <td>0.016569</td>\n",
       "      <td>0.067998</td>\n",
       "    </tr>\n",
       "    <tr>\n",
       "      <th>smoker</th>\n",
       "      <td>-0.025019</td>\n",
       "      <td>0.076185</td>\n",
       "      <td>0.003750</td>\n",
       "      <td>0.007673</td>\n",
       "      <td>1.000000</td>\n",
       "      <td>-0.002181</td>\n",
       "      <td>0.787251</td>\n",
       "    </tr>\n",
       "    <tr>\n",
       "      <th>region</th>\n",
       "      <td>0.002127</td>\n",
       "      <td>0.004588</td>\n",
       "      <td>0.157566</td>\n",
       "      <td>0.016569</td>\n",
       "      <td>-0.002181</td>\n",
       "      <td>1.000000</td>\n",
       "      <td>-0.006208</td>\n",
       "    </tr>\n",
       "    <tr>\n",
       "      <th>charges</th>\n",
       "      <td>0.299008</td>\n",
       "      <td>0.057292</td>\n",
       "      <td>0.198341</td>\n",
       "      <td>0.067998</td>\n",
       "      <td>0.787251</td>\n",
       "      <td>-0.006208</td>\n",
       "      <td>1.000000</td>\n",
       "    </tr>\n",
       "  </tbody>\n",
       "</table>\n",
       "</div>"
      ],
      "text/plain": [
       "               age       sex       bmi  children    smoker    region   charges\n",
       "age       1.000000 -0.020856  0.109272  0.042469 -0.025019  0.002127  0.299008\n",
       "sex      -0.020856  1.000000  0.046371  0.017163  0.076185  0.004588  0.057292\n",
       "bmi       0.109272  0.046371  1.000000  0.012759  0.003750  0.157566  0.198341\n",
       "children  0.042469  0.017163  0.012759  1.000000  0.007673  0.016569  0.067998\n",
       "smoker   -0.025019  0.076185  0.003750  0.007673  1.000000 -0.002181  0.787251\n",
       "region    0.002127  0.004588  0.157566  0.016569 -0.002181  1.000000 -0.006208\n",
       "charges   0.299008  0.057292  0.198341  0.067998  0.787251 -0.006208  1.000000"
      ]
     },
     "execution_count": 15,
     "metadata": {},
     "output_type": "execute_result"
    }
   ],
   "source": [
    "df.corr()"
   ]
  },
  {
   "cell_type": "code",
   "execution_count": 16,
   "id": "457eeef0",
   "metadata": {},
   "outputs": [
    {
     "data": {
      "text/plain": [
       "<AxesSubplot:>"
      ]
     },
     "execution_count": 16,
     "metadata": {},
     "output_type": "execute_result"
    },
    {
     "data": {
      "image/png": "[encoded data removed]",
      "text/plain": [
       "<Figure size 1080x720 with 2 Axes>"
      ]
     },
     "metadata": {
      "needs_background": "light"
     },
     "output_type": "display_data"
    }
   ],
   "source": [
    "import matplotlib.pyplot as plt\n",
    "import seaborn as sns\n",
    "plt.subplots(figsize=(15,10)) \n",
    "sns.heatmap(df.corr() , annot=True)"
   ]
  },
  {
   "cell_type": "markdown",
   "id": "30bd46d4",
   "metadata": {},
   "source": [
    "# Define x and y"
   ]
  },
  {
   "cell_type": "code",
   "execution_count": 17,
   "id": "ca3eeb3c",
   "metadata": {},
   "outputs": [],
   "source": [
    "x=df.drop('charges',axis=1)\n",
    "y= df['charges']\n"
   ]
  },
  {
   "cell_type": "code",
   "execution_count": 18,
   "id": "be266795",
   "metadata": {},
   "outputs": [
    {
     "data": {
      "text/html": [
       "<div>\n",
       "<style scoped>\n",
       "    .dataframe tbody tr th:only-of-type {\n",
       "        vertical-align: middle;\n",
       "    }\n",
       "\n",
       "    .dataframe tbody tr th {\n",
       "        vertical-align: top;\n",
       "    }\n",
       "\n",
       "    .dataframe thead th {\n",
       "        text-align: right;\n",
       "    }\n",
       "</style>\n",
       "<table border=\"1\" class=\"dataframe\">\n",
       "  <thead>\n",
       "    <tr style=\"text-align: right;\">\n",
       "      <th></th>\n",
       "      <th>age</th>\n",
       "      <th>sex</th>\n",
       "      <th>bmi</th>\n",
       "      <th>children</th>\n",
       "      <th>smoker</th>\n",
       "      <th>region</th>\n",
       "    </tr>\n",
       "  </thead>\n",
       "  <tbody>\n",
       "    <tr>\n",
       "      <th>0</th>\n",
       "      <td>19</td>\n",
       "      <td>0</td>\n",
       "      <td>27.900</td>\n",
       "      <td>0</td>\n",
       "      <td>1</td>\n",
       "      <td>3</td>\n",
       "    </tr>\n",
       "    <tr>\n",
       "      <th>1</th>\n",
       "      <td>18</td>\n",
       "      <td>1</td>\n",
       "      <td>33.770</td>\n",
       "      <td>1</td>\n",
       "      <td>0</td>\n",
       "      <td>2</td>\n",
       "    </tr>\n",
       "    <tr>\n",
       "      <th>2</th>\n",
       "      <td>28</td>\n",
       "      <td>1</td>\n",
       "      <td>33.000</td>\n",
       "      <td>3</td>\n",
       "      <td>0</td>\n",
       "      <td>2</td>\n",
       "    </tr>\n",
       "    <tr>\n",
       "      <th>3</th>\n",
       "      <td>33</td>\n",
       "      <td>1</td>\n",
       "      <td>22.705</td>\n",
       "      <td>0</td>\n",
       "      <td>0</td>\n",
       "      <td>1</td>\n",
       "    </tr>\n",
       "    <tr>\n",
       "      <th>4</th>\n",
       "      <td>32</td>\n",
       "      <td>1</td>\n",
       "      <td>28.880</td>\n",
       "      <td>0</td>\n",
       "      <td>0</td>\n",
       "      <td>1</td>\n",
       "    </tr>\n",
       "  </tbody>\n",
       "</table>\n",
       "</div>"
      ],
      "text/plain": [
       "   age  sex     bmi  children  smoker  region\n",
       "0   19    0  27.900         0       1       3\n",
       "1   18    1  33.770         1       0       2\n",
       "2   28    1  33.000         3       0       2\n",
       "3   33    1  22.705         0       0       1\n",
       "4   32    1  28.880         0       0       1"
      ]
     },
     "execution_count": 18,
     "metadata": {},
     "output_type": "execute_result"
    }
   ],
   "source": [
    "x.head()"
   ]
  },
  {
   "cell_type": "code",
   "execution_count": 19,
   "id": "cf6c34cb",
   "metadata": {},
   "outputs": [
    {
     "data": {
      "text/plain": [
       "(1338, 6)"
      ]
     },
     "execution_count": 19,
     "metadata": {},
     "output_type": "execute_result"
    }
   ],
   "source": [
    "x.shape"
   ]
  },
  {
   "cell_type": "code",
   "execution_count": 20,
   "id": "612c40e6",
   "metadata": {},
   "outputs": [
    {
     "data": {
      "text/plain": [
       "0    16884.92400\n",
       "1     1725.55230\n",
       "2     4449.46200\n",
       "3    21984.47061\n",
       "4     3866.85520\n",
       "Name: charges, dtype: float64"
      ]
     },
     "execution_count": 20,
     "metadata": {},
     "output_type": "execute_result"
    }
   ],
   "source": [
    "y.head()"
   ]
  },
  {
   "cell_type": "code",
   "execution_count": 21,
   "id": "1a5a3639",
   "metadata": {},
   "outputs": [
    {
     "data": {
      "text/plain": [
       "(1338,)"
      ]
     },
     "execution_count": 21,
     "metadata": {},
     "output_type": "execute_result"
    }
   ],
   "source": [
    "y.shape"
   ]
  },
  {
   "cell_type": "code",
   "execution_count": 22,
   "id": "80bde87c",
   "metadata": {},
   "outputs": [
    {
     "data": {
      "text/plain": [
       "<bound method DataFrame.info of       age  sex     bmi  children  smoker  region\n",
       "0      19    0  27.900         0       1       3\n",
       "1      18    1  33.770         1       0       2\n",
       "2      28    1  33.000         3       0       2\n",
       "3      33    1  22.705         0       0       1\n",
       "4      32    1  28.880         0       0       1\n",
       "...   ...  ...     ...       ...     ...     ...\n",
       "1333   50    1  30.970         3       0       1\n",
       "1334   18    0  31.920         0       0       0\n",
       "1335   18    0  36.850         0       0       2\n",
       "1336   21    0  25.800         0       0       3\n",
       "1337   61    0  29.070         0       1       1\n",
       "\n",
       "[1338 rows x 6 columns]>"
      ]
     },
     "execution_count": 22,
     "metadata": {},
     "output_type": "execute_result"
    }
   ],
   "source": [
    "x.info"
   ]
  },
  {
   "cell_type": "code",
   "execution_count": 23,
   "id": "9cfbde08",
   "metadata": {},
   "outputs": [
    {
     "data": {
      "text/plain": [
       "<AxesSubplot:xlabel='sex', ylabel='charges'>"
      ]
     },
     "execution_count": 23,
     "metadata": {},
     "output_type": "execute_result"
    },
    {
     "data": {
      "image/png": "[encoded data removed]",
      "text/plain": [
       "<Figure size 432x288 with 1 Axes>"
      ]
     },
     "metadata": {
      "needs_background": "light"
     },
     "output_type": "display_data"
    }
   ],
   "source": [
    "sns.boxplot(x['sex'],y)"
   ]
  },
  {
   "cell_type": "markdown",
   "id": "6630d48e",
   "metadata": {},
   "source": [
    "# hold out cross validation"
   ]
  },
  {
   "cell_type": "code",
   "execution_count": 24,
   "id": "f927c57d",
   "metadata": {},
   "outputs": [],
   "source": [
    "from sklearn.model_selection import train_test_split "
   ]
  },
  {
   "cell_type": "code",
   "execution_count": 25,
   "id": "15b4a1d6",
   "metadata": {},
   "outputs": [],
   "source": [
    "xtrain,xtest, ytrain,ytest = train_test_split(x, y, train_size=.75,random_state=42) "
   ]
  },
  {
   "cell_type": "code",
   "execution_count": 55,
   "id": "ae7cdd21",
   "metadata": {},
   "outputs": [
    {
     "name": "stdout",
     "output_type": "stream",
     "text": [
      "      age  sex     bmi  children  smoker  region\n",
      "0      19    0  27.900         0       1       3\n",
      "1      18    1  33.770         1       0       2\n",
      "2      28    1  33.000         3       0       2\n",
      "3      33    1  22.705         0       0       1\n",
      "4      32    1  28.880         0       0       1\n",
      "...   ...  ...     ...       ...     ...     ...\n",
      "1333   50    1  30.970         3       0       1\n",
      "1334   18    0  31.920         0       0       0\n",
      "1335   18    0  36.850         0       0       2\n",
      "1336   21    0  25.800         0       0       3\n",
      "1337   61    0  29.070         0       1       1\n",
      "\n",
      "[1338 rows x 6 columns]\n"
     ]
    }
   ],
   "source": [
    "print(x)"
   ]
  },
  {
   "cell_type": "code",
   "execution_count": 27,
   "id": "9c033d8e",
   "metadata": {},
   "outputs": [
    {
     "name": "stdout",
     "output_type": "stream",
     "text": [
      "0       16884.92400\n",
      "1        1725.55230\n",
      "2        4449.46200\n",
      "3       21984.47061\n",
      "4        3866.85520\n",
      "           ...     \n",
      "1333    10600.54830\n",
      "1334     2205.98080\n",
      "1335     1629.83350\n",
      "1336     2007.94500\n",
      "1337    29141.36030\n",
      "Name: charges, Length: 1338, dtype: float64\n"
     ]
    }
   ],
   "source": [
    "print(y)"
   ]
  },
  {
   "cell_type": "code",
   "execution_count": 28,
   "id": "2ae5b5c1",
   "metadata": {},
   "outputs": [
    {
     "data": {
      "text/plain": [
       "age         0\n",
       "sex         0\n",
       "bmi         0\n",
       "children    0\n",
       "smoker      0\n",
       "region      0\n",
       "dtype: int64"
      ]
     },
     "execution_count": 28,
     "metadata": {},
     "output_type": "execute_result"
    }
   ],
   "source": [
    "x.isnull().sum()"
   ]
  },
  {
   "cell_type": "code",
   "execution_count": 29,
   "id": "f6041961",
   "metadata": {},
   "outputs": [
    {
     "data": {
      "text/html": [
       "<div>\n",
       "<style scoped>\n",
       "    .dataframe tbody tr th:only-of-type {\n",
       "        vertical-align: middle;\n",
       "    }\n",
       "\n",
       "    .dataframe tbody tr th {\n",
       "        vertical-align: top;\n",
       "    }\n",
       "\n",
       "    .dataframe thead th {\n",
       "        text-align: right;\n",
       "    }\n",
       "</style>\n",
       "<table border=\"1\" class=\"dataframe\">\n",
       "  <thead>\n",
       "    <tr style=\"text-align: right;\">\n",
       "      <th></th>\n",
       "      <th>age</th>\n",
       "      <th>sex</th>\n",
       "      <th>bmi</th>\n",
       "      <th>children</th>\n",
       "      <th>smoker</th>\n",
       "      <th>region</th>\n",
       "    </tr>\n",
       "  </thead>\n",
       "  <tbody>\n",
       "    <tr>\n",
       "      <th>693</th>\n",
       "      <td>24</td>\n",
       "      <td>1</td>\n",
       "      <td>23.655</td>\n",
       "      <td>0</td>\n",
       "      <td>0</td>\n",
       "      <td>1</td>\n",
       "    </tr>\n",
       "    <tr>\n",
       "      <th>1297</th>\n",
       "      <td>28</td>\n",
       "      <td>0</td>\n",
       "      <td>26.510</td>\n",
       "      <td>2</td>\n",
       "      <td>0</td>\n",
       "      <td>2</td>\n",
       "    </tr>\n",
       "    <tr>\n",
       "      <th>634</th>\n",
       "      <td>51</td>\n",
       "      <td>1</td>\n",
       "      <td>39.700</td>\n",
       "      <td>1</td>\n",
       "      <td>0</td>\n",
       "      <td>3</td>\n",
       "    </tr>\n",
       "    <tr>\n",
       "      <th>1022</th>\n",
       "      <td>47</td>\n",
       "      <td>1</td>\n",
       "      <td>36.080</td>\n",
       "      <td>1</td>\n",
       "      <td>1</td>\n",
       "      <td>2</td>\n",
       "    </tr>\n",
       "    <tr>\n",
       "      <th>178</th>\n",
       "      <td>46</td>\n",
       "      <td>0</td>\n",
       "      <td>28.900</td>\n",
       "      <td>2</td>\n",
       "      <td>0</td>\n",
       "      <td>3</td>\n",
       "    </tr>\n",
       "  </tbody>\n",
       "</table>\n",
       "</div>"
      ],
      "text/plain": [
       "      age  sex     bmi  children  smoker  region\n",
       "693    24    1  23.655         0       0       1\n",
       "1297   28    0  26.510         2       0       2\n",
       "634    51    1  39.700         1       0       3\n",
       "1022   47    1  36.080         1       1       2\n",
       "178    46    0  28.900         2       0       3"
      ]
     },
     "execution_count": 29,
     "metadata": {},
     "output_type": "execute_result"
    }
   ],
   "source": [
    "xtrain.head()"
   ]
  },
  {
   "cell_type": "code",
   "execution_count": 30,
   "id": "e5aa82d3",
   "metadata": {},
   "outputs": [
    {
     "data": {
      "text/plain": [
       "693      2352.96845\n",
       "1297     4340.44090\n",
       "634      9391.34600\n",
       "1022    42211.13820\n",
       "178      8823.27900\n",
       "Name: charges, dtype: float64"
      ]
     },
     "execution_count": 30,
     "metadata": {},
     "output_type": "execute_result"
    }
   ],
   "source": [
    "ytrain.head()"
   ]
  },
  {
   "cell_type": "markdown",
   "id": "11b17a6a",
   "metadata": {},
   "source": [
    "# Multiple variable Linear Regression"
   ]
  },
  {
   "cell_type": "code",
   "execution_count": 31,
   "id": "38467e31",
   "metadata": {},
   "outputs": [],
   "source": [
    "from sklearn.linear_model import LinearRegression"
   ]
  },
  {
   "cell_type": "code",
   "execution_count": 32,
   "id": "f85772a1",
   "metadata": {},
   "outputs": [],
   "source": [
    "lr = LinearRegression()"
   ]
  },
  {
   "cell_type": "code",
   "execution_count": 33,
   "id": "40fc74e8",
   "metadata": {},
   "outputs": [
    {
     "data": {
      "text/plain": [
       "LinearRegression()"
      ]
     },
     "execution_count": 33,
     "metadata": {},
     "output_type": "execute_result"
    }
   ],
   "source": [
    "lr.fit(xtrain,ytrain)"
   ]
  },
  {
   "cell_type": "markdown",
   "id": "34bffe16",
   "metadata": {},
   "source": [
    "# find out the coef , intercept"
   ]
  },
  {
   "cell_type": "code",
   "execution_count": 34,
   "id": "5b0d8388",
   "metadata": {},
   "outputs": [],
   "source": [
    "# find out the coef , intercept\n",
    "# y = m1*x1 + m2*x2 + m3*x3 + c"
   ]
  },
  {
   "cell_type": "code",
   "execution_count": 35,
   "id": "742b7199",
   "metadata": {},
   "outputs": [
    {
     "data": {
      "text/plain": [
       "array([  259.870936  ,    48.14518497,   337.05864381,   427.52339986,\n",
       "       23622.50371905,  -299.04523816])"
      ]
     },
     "execution_count": 35,
     "metadata": {},
     "output_type": "execute_result"
    }
   ],
   "source": [
    "m=lr.coef_\n",
    "m"
   ]
  },
  {
   "cell_type": "code",
   "execution_count": 36,
   "id": "e30515b5",
   "metadata": {},
   "outputs": [
    {
     "data": {
      "text/plain": [
       "-12117.149214175588"
      ]
     },
     "execution_count": 36,
     "metadata": {},
     "output_type": "execute_result"
    }
   ],
   "source": [
    "c=lr.intercept_\n",
    "c"
   ]
  },
  {
   "cell_type": "code",
   "execution_count": 37,
   "id": "7ea3221d",
   "metadata": {},
   "outputs": [
    {
     "data": {
      "text/plain": [
       "array([9527.2163158])"
      ]
     },
     "execution_count": 37,
     "metadata": {},
     "output_type": "execute_result"
    }
   ],
   "source": [
    "#y = m1*x1 + m2*x2 + m3*x3 + c\n",
    "pred=lr.predict([[50,1,26.41,0,0,1]])\n",
    "#8827.2099\n",
    "pred"
   ]
  },
  {
   "cell_type": "markdown",
   "id": "e5c66321",
   "metadata": {},
   "source": [
    "# Predict the test results"
   ]
  },
  {
   "cell_type": "code",
   "execution_count": 38,
   "id": "ae398edf",
   "metadata": {},
   "outputs": [
    {
     "name": "stdout",
     "output_type": "stream",
     "text": [
      "[ 8917.54106359  7057.659731   36899.8708097   9546.15877323\n",
      " 26950.91414625 10756.81129984   110.22869716 17039.89853046\n",
      "   986.98094539 11318.40928727 27959.29316402  9452.32982265\n",
      "  5222.10612385 38466.47603466 40340.10507845 37149.4535954\n",
      " 15259.14589125 35895.17954336  9120.84172439 31442.58115369\n",
      "  3723.95224278 10051.46909241  2217.99081229  7016.63069487\n",
      " 11338.01161132 12930.95780971 14408.72962928  6129.47379121\n",
      "  9917.59150303  2169.52986706  8966.46437456 13123.3402391\n",
      "  4495.28487533  3386.82377135  4329.78730663 13041.80740785\n",
      "  1768.87632392  8665.74216929 33280.34641384 32602.75057167\n",
      "  3700.75706773  4343.42320809 14032.7103358  11545.84902818\n",
      "  8813.53969858 12062.88158511  5231.42419487  2955.58371562\n",
      " 35536.42907912  9183.63264624 15891.85804801  2337.51811118\n",
      " 12367.13541434  1414.32988846 13490.60701704 12602.54262341\n",
      "  4308.63712233 32184.47042804 13214.87046964 12863.21030069\n",
      " 14076.04891269 10469.90391052 16336.37459362  7774.84187511\n",
      " 11802.82508563  4029.33108287 26486.15437683 11027.11256277\n",
      "  2096.97771302  6064.83727901 10721.637692   11578.95483677\n",
      " 10992.72983587  9223.39533917 12023.20206194  6724.90862846\n",
      "  7213.13735107 10782.13217754  6539.12856312  8624.88453698\n",
      "  3764.48881283 36663.2782185   6200.97940875 30697.37330127\n",
      " 34822.63669716 35273.93782926  7052.54515928 12971.94926369\n",
      "  9955.94708085 14425.93642753 17690.14465368 35287.98215389\n",
      " 32952.46896641  6160.02799477 32008.52001777  9396.90376288\n",
      " 29449.90913095  3605.1142754  28258.12976573  5742.46142266\n",
      "  5381.60780509  1664.2576616  11557.59487047 15037.01991362\n",
      " 11756.24528626  4302.57000461  9966.60325688 31773.09447727\n",
      "  -154.6780985  32819.84880692  3128.04915059 10200.41192704\n",
      " 14301.90324008 31527.4016393  11418.71510632  3781.73762207\n",
      " 13161.4440507  31637.18162798  8136.43797073  3258.43015527\n",
      "  8353.18591653 10669.11152682 15187.49700717  5656.73092568\n",
      "  3752.40191715 10236.71948791 10899.50402294 11146.65457966\n",
      " 14481.60979581  7436.06478476  5351.73682708  9278.81110978\n",
      "  9322.21283643 12481.33308429  8176.20509249 15298.64456573\n",
      "  8386.36876005 31682.70260182 35769.06462731 31495.2441935\n",
      "  6000.98088264 12567.61242682  6028.1669944  14600.26662855\n",
      "  2505.56838628 32873.78792075  6316.68348629  4850.12062237\n",
      " 14383.67223845  6837.15505254 38686.02068531  3038.92613974\n",
      "  5877.17494902 31632.17523319 11559.20840188  8454.11626908\n",
      " 14865.94705571  9825.63007022 27004.82350926 33422.95758074\n",
      " 14537.30321296  1626.45151654 13149.34824172  2169.3348587\n",
      "  5315.27963663 11634.37198323 39687.19863024 36521.69996\n",
      " 33982.1327573   3695.36537895  7326.26344848  8502.6108992\n",
      " 12443.19892672  4857.08907584  1837.16491074 32161.52674473\n",
      " 24930.43619304 17608.77930012 26365.07282581 10209.46826332\n",
      " 37227.23025232  -564.69506257  6869.64578397  7607.72659178\n",
      "  4338.69867986  5059.92848968  5885.19471733  4118.36758503\n",
      " 15201.71543907 11242.83842092  6798.33766942  2390.84298069\n",
      "  1413.03074146 31802.63856156 16532.89066583 12031.87779961\n",
      "  1210.18409143 12505.18176293  1430.22584581  8607.96315303\n",
      "  1833.26353568 33989.66761847 10888.81360368  2614.44923996\n",
      " 25578.8601484  26265.98073498  9527.2163158   1756.14427962\n",
      " 13339.61497166   920.83166256 10358.91326598 10607.59334007\n",
      " 16894.36964973 26832.86045116  6999.14407026  5093.02678758\n",
      "  5816.67245802 13280.05779047 11145.06500231  8338.54267428\n",
      "  5080.82996073 12386.82952021 13914.03902275 35813.35824484\n",
      "  4172.06437753 28909.81325758 -1133.32908206  2880.12243093\n",
      " 11135.71770411 15706.35173195  5210.80617505  6921.13180455\n",
      "  3668.66165292 31201.04452143  7277.06445403 12487.19238307\n",
      "  5650.32749613  9442.13932242 36283.94759108  4432.53648811\n",
      "  9655.0771802  31013.24977451  5704.04627963  4553.72266831\n",
      "  1054.94987468  4859.32183875  4386.26078398  6394.60088835\n",
      " 18693.15757914 -1538.71638948  2160.06964827 10609.43802256\n",
      "  2958.21428978 10188.30778985  3675.76807093  5072.45719952\n",
      " 12367.11122259  6247.46237347  8253.5472003   7500.02334453\n",
      "  8931.42567829 10544.49944175 27797.18395273 39154.66599301\n",
      " 11814.20318814  7679.68343157 40920.24487583 12194.06182569\n",
      "  7117.2353475   8294.05099542  9177.32686677 11125.19646852\n",
      " 10136.05537396 17682.5964215    893.40070806 23499.84619171\n",
      " 12650.28469514 33123.65334017  5178.50938884 13248.73962056\n",
      " 10403.96132784 17771.10715109  9821.65332204 11480.47115671\n",
      " 32124.5231745   3265.44701162 13682.92407652 39412.79599671\n",
      "  5472.63365892  6136.43831854  3319.43954439 11317.85149954\n",
      " 25428.80452628 14122.60868413  9358.61024491 10065.2310189\n",
      " 13564.6978877    843.64395475  2456.41586052 30725.21622669\n",
      " 29873.38202887 13635.4929867   3687.02404568 25393.16213404\n",
      " 13530.97923951 30727.23090827  3390.89342012 39006.69596999\n",
      " 11223.84478211  4865.04204274  6700.2924646   2559.97681609\n",
      " 25884.45292694 14288.06007803   435.08106925 12682.72204443\n",
      " 12748.74222039 14952.21916205 35052.75631715 14390.94809722\n",
      " 31660.1862235   9911.10543529 18103.23344774  5841.15315197\n",
      "  9009.61237193  9256.68225353 15367.74355077  9001.04597822\n",
      "  8308.57264147 14934.15496741 12761.07258295 14755.05987542\n",
      "  7352.51899731 26088.98097292  9295.93137048]\n"
     ]
    }
   ],
   "source": [
    "pred = lr.predict(xtest)\n",
    "print(pred)\n"
   ]
  },
  {
   "cell_type": "code",
   "execution_count": 39,
   "id": "c6404bbe",
   "metadata": {
    "scrolled": false
   },
   "outputs": [
    {
     "data": {
      "text/plain": [
       "0.7668905583460909"
      ]
     },
     "execution_count": 39,
     "metadata": {},
     "output_type": "execute_result"
    }
   ],
   "source": [
    "lr_score=lr.score(xtest,ytest)\n",
    "lr_score"
   ]
  },
  {
   "cell_type": "code",
   "execution_count": 40,
   "id": "0c6aaecd",
   "metadata": {},
   "outputs": [
    {
     "data": {
      "text/plain": [
       "0.750575745785053"
      ]
     },
     "execution_count": 40,
     "metadata": {},
     "output_type": "execute_result"
    }
   ],
   "source": [
    "lr.score(x,y)"
   ]
  },
  {
   "cell_type": "markdown",
   "id": "3695aa1b",
   "metadata": {},
   "source": [
    "# KNN Regressor"
   ]
  },
  {
   "cell_type": "code",
   "execution_count": 41,
   "id": "024f17c5",
   "metadata": {},
   "outputs": [],
   "source": [
    "from sklearn.neighbors import KNeighborsRegressor"
   ]
  },
  {
   "cell_type": "code",
   "execution_count": 42,
   "id": "dba7cfa6",
   "metadata": {},
   "outputs": [],
   "source": [
    "\n",
    "knr = KNeighborsRegressor(n_neighbors=3)"
   ]
  },
  {
   "cell_type": "code",
   "execution_count": 43,
   "id": "ab6b31eb",
   "metadata": {},
   "outputs": [
    {
     "data": {
      "text/plain": [
       "KNeighborsRegressor(n_neighbors=3)"
      ]
     },
     "execution_count": 43,
     "metadata": {},
     "output_type": "execute_result"
    }
   ],
   "source": [
    "kn=knr.fit(xtest,ytest)\n",
    "kn"
   ]
  },
  {
   "cell_type": "code",
   "execution_count": 44,
   "id": "ee8bd601",
   "metadata": {},
   "outputs": [
    {
     "name": "stdout",
     "output_type": "stream",
     "text": [
      "[ 9370.93426667 15810.4546     28985.1606      9370.93426667\n",
      " 12703.04488333  4804.69483333  5855.88883333 14333.08555\n",
      "  7372.70485    10212.6852     13851.52281667  7481.17441667\n",
      "  9584.13452    22309.73966667 25020.09826667 32159.0694\n",
      " 22682.6495     31766.09693333  8337.8092     27360.88211667\n",
      "  9137.95133333  7349.6297     11645.38203333 14187.95481667\n",
      " 15780.94998    10696.81665    12412.09733333  8691.67781667\n",
      " 14139.6801      1523.76553333 10381.74131    22813.57473333\n",
      "  2033.30613333 14545.73188333  2976.6856      7444.13196667\n",
      "  7279.13586667 12404.40236667 24750.14889333 16596.97443333\n",
      " 15041.18754667  2386.1045     11543.96756667 12325.92913333\n",
      " 16336.42313333 11815.415       2493.48366667  4355.30628333\n",
      " 30615.65263333 16021.40153333 36589.06203333  1523.76553333\n",
      " 13820.13401333  1846.38395    13992.44895667 14648.98166333\n",
      "  4040.70286667 38354.96093333 11978.43191667 10451.70751667\n",
      " 24744.2434      4714.66376667 18069.42749333 12363.05648333\n",
      " 24902.53747     4004.94406667 12541.71753333 20490.67674667\n",
      "  7529.48141667 13882.0418     29025.4002     18899.6422\n",
      "  8800.83588333  6484.11153333 18887.26753333  4970.76086667\n",
      "  9176.3256     14746.98672    14622.84311667  9500.22051667\n",
      "  8784.85134333 28985.1606      9649.4419     14301.0985\n",
      " 16421.91493333 25088.58651333  4870.05311667 14102.35145667\n",
      "  7766.32978333 30465.98509667 14371.06215    18327.82136667\n",
      " 13883.93951667  4598.52635    18525.87603333  7423.993\n",
      "  9490.74056667 12570.48486667 14078.22343333 13015.33809333\n",
      "  4300.61073333  1624.95233333 13598.66969667 11767.406\n",
      " 12628.16418333 19750.11707667  7793.33808333 18410.85606667\n",
      "  5855.88883333 22776.0903      8818.18467667  3982.2891\n",
      " 12823.05118333 26968.08333333  9351.51088333  8818.18467667\n",
      " 18566.66278667 23136.7074      5491.6572      2544.9509\n",
      " 15938.51618333  6903.5783     30510.10483     2281.31631667\n",
      "  4460.95173333 18045.40988333 18877.41803333  9351.51088333\n",
      " 12374.9864     13882.0418      4171.273      16728.7914\n",
      "  5672.04236667 19455.71786667  6075.36286667 12412.09733333\n",
      " 18177.07768333 22437.16806667 19289.15015    15810.4546\n",
      "  5535.7069      9904.91711667  2626.2749     18248.82659667\n",
      "  7300.77193333 18072.43596667  5024.11376667  3762.80656667\n",
      " 30523.38414667 15043.9156     30523.38414667  2544.9509\n",
      "  5654.14378333 18535.75076667 13820.13401333  7506.18361667\n",
      " 13632.82463333  8337.8092     19800.96041    18045.40988333\n",
      " 12823.05118333  7290.27838333 23785.77641667  6981.99793333\n",
      "  8150.96996333 30615.65263333 25230.9999     22813.57473333\n",
      " 18532.92025     2976.6856      8766.36605     6075.36286667\n",
      " 13614.75271333  4040.70286667  2302.60716667 22201.21948333\n",
      " 11708.77586667 14046.0074     14053.41396667 15350.77700333\n",
      " 28985.1606      3028.35575     8934.6926      8205.35409\n",
      "  9565.06361667  8031.80269667  9680.70567     3947.55931667\n",
      "  9267.89176667 11004.65635    14698.71923333  3364.93483967\n",
      "  2426.15903333 29395.48512333 25338.77721667  9674.18928333\n",
      "  2350.6589     15245.57297     2205.98138333 14959.09589333\n",
      "  7529.48141667 20112.94202667  4518.6872     13885.12763\n",
      " 12044.6471      7957.62505    14050.9721      3043.75446667\n",
      " 20044.19953333  3393.95595    17803.35673333 15159.02193667\n",
      " 21384.6372     12475.83016667 12363.05648333  4300.61073333\n",
      "  9490.74056667 13087.00023333 12628.16418333  5364.73943333\n",
      "  1986.5302     19126.85441667  5776.05113333 18958.37133333\n",
      "  2124.40856667 13677.02051667  1984.03195    11773.13673333\n",
      " 13803.87653667 22309.73966667  1986.5302     13610.36938333\n",
      "  9169.47651667 27249.35945    13610.36938333  8826.17123333\n",
      "  8691.67781667  6341.76503333 30721.99036667  1916.8365\n",
      " 13192.14725    40082.23752333  2803.88015     2976.6856\n",
      "  2350.6589      3323.28313333  9095.51274333  4295.99233333\n",
      " 28721.28357     2173.49101667  1624.95233333  7685.14526667\n",
      "  7957.62505    15350.77700333  9661.64691333  7924.38909667\n",
      " 12468.895       2878.98693333 12815.73548333 10409.54028667\n",
      " 10381.74131    13167.25318333  8181.18676667 35943.9991\n",
      " 12521.66173333  6464.87466667 41210.93883667  9674.18928333\n",
      "  8934.6926     17719.88445    19979.24682667  7916.0706\n",
      " 15504.03383333 13405.9504      2283.776       5855.88883333\n",
      " 13614.75271333 27667.2293     17514.69052667  8826.17123333\n",
      "  9351.51088333 14314.38928333  9662.54463333 25088.58651333\n",
      " 27686.34326667  6892.32003333 17465.86896333 22682.6495\n",
      "  4468.6396      2281.31631667 12891.85078333 11840.7241\n",
      "  7372.70485    10492.77026667  9662.54463333 15254.86695\n",
      "  8826.17123333  3254.66156667  2333.38543333 13882.0418\n",
      " 18200.35812333  6183.10261667  9499.77121333  6931.25316667\n",
      " 13024.71456667 40082.23752333  2272.85431667 35802.43776667\n",
      "  4804.69483333  5669.12478333  5485.08325     1523.76553333\n",
      "  7183.27005    24744.2434      1995.07533333 11193.29196667\n",
      " 13992.44895667 12141.65485    18134.15765    11279.74525\n",
      " 17245.67483333  7526.5448     13994.17663333  4191.14176667\n",
      "  8337.8092      8164.5681     18489.49307667 18410.85606667\n",
      " 19280.80969333 11540.90466667 18566.66278667 12141.65485\n",
      "  8205.35409    11645.38203333  6313.76983333]\n"
     ]
    }
   ],
   "source": [
    "kpred=knr.predict(xtest)    # prediction\n",
    "print(kpred)"
   ]
  },
  {
   "cell_type": "code",
   "execution_count": 45,
   "id": "a41f1734",
   "metadata": {},
   "outputs": [
    {
     "data": {
      "text/plain": [
       "0.4902964875585232"
      ]
     },
     "execution_count": 45,
     "metadata": {},
     "output_type": "execute_result"
    }
   ],
   "source": [
    "knn_score=knr.score(xtest,ytest)\n",
    "knn_score"
   ]
  },
  {
   "cell_type": "markdown",
   "id": "ba2a6e7a",
   "metadata": {},
   "source": [
    "# Accuracy = LR VS KNN"
   ]
  },
  {
   "cell_type": "code",
   "execution_count": 46,
   "id": "f74ced58",
   "metadata": {},
   "outputs": [
    {
     "data": {
      "text/plain": [
       "0.7668905583460909"
      ]
     },
     "execution_count": 46,
     "metadata": {},
     "output_type": "execute_result"
    }
   ],
   "source": [
    "lr_score\n"
   ]
  },
  {
   "cell_type": "code",
   "execution_count": 47,
   "id": "d738bb71",
   "metadata": {},
   "outputs": [
    {
     "data": {
      "text/plain": [
       "0.4902964875585232"
      ]
     },
     "execution_count": 47,
     "metadata": {},
     "output_type": "execute_result"
    }
   ],
   "source": [
    "knn_score"
   ]
  },
  {
   "cell_type": "code",
   "execution_count": 48,
   "id": "ff4f576c",
   "metadata": {},
   "outputs": [
    {
     "data": {
      "text/plain": [
       "0.2765940707875677"
      ]
     },
     "execution_count": 48,
     "metadata": {},
     "output_type": "execute_result"
    }
   ],
   "source": [
    "com=lr_score-knn_score\n",
    "com"
   ]
  },
  {
   "cell_type": "code",
   "execution_count": 49,
   "id": "1fbdf804",
   "metadata": {},
   "outputs": [
    {
     "data": {
      "text/plain": [
       "{'Algorithm_name': ['Linear Regression', 'KNN Regressor'],\n",
       " 'Accuracy': [0.7668905583460909, 0.4902964875585232]}"
      ]
     },
     "execution_count": 49,
     "metadata": {},
     "output_type": "execute_result"
    }
   ],
   "source": [
    "data={\n",
    "    'Algorithm_name': ['Linear Regression', 'KNN Regressor'],\n",
    "    'Accuracy': [lr_score, knn_score],\n",
    "}\n",
    "data"
   ]
  },
  {
   "cell_type": "code",
   "execution_count": 50,
   "id": "74976d40",
   "metadata": {},
   "outputs": [
    {
     "data": {
      "text/html": [
       "<div>\n",
       "<style scoped>\n",
       "    .dataframe tbody tr th:only-of-type {\n",
       "        vertical-align: middle;\n",
       "    }\n",
       "\n",
       "    .dataframe tbody tr th {\n",
       "        vertical-align: top;\n",
       "    }\n",
       "\n",
       "    .dataframe thead th {\n",
       "        text-align: right;\n",
       "    }\n",
       "</style>\n",
       "<table border=\"1\" class=\"dataframe\">\n",
       "  <thead>\n",
       "    <tr style=\"text-align: right;\">\n",
       "      <th></th>\n",
       "      <th>Algorithm_name</th>\n",
       "      <th>Accuracy</th>\n",
       "    </tr>\n",
       "  </thead>\n",
       "  <tbody>\n",
       "    <tr>\n",
       "      <th>0</th>\n",
       "      <td>Linear Regression</td>\n",
       "      <td>0.766891</td>\n",
       "    </tr>\n",
       "    <tr>\n",
       "      <th>1</th>\n",
       "      <td>KNN Regressor</td>\n",
       "      <td>0.490296</td>\n",
       "    </tr>\n",
       "  </tbody>\n",
       "</table>\n",
       "</div>"
      ],
      "text/plain": [
       "      Algorithm_name  Accuracy\n",
       "0  Linear Regression  0.766891\n",
       "1      KNN Regressor  0.490296"
      ]
     },
     "execution_count": 50,
     "metadata": {},
     "output_type": "execute_result"
    }
   ],
   "source": [
    "ds = pd.DataFrame(data)\n",
    "ds"
   ]
  },
  {
   "cell_type": "code",
   "execution_count": 51,
   "id": "22c4e624",
   "metadata": {},
   "outputs": [
    {
     "data": {
      "image/png": "[encoded data removed]",
      "text/plain": [
       "<Figure size 432x288 with 1 Axes>"
      ]
     },
     "metadata": {},
     "output_type": "display_data"
    }
   ],
   "source": [
    "sns.set(style=\"whitegrid\")\n",
    "sns.barplot(y='Algorithm_name', x='Accuracy', data=ds, palette=\"Set1\").set(title='Accuracy Plot')\n",
    "sns.set(rc={'figure.figsize':(8,4)})"
   ]
  },
  {
   "cell_type": "markdown",
   "id": "82fbba17",
   "metadata": {},
   "source": [
    "# Evaluate the model"
   ]
  },
  {
   "cell_type": "code",
   "execution_count": 52,
   "id": "9a6bbfe2",
   "metadata": {},
   "outputs": [
    {
     "data": {
      "text/plain": [
       "76.68905583460909"
      ]
     },
     "execution_count": 52,
     "metadata": {},
     "output_type": "execute_result"
    }
   ],
   "source": [
    "from sklearn.metrics import r2_score\n",
    "r2_score(ytest, pred) *100"
   ]
  },
  {
   "cell_type": "markdown",
   "id": "2a35979a",
   "metadata": {},
   "source": [
    "# Plot the results"
   ]
  },
  {
   "cell_type": "code",
   "execution_count": 53,
   "id": "adbb6132",
   "metadata": {},
   "outputs": [
    {
     "data": {
      "text/plain": [
       "Text(0.5, 1.0, 'Value Comparison')"
      ]
     },
     "execution_count": 53,
     "metadata": {},
     "output_type": "execute_result"
    },
    {
     "data": {
      "image/png": "[encoded data removed]",
      "text/plain": [
       "<Figure size 864x720 with 1 Axes>"
      ]
     },
     "metadata": {},
     "output_type": "display_data"
    }
   ],
   "source": [
    "import matplotlib.pyplot as plt\n",
    "plt.figure(figsize=(12,10))\n",
    "plt.scatter(ytest, pred, marker='*')\n",
    "plt.xlabel('Actual Values')\n",
    "plt.ylabel('Predicted Values')\n",
    "plt.title('Value Comparison')"
   ]
  },
  {
   "cell_type": "markdown",
   "id": "a79f9752",
   "metadata": {},
   "source": [
    "# Actual & Predict the values and their Differences"
   ]
  },
  {
   "cell_type": "code",
   "execution_count": 54,
   "id": "3b1c7be5",
   "metadata": {},
   "outputs": [
    {
     "data": {
      "text/html": [
       "<div>\n",
       "<style scoped>\n",
       "    .dataframe tbody tr th:only-of-type {\n",
       "        vertical-align: middle;\n",
       "    }\n",
       "\n",
       "    .dataframe tbody tr th {\n",
       "        vertical-align: top;\n",
       "    }\n",
       "\n",
       "    .dataframe thead th {\n",
       "        text-align: right;\n",
       "    }\n",
       "</style>\n",
       "<table border=\"1\" class=\"dataframe\">\n",
       "  <thead>\n",
       "    <tr style=\"text-align: right;\">\n",
       "      <th></th>\n",
       "      <th>Actual Values</th>\n",
       "      <th>Predicted Values</th>\n",
       "      <th>Differences</th>\n",
       "    </tr>\n",
       "  </thead>\n",
       "  <tbody>\n",
       "    <tr>\n",
       "      <th>764</th>\n",
       "      <td>9095.06825</td>\n",
       "      <td>8917.541064</td>\n",
       "      <td>177.527186</td>\n",
       "    </tr>\n",
       "    <tr>\n",
       "      <th>887</th>\n",
       "      <td>5272.17580</td>\n",
       "      <td>7057.659731</td>\n",
       "      <td>-1785.483931</td>\n",
       "    </tr>\n",
       "    <tr>\n",
       "      <th>890</th>\n",
       "      <td>29330.98315</td>\n",
       "      <td>36899.870810</td>\n",
       "      <td>-7568.887660</td>\n",
       "    </tr>\n",
       "    <tr>\n",
       "      <th>1293</th>\n",
       "      <td>9301.89355</td>\n",
       "      <td>9546.158773</td>\n",
       "      <td>-244.265223</td>\n",
       "    </tr>\n",
       "    <tr>\n",
       "      <th>259</th>\n",
       "      <td>33750.29180</td>\n",
       "      <td>26950.914146</td>\n",
       "      <td>6799.377654</td>\n",
       "    </tr>\n",
       "    <tr>\n",
       "      <th>...</th>\n",
       "      <td>...</td>\n",
       "      <td>...</td>\n",
       "      <td>...</td>\n",
       "    </tr>\n",
       "    <tr>\n",
       "      <th>342</th>\n",
       "      <td>13217.09450</td>\n",
       "      <td>12761.072583</td>\n",
       "      <td>456.021917</td>\n",
       "    </tr>\n",
       "    <tr>\n",
       "      <th>308</th>\n",
       "      <td>11944.59435</td>\n",
       "      <td>14755.059875</td>\n",
       "      <td>-2810.465525</td>\n",
       "    </tr>\n",
       "    <tr>\n",
       "      <th>1128</th>\n",
       "      <td>14358.36437</td>\n",
       "      <td>7352.518997</td>\n",
       "      <td>7005.845373</td>\n",
       "    </tr>\n",
       "    <tr>\n",
       "      <th>503</th>\n",
       "      <td>32548.34050</td>\n",
       "      <td>26088.980973</td>\n",
       "      <td>6459.359527</td>\n",
       "    </tr>\n",
       "    <tr>\n",
       "      <th>1197</th>\n",
       "      <td>5699.83750</td>\n",
       "      <td>9295.931370</td>\n",
       "      <td>-3596.093870</td>\n",
       "    </tr>\n",
       "  </tbody>\n",
       "</table>\n",
       "<p>335 rows × 3 columns</p>\n",
       "</div>"
      ],
      "text/plain": [
       "      Actual Values  Predicted Values  Differences\n",
       "764      9095.06825       8917.541064   177.527186\n",
       "887      5272.17580       7057.659731 -1785.483931\n",
       "890     29330.98315      36899.870810 -7568.887660\n",
       "1293     9301.89355       9546.158773  -244.265223\n",
       "259     33750.29180      26950.914146  6799.377654\n",
       "...             ...               ...          ...\n",
       "342     13217.09450      12761.072583   456.021917\n",
       "308     11944.59435      14755.059875 -2810.465525\n",
       "1128    14358.36437       7352.518997  7005.845373\n",
       "503     32548.34050      26088.980973  6459.359527\n",
       "1197     5699.83750       9295.931370 -3596.093870\n",
       "\n",
       "[335 rows x 3 columns]"
      ]
     },
     "execution_count": 54,
     "metadata": {},
     "output_type": "execute_result"
    }
   ],
   "source": [
    "df_pred_y = pd.DataFrame({'Actual Values': ytest, 'Predicted Values': pred, 'Differences': ytest - pred })\n",
    "df_pred_y"
   ]
  },
  {
   "cell_type": "code",
   "execution_count": null,
   "id": "0ade18aa",
   "metadata": {},
   "outputs": [],
   "source": []
  },
  {
   "cell_type": "code",
   "execution_count": null,
   "id": "e836edd5",
   "metadata": {},
   "outputs": [],
   "source": []
  }
 ],
 "metadata": {
  "kernelspec": {
   "display_name": "Python 3 (ipykernel)",
   "language": "python",
   "name": "python3"
  },
  "language_info": {
   "codemirror_mode": {
    "name": "ipython",
    "version": 3
   },
   "file_extension": ".py",
   "mimetype": "text/x-python",
   "name": "python",
   "nbconvert_exporter": "python",
   "pygments_lexer": "ipython3",
   "version": "3.9.12"
  }
 },
 "nbformat": 4,
 "nbformat_minor": 5
}
